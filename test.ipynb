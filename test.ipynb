{
 "cells": [
  {
   "cell_type": "code",
   "execution_count": 1,
   "metadata": {},
   "outputs": [
    {
     "data": {
      "text/plain": [
       "0.9487183850975156"
      ]
     },
     "execution_count": 1,
     "metadata": {},
     "output_type": "execute_result"
    }
   ],
   "source": [
    "import random\n",
    "from collections import deque"
   ]
  },
  {
   "cell_type": "code",
   "execution_count": 213,
   "metadata": {},
   "outputs": [
    {
     "name": "stdout",
     "output_type": "stream",
     "text": [
      "[16, 2, 14, 17, 4, 13, 11, 2, 5, 3, 3, 6, 19, 19, 12, 1, 9, 2, 9, 11, 8, 1, 6]\n"
     ]
    }
   ],
   "source": [
    "l = [random.randrange(1, 20, 1) for _ in range(random.randrange(1, 100, 1))]\n",
    "len(l)\n",
    "queue = deque(l)\n",
    "print(l)"
   ]
  },
  {
   "cell_type": "code",
   "execution_count": 214,
   "metadata": {},
   "outputs": [],
   "source": [
    "inversions = 0\n",
    "joined_pairs = []\n",
    "while len(queue) > 1:\n",
    "    left = queue.popleft()\n",
    "    right = queue.popleft()\n",
    "    if len(queue) == 1:\n",
    "        last = queue.pop()\n",
    "        inversions += [(left <= right), (right <= last), (left <= last)].count(False)\n",
    "        joined_pairs.append(sorted([left, right, last]))\n",
    "        break\n",
    "    if left > right:\n",
    "        inversions += 1\n",
    "        left, right = right, left\n",
    "    joined_pairs.append([left, right])\n",
    "    "
   ]
  },
  {
   "cell_type": "code",
   "execution_count": 215,
   "metadata": {},
   "outputs": [
    {
     "data": {
      "text/plain": [
       "[[2, 16],\n",
       " [14, 17],\n",
       " [4, 13],\n",
       " [2, 11],\n",
       " [3, 5],\n",
       " [3, 6],\n",
       " [19, 19],\n",
       " [1, 12],\n",
       " [2, 9],\n",
       " [9, 11],\n",
       " [1, 6, 8]]"
      ]
     },
     "execution_count": 215,
     "metadata": {},
     "output_type": "execute_result"
    }
   ],
   "source": [
    "joined_pairs"
   ]
  },
  {
   "cell_type": "code",
   "execution_count": 216,
   "metadata": {},
   "outputs": [
    {
     "ename": "KeyboardInterrupt",
     "evalue": "",
     "output_type": "error",
     "traceback": [
      "\u001b[0;31m---------------------------------------------------------------------------\u001b[0m",
      "\u001b[0;31mKeyboardInterrupt\u001b[0m                         Traceback (most recent call last)",
      "Cell \u001b[0;32mIn[216], line 4\u001b[0m\n\u001b[1;32m      2\u001b[0m \u001b[39mwhile\u001b[39;00m \u001b[39mlen\u001b[39m(final_joined) \u001b[39m>\u001b[39m \u001b[39m1\u001b[39m:\n\u001b[1;32m      3\u001b[0m     \u001b[39mwhile\u001b[39;00m \u001b[39mlen\u001b[39m(joined_pairs) \u001b[39m>\u001b[39m \u001b[39m1\u001b[39m:\n\u001b[0;32m----> 4\u001b[0m         joined_pairs \u001b[39m=\u001b[39m deque(joined_pairs)\n\u001b[1;32m      5\u001b[0m         joined \u001b[39m=\u001b[39m []\n\u001b[1;32m      6\u001b[0m         l_p \u001b[39m=\u001b[39m deque(joined_pairs\u001b[39m.\u001b[39mpopleft())\n",
      "\u001b[0;31mKeyboardInterrupt\u001b[0m: "
     ]
    }
   ],
   "source": [
    "final_joined = joined_pairs.copy()\n",
    "while len(final_joined) > 1:\n",
    "    while len(joined_pairs) > 1:\n",
    "        joined_pairs = deque(joined_pairs)\n",
    "        joined = []\n",
    "        l_p = deque(joined_pairs.popleft())\n",
    "        r_p = deque(joined_pairs.popleft())\n",
    "        while l_p and r_p:\n",
    "            l = l_p.popleft()\n",
    "            r = r_p.popleft()\n",
    "            if l <= r:\n",
    "                joined.append(l)\n",
    "                r_p.appendleft(r)\n",
    "\n",
    "            else:\n",
    "                inversions += len(l_p)\n",
    "                joined.append(r)\n",
    "                l_p.appendleft(l)\n",
    "        if len(r_p) > 0:\n",
    "            joined.extend(r_p)\n",
    "        if len(l_p) > 0:\n",
    "            joined.extend(l_p)\n",
    "        final_joined.append(joined)\n",
    "    if len(joined_pairs) == 1:\n",
    "        final_joined.append(joined_pairs)\n",
    "    \n",
    "    joined_pairs.clear()\n",
    "    joined_pairs = final_joined.copy()"
   ]
  }
 ],
 "metadata": {
  "kernelspec": {
   "display_name": "Python 3.8.5 64-bit",
   "language": "python",
   "name": "python3"
  },
  "language_info": {
   "codemirror_mode": {
    "name": "ipython",
    "version": 3
   },
   "file_extension": ".py",
   "mimetype": "text/x-python",
   "name": "python",
   "nbconvert_exporter": "python",
   "pygments_lexer": "ipython3",
   "version": "3.8.5"
  },
  "orig_nbformat": 4,
  "vscode": {
   "interpreter": {
    "hash": "aee8b7b246df8f9039afb4144a1f6fd8d2ca17a180786b69acc140d282b71a49"
   }
  }
 },
 "nbformat": 4,
 "nbformat_minor": 2
}
