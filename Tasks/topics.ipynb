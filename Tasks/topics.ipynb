{
 "cells": [
  {
   "attachments": {},
   "cell_type": "markdown",
   "metadata": {},
   "source": [
    "#  Примеры задач и вопросов на собеседовании\n",
    "\n",
    "##  Блок №1 Python"
   ]
  },
  {
   "attachments": {},
   "cell_type": "markdown",
   "metadata": {},
   "source": [
    "### Общие вопросы"
   ]
  },
  {
   "attachments": {},
   "cell_type": "markdown",
   "metadata": {},
   "source": [
    "> Типы данных в Python. Какие бывают?"
   ]
  },
  {
   "cell_type": "code",
   "execution_count": null,
   "metadata": {},
   "outputs": [],
   "source": [
    "# Ответ:\n",
    "\n",
    "\n",
    "\n",
    "# Изменяемые (list, dict, set) и неизменяемые (int, bool, string, touple)"
   ]
  },
  {
   "cell_type": "code",
   "execution_count": null,
   "metadata": {},
   "outputs": [],
   "source": [
    "# Что вернет код?\n",
    "string = \"kjdfkkf\"\n",
    "string[2] = \"z\""
   ]
  },
  {
   "attachments": {},
   "cell_type": "markdown",
   "metadata": {},
   "source": [
    "> Как передаются изменяемые и неизменяемые аргументы в функцию?"
   ]
  },
  {
   "cell_type": "code",
   "execution_count": null,
   "metadata": {},
   "outputs": [],
   "source": [
    "def foo(some_arg : list = []):\n",
    "    some_arg.append(1)\n",
    "    return some_arg\n",
    "\n",
    "print(foo())\n",
    "print(foo())\n",
    "\n",
    "# Аргумент по умолчанию считывается один раз и складывается в ячейку памяти, \n",
    "# при каждом вызове функции обращение происходит именно к этой ячейке"
   ]
  },
  {
   "attachments": {},
   "cell_type": "markdown",
   "metadata": {},
   "source": [
    "> В чем разница между **==** и **is**?"
   ]
  },
  {
   "cell_type": "code",
   "execution_count": null,
   "metadata": {},
   "outputs": [],
   "source": [
    "a = [1, 2, 3]\n",
    "b = [1, 2, 3]\n",
    "c = b\n",
    "\n",
    "print(a == b)\n",
    "print(a is b)\n",
    "print(c == b)\n",
    "print(c is b)"
   ]
  },
  {
   "cell_type": "code",
   "execution_count": null,
   "metadata": {},
   "outputs": [],
   "source": [
    "a = 5\n",
    "b = 5\n",
    "a is b"
   ]
  },
  {
   "cell_type": "code",
   "execution_count": null,
   "metadata": {},
   "outputs": [],
   "source": [
    "a = 257\n",
    "b = 257\n",
    "a is b"
   ]
  },
  {
   "cell_type": "code",
   "execution_count": null,
   "metadata": {},
   "outputs": [],
   "source": [
    "# Ответ:\n",
    "\n",
    "\n",
    "\n",
    "# Оператор == сранивает по значению, а is по адресу в памяти"
   ]
  },
  {
   "attachments": {},
   "cell_type": "markdown",
   "metadata": {},
   "source": [
    "> Что такое args и kwargs?"
   ]
  },
  {
   "cell_type": "code",
   "execution_count": null,
   "metadata": {},
   "outputs": [],
   "source": [
    "# *args — это сокращение от «arguments» (неименованные аргументы),\n",
    "# а **kwargs — сокращение от «keyword arguments» (именованные аргументы). \n",
    "# *args и **kwargs — специальный синтаксис, позволяющий передавать в функцию переменное количество аргументов.\n",
    "\n",
    "# Если поставить * перед именем, это имя будет принимать не один аргумент, а несколько. \n",
    "# Аргументы передаются как кортеж и доступны внутри функции под тем же именем, что и имя параметра, только без * \n",
    "\n",
    "# Если поставить ** перед именем, это имя будет принимать любое количество именованных аргументов. \n",
    "# Кортеж/словарь из нескольких переданных аргументов будет доступен под этим именем. "
   ]
  },
  {
   "attachments": {},
   "cell_type": "markdown",
   "metadata": {},
   "source": [
    "> Что такое аннотации типов и зачем они нужны?"
   ]
  },
  {
   "cell_type": "code",
   "execution_count": null,
   "metadata": {},
   "outputs": [],
   "source": [
    "# Это подсказка типа переменной/аргумента/поля для программиста или линтера в аргментах функций, классах\n",
    "\n",
    "def indent_right(s: str, width: int) -> str:\n",
    "    return \" \" * (max(0, width - len(s))) + s"
   ]
  },
  {
   "attachments": {},
   "cell_type": "markdown",
   "metadata": {},
   "source": [
    "> Что такое lambda-функция?\n",
    ">> - Как выбрать из списка **a** только четные значения?\n",
    ">> - Как возвести все значения из списка в квадрат?"
   ]
  },
  {
   "cell_type": "code",
   "execution_count": null,
   "metadata": {},
   "outputs": [],
   "source": [
    "# Лямбда-функции в Python являются анонимными. Это означает, что функция безымянна. \n",
    "# Ключевое слов def используется для определения обычной функции, \n",
    "# ключевое слово  lambda - для анонимной функции.\n",
    "\n",
    "# Синтаксис: \n",
    "# lambda аргументы: выражение\n",
    "\n",
    "# Эта функция может иметь любое количество аргументов, но вычисляет и возвращает только одно значение\n"
   ]
  },
  {
   "cell_type": "code",
   "execution_count": null,
   "metadata": {},
   "outputs": [],
   "source": [
    "a = [1, 2, 3]\n",
    "\n",
    "\n",
    "b = list(filter(lambda x: x % 2 == 0, a))\n",
    "c = list(map(lambda x: x**2, a))"
   ]
  },
  {
   "attachments": {},
   "cell_type": "markdown",
   "metadata": {},
   "source": [
    "> Что такое тернарный оператор?"
   ]
  },
  {
   "cell_type": "code",
   "execution_count": null,
   "metadata": {},
   "outputs": [],
   "source": [
    "# Шаблон:\n",
    "# condition_if_true if condition else condition_if_false\n",
    "\n",
    "# Пример:\n",
    "some_expr = True\n",
    "5 if some_expr else -1\n",
    "\n",
    "# Другим вариантом является использование кортежей.\n",
    "# Шаблон:\n",
    "# (if_test_is_false, if_test_is_true)[test]\n",
    "\n",
    "# Это работает поскольку в Python True == 1 и False == 0.\n",
    "\n",
    "# Пример:\n",
    "nice = True\n",
    "personality = (\"вредная\", \"добрая\")[nice]\n",
    "print(\"Кошка \", personality)\n",
    "# Вывод: Кошка добрая\n",
    "\n",
    "# Сокращенный тернарный оператор:\n",
    "print(True or \"Some\")\n",
    "print(False or \"Some\")"
   ]
  },
  {
   "attachments": {},
   "cell_type": "markdown",
   "metadata": {},
   "source": [
    "> Что такое копия и глубокая копия?"
   ]
  },
  {
   "cell_type": "code",
   "execution_count": null,
   "metadata": {},
   "outputs": [],
   "source": [
    "# При глубоком копирование новый объект хранит копии значений объекта, \n",
    "# тогда как при поверхностным копирование новый объект хранить ссылки на исходный адрес памяти\n",
    "\n",
    "# Глубокая копия не отражает изменения, внесенные в новый/скопированный объект в исходном объекте;\n",
    "# в то время как поверхностная копия отражает"
   ]
  },
  {
   "cell_type": "code",
   "execution_count": null,
   "metadata": {},
   "outputs": [],
   "source": [
    "from copy import copy, deepcopy\n",
    "smth = [1000, 2000, 3000]\n",
    "copy_smth = copy(smth)"
   ]
  },
  {
   "attachments": {},
   "cell_type": "markdown",
   "metadata": {},
   "source": [
    "> О-большое нотация. Сложность операций с коллекциями"
   ]
  },
  {
   "cell_type": "code",
   "execution_count": null,
   "metadata": {},
   "outputs": [],
   "source": [
    "# https://antonz.ru/list-internals/\n",
    "# В основе списка лежит массив. Массив — это набор элементов \n",
    "# ① одинакового размера и \n",
    "# ② расположенных в памяти подряд друг за другом, без пропусков.\n",
    "\n",
    "# Если знать адрес самого первого элемента («головы» массива), то можно получить любой другой. Допустим, \n",
    "# голова находится по адресу 0×00001234, а каждый элемент занимает 8 байт. \n",
    "# Тогда элемент с индексом idx находится по адресу 0×00001234 + idx*8\n",
    "\n",
    "# Поскольку операция «получить значение по адресу» выполняется за константное время, \n",
    "# то и выборка из массива по индексу выполняется за O(1).\n",
    "\n",
    "# Список хранит указатель на голову массива и количество элементов в массиве. \n",
    "# Количество хранится отдельно, чтобы функция len() тоже отрабатывала за O(1), а не считала каждый раз фактическое количество элементов списка."
   ]
  },
  {
   "cell_type": "code",
   "execution_count": null,
   "metadata": {},
   "outputs": [],
   "source": [
    "# https://ru.hexlet.io/courses/python-dicts/lessons/hash-table/theory_unit\n",
    "#  В Python множество set реализовано с использованием хеш-таблицы. \n",
    "# Это приводит к тому, что элементы множества должны быть неизменяемыми объектами (строка, число, кортеж tuple, но не list, не set...)\n",
    "\n",
    "# Хеш-табли́ца (англ. hash-table) — структура данных, реализующая интерфейс ассоциативного массива. \n",
    "# Ассоциативный массив — абстрактный тип данных, с помощью которого хранятся пары «ключ-значение»\n",
    "# Хеш таблица представляет собой эффективную структуру данных для реализации словарей, \n",
    "# а именно, позволяет хранить пары (ключ, значение) и выполнять три операции: \n",
    "# операцию добавления новой пары, операцию поиска и операцию удаления пары по ключу.\n",
    "\n",
    "# Любая операция внутри хеш-таблицы начинается с того, что ключ каким-то образом преобразуется\n",
    "# в индекс обычного массива. \n",
    "# Для получения индекса из ключа нужно выполнить два действия:\n",
    "# - Найти хеш, то есть хешировать ключ\n",
    "# - Привести ключ к индексу — например, через остаток от деления"
   ]
  },
  {
   "attachments": {},
   "cell_type": "markdown",
   "metadata": {},
   "source": [
    "### ООП и классы"
   ]
  },
  {
   "cell_type": "code",
   "execution_count": null,
   "metadata": {},
   "outputs": [],
   "source": [
    "# https://proglib.io/p/python-oop\n",
    "# https://docs-python.ru/tutorial/klassy-jazyke-python/takoe-metod-klassa-zachem-nuzhen/\n",
    "from time import time\n",
    "class Date(object):\n",
    "    def __init__(self, day=0, month=0, year=0):\n",
    "        self.day = day\n",
    "        self.month = month\n",
    "        self.year = year\n",
    "    # новый способ инициализировать класс, т.к. нет перегрузки __init__ в Python\n",
    "    @classmethod\n",
    "    def from_string(cls, date_as_string):\n",
    "        day, month, year = map(int, date_as_string.split('.'))\n",
    "        date1 = cls(day, month, year)\n",
    "        return date1\n",
    "\n",
    "    def string_to_db(self):\n",
    "        return f'{self.year}-{self.month}-{self.day}'\n",
    "\n",
    "    @staticmethod\n",
    "    def hello():\n",
    "        print(\"Hello, it's {} now\".format(time()))"
   ]
  },
  {
   "cell_type": "code",
   "execution_count": null,
   "metadata": {},
   "outputs": [],
   "source": [
    "Date.hello()"
   ]
  }
 ],
 "metadata": {
  "kernelspec": {
   "display_name": "Python 3",
   "language": "python",
   "name": "python3"
  },
  "language_info": {
   "codemirror_mode": {
    "name": "ipython",
    "version": 3
   },
   "file_extension": ".py",
   "mimetype": "text/x-python",
   "name": "python",
   "nbconvert_exporter": "python",
   "pygments_lexer": "ipython3",
   "version": "3.8.5 (v3.8.5:580fbb018f, Jul 20 2020, 12:11:27) \n[Clang 6.0 (clang-600.0.57)]"
  },
  "orig_nbformat": 4,
  "vscode": {
   "interpreter": {
    "hash": "aee8b7b246df8f9039afb4144a1f6fd8d2ca17a180786b69acc140d282b71a49"
   }
  }
 },
 "nbformat": 4,
 "nbformat_minor": 2
}
