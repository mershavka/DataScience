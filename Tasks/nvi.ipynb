{
 "cells": [
  {
   "cell_type": "code",
   "execution_count": 3,
   "metadata": {},
   "outputs": [],
   "source": [
    "import numpy as np"
   ]
  },
  {
   "cell_type": "code",
   "execution_count": 31,
   "metadata": {},
   "outputs": [],
   "source": [
    "data = np.array([[1,1,1,1], [-1,-1,-1,-1], [0, -1, 1, -2]])\n",
    "result = np.array([[1,1,1,1], [-2,-2,1,1], [0, -3, 1, 2]])"
   ]
  },
  {
   "cell_type": "code",
   "execution_count": 32,
   "metadata": {},
   "outputs": [],
   "source": [
    "def normilize(rect):\n",
    "    x, y, w, h = rect\n",
    "    new_x = x\n",
    "    new_y = y\n",
    "    if h < 0:\n",
    "        new_y = y + h\n",
    "        h = abs(h)\n",
    "    if w < 0:\n",
    "        new_x = x + w\n",
    "        w = abs(w)\n",
    "    return np.array([new_x, new_y, w, h])"
   ]
  },
  {
   "cell_type": "code",
   "execution_count": 34,
   "metadata": {},
   "outputs": [],
   "source": [
    "arr = np.array(list(map(normilize, data)))"
   ]
  },
  {
   "cell_type": "code",
   "execution_count": 35,
   "metadata": {},
   "outputs": [
    {
     "data": {
      "text/plain": [
       "array([[ 1,  1,  1,  1],\n",
       "       [-2, -2,  1,  1],\n",
       "       [ 0, -3,  1,  2]])"
      ]
     },
     "execution_count": 35,
     "metadata": {},
     "output_type": "execute_result"
    }
   ],
   "source": [
    "arr"
   ]
  },
  {
   "cell_type": "code",
   "execution_count": 60,
   "metadata": {},
   "outputs": [],
   "source": [
    "def intersection_area(a, b):\n",
    "    x_a, y_a, w_a, h_a = a\n",
    "    x_b, y_b, w_b, h_b = b\n",
    "    S = 0\n",
    "    x_a_up = x_a + w_a\n",
    "    x_b_up = x_b + w_b\n",
    "    y_a_up = y_a + h_a\n",
    "    y_b_up = y_b + h_b\n",
    "    x_int_1 = max(x_a, x_b)\n",
    "    y_int_1 = max(y_b, y_a)\n",
    "    x_int_2 = min(x_a_up, x_b_up)\n",
    "    y_int_2 = min(y_a_up, y_b_up)\n",
    "\n",
    "    S = (x_int_1 - x_int_2) * (y_int_1 - y_int_2)\n",
    "    return S\n",
    "\n",
    "def area(rect):\n",
    "    x, y, w, h = rect\n",
    "    return w * h"
   ]
  },
  {
   "cell_type": "code",
   "execution_count": 62,
   "metadata": {},
   "outputs": [],
   "source": [
    "a = np.array([-4, -2, 4, 2])\n",
    "b = np.array([-3, -3, 2, 2])\n",
    "IoU = intersection_area(a , b) / float(area(a) + area(b) - intersection_area(a, b))"
   ]
  },
  {
   "cell_type": "code",
   "execution_count": 63,
   "metadata": {},
   "outputs": [
    {
     "data": {
      "text/plain": [
       "0.2"
      ]
     },
     "execution_count": 63,
     "metadata": {},
     "output_type": "execute_result"
    }
   ],
   "source": [
    "IoU"
   ]
  }
 ],
 "metadata": {
  "kernelspec": {
   "display_name": "Python 3",
   "language": "python",
   "name": "python3"
  },
  "language_info": {
   "codemirror_mode": {
    "name": "ipython",
    "version": 3
   },
   "file_extension": ".py",
   "mimetype": "text/x-python",
   "name": "python",
   "nbconvert_exporter": "python",
   "pygments_lexer": "ipython3",
   "version": "3.8.5 (v3.8.5:580fbb018f, Jul 20 2020, 12:11:27) \n[Clang 6.0 (clang-600.0.57)]"
  },
  "orig_nbformat": 4,
  "vscode": {
   "interpreter": {
    "hash": "aee8b7b246df8f9039afb4144a1f6fd8d2ca17a180786b69acc140d282b71a49"
   }
  }
 },
 "nbformat": 4,
 "nbformat_minor": 2
}
