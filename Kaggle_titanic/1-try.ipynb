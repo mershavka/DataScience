{
 "cells": [
  {
   "cell_type": "code",
   "execution_count": 1,
   "metadata": {},
   "outputs": [],
   "source": [
    "import pandas as pd\n",
    "import seaborn as sns"
   ]
  },
  {
   "cell_type": "markdown",
   "metadata": {},
   "source": [
    "# Шаг первый. Обработка и анализ данных"
   ]
  },
  {
   "cell_type": "code",
   "execution_count": 2,
   "metadata": {},
   "outputs": [],
   "source": [
    "PATH_TO_TRAIN = 'train.csv'\n",
    "PATH_TO_TEST = 'test.csv'\n",
    "train = pd.read_csv(PATH_TO_TRAIN, index_col='PassengerId') #обучающая выборка\n",
    "test = pd.read_csv(PATH_TO_TEST, index_col='PassengerId')   #тестовая выборка (для неё будем предсказывать)"
   ]
  },
  {
   "cell_type": "markdown",
   "metadata": {},
   "source": [
    "Описание некоторых параметров:\n",
    "* Survived 0 = Погиб, 1 = Выжил;\n",
    "* sibsp - количество братьев/сестер и мужей/жен на борту;\n",
    "* parch - количество детей/родителей на борту;"
   ]
  },
  {
   "cell_type": "code",
   "execution_count": 3,
   "metadata": {},
   "outputs": [
    {
     "name": "stdout",
     "output_type": "stream",
     "text": [
      "<class 'pandas.core.frame.DataFrame'>\n",
      "Int64Index: 891 entries, 1 to 891\n",
      "Data columns (total 11 columns):\n",
      " #   Column    Non-Null Count  Dtype  \n",
      "---  ------    --------------  -----  \n",
      " 0   Survived  891 non-null    int64  \n",
      " 1   Pclass    891 non-null    int64  \n",
      " 2   Name      891 non-null    object \n",
      " 3   Sex       891 non-null    object \n",
      " 4   Age       714 non-null    float64\n",
      " 5   SibSp     891 non-null    int64  \n",
      " 6   Parch     891 non-null    int64  \n",
      " 7   Ticket    891 non-null    object \n",
      " 8   Fare      891 non-null    float64\n",
      " 9   Cabin     204 non-null    object \n",
      " 10  Embarked  889 non-null    object \n",
      "dtypes: float64(2), int64(4), object(5)\n",
      "memory usage: 83.5+ KB\n"
     ]
    },
    {
     "data": {
      "text/html": [
       "<div>\n",
       "<style scoped>\n",
       "    .dataframe tbody tr th:only-of-type {\n",
       "        vertical-align: middle;\n",
       "    }\n",
       "\n",
       "    .dataframe tbody tr th {\n",
       "        vertical-align: top;\n",
       "    }\n",
       "\n",
       "    .dataframe thead th {\n",
       "        text-align: right;\n",
       "    }\n",
       "</style>\n",
       "<table border=\"1\" class=\"dataframe\">\n",
       "  <thead>\n",
       "    <tr style=\"text-align: right;\">\n",
       "      <th></th>\n",
       "      <th>Survived</th>\n",
       "      <th>Pclass</th>\n",
       "      <th>Age</th>\n",
       "      <th>SibSp</th>\n",
       "      <th>Parch</th>\n",
       "      <th>Fare</th>\n",
       "    </tr>\n",
       "  </thead>\n",
       "  <tbody>\n",
       "    <tr>\n",
       "      <th>count</th>\n",
       "      <td>891.000000</td>\n",
       "      <td>891.000000</td>\n",
       "      <td>714.000000</td>\n",
       "      <td>891.000000</td>\n",
       "      <td>891.000000</td>\n",
       "      <td>891.000000</td>\n",
       "    </tr>\n",
       "    <tr>\n",
       "      <th>mean</th>\n",
       "      <td>0.383838</td>\n",
       "      <td>2.308642</td>\n",
       "      <td>29.699118</td>\n",
       "      <td>0.523008</td>\n",
       "      <td>0.381594</td>\n",
       "      <td>32.204208</td>\n",
       "    </tr>\n",
       "    <tr>\n",
       "      <th>std</th>\n",
       "      <td>0.486592</td>\n",
       "      <td>0.836071</td>\n",
       "      <td>14.526497</td>\n",
       "      <td>1.102743</td>\n",
       "      <td>0.806057</td>\n",
       "      <td>49.693429</td>\n",
       "    </tr>\n",
       "    <tr>\n",
       "      <th>min</th>\n",
       "      <td>0.000000</td>\n",
       "      <td>1.000000</td>\n",
       "      <td>0.420000</td>\n",
       "      <td>0.000000</td>\n",
       "      <td>0.000000</td>\n",
       "      <td>0.000000</td>\n",
       "    </tr>\n",
       "    <tr>\n",
       "      <th>25%</th>\n",
       "      <td>0.000000</td>\n",
       "      <td>2.000000</td>\n",
       "      <td>20.125000</td>\n",
       "      <td>0.000000</td>\n",
       "      <td>0.000000</td>\n",
       "      <td>7.910400</td>\n",
       "    </tr>\n",
       "    <tr>\n",
       "      <th>50%</th>\n",
       "      <td>0.000000</td>\n",
       "      <td>3.000000</td>\n",
       "      <td>28.000000</td>\n",
       "      <td>0.000000</td>\n",
       "      <td>0.000000</td>\n",
       "      <td>14.454200</td>\n",
       "    </tr>\n",
       "    <tr>\n",
       "      <th>75%</th>\n",
       "      <td>1.000000</td>\n",
       "      <td>3.000000</td>\n",
       "      <td>38.000000</td>\n",
       "      <td>1.000000</td>\n",
       "      <td>0.000000</td>\n",
       "      <td>31.000000</td>\n",
       "    </tr>\n",
       "    <tr>\n",
       "      <th>max</th>\n",
       "      <td>1.000000</td>\n",
       "      <td>3.000000</td>\n",
       "      <td>80.000000</td>\n",
       "      <td>8.000000</td>\n",
       "      <td>6.000000</td>\n",
       "      <td>512.329200</td>\n",
       "    </tr>\n",
       "  </tbody>\n",
       "</table>\n",
       "</div>"
      ],
      "text/plain": [
       "         Survived      Pclass         Age       SibSp       Parch        Fare\n",
       "count  891.000000  891.000000  714.000000  891.000000  891.000000  891.000000\n",
       "mean     0.383838    2.308642   29.699118    0.523008    0.381594   32.204208\n",
       "std      0.486592    0.836071   14.526497    1.102743    0.806057   49.693429\n",
       "min      0.000000    1.000000    0.420000    0.000000    0.000000    0.000000\n",
       "25%      0.000000    2.000000   20.125000    0.000000    0.000000    7.910400\n",
       "50%      0.000000    3.000000   28.000000    0.000000    0.000000   14.454200\n",
       "75%      1.000000    3.000000   38.000000    1.000000    0.000000   31.000000\n",
       "max      1.000000    3.000000   80.000000    8.000000    6.000000  512.329200"
      ]
     },
     "execution_count": 3,
     "metadata": {},
     "output_type": "execute_result"
    }
   ],
   "source": [
    "train.info()\n",
    "train.describe()"
   ]
  },
  {
   "cell_type": "markdown",
   "metadata": {},
   "source": [
    "Cabin - номер каюты указан только для 23 процентов пассажиров, поэтому можно убрать его из рассмотрения. Имя и номер билета не дают полезной информации - убираем"
   ]
  },
  {
   "cell_type": "code",
   "execution_count": 4,
   "metadata": {},
   "outputs": [],
   "source": [
    "#удаление ненужных колонок\n",
    "\n",
    "useless_columns = ['Name', 'Ticket', 'Cabin']\n",
    "\n",
    "train_clean = train.drop(columns=useless_columns)\n",
    "test_clean = test.drop(columns=useless_columns)"
   ]
  },
  {
   "cell_type": "markdown",
   "metadata": {},
   "source": [
    "## Заполнение пропусков в данных"
   ]
  },
  {
   "cell_type": "code",
   "execution_count": 5,
   "metadata": {},
   "outputs": [],
   "source": [
    "def imput_data(df):\n",
    "    df_copy = df.copy()\n",
    "    quantitative = df_copy.select_dtypes(include=['float64','int64']).columns.values #array из названий столбцов\n",
    "    categorical = df_copy.select_dtypes(include=['object']).columns.values #array из названий столбцов\n",
    "    #заполняем пропущенные значения для количественных переменных медианой по столбцу\n",
    "    for col in quantitative:\n",
    "        if  df_copy[col].isnull().values.any():\n",
    "            df_copy[col].fillna(df_copy[col].median(), inplace=True)\n",
    "    #заполняем пропущенные значения для категориальных переменных самым частым значением в колонке\n",
    "    for col in categorical:\n",
    "        if  df_copy[col].isnull().values.any():\n",
    "            df_copy[col].fillna(df_copy[col].mode()[0], inplace=True)\n",
    "    return df_copy"
   ]
  },
  {
   "cell_type": "code",
   "execution_count": 6,
   "metadata": {},
   "outputs": [],
   "source": [
    "train_filled = imput_data(train_clean)\n",
    "test_filled = imput_data(test_clean)"
   ]
  },
  {
   "cell_type": "code",
   "execution_count": 7,
   "metadata": {},
   "outputs": [
    {
     "name": "stdout",
     "output_type": "stream",
     "text": [
      "<class 'pandas.core.frame.DataFrame'>\n",
      "Int64Index: 891 entries, 1 to 891\n",
      "Data columns (total 8 columns):\n",
      " #   Column    Non-Null Count  Dtype  \n",
      "---  ------    --------------  -----  \n",
      " 0   Survived  891 non-null    int64  \n",
      " 1   Pclass    891 non-null    int64  \n",
      " 2   Sex       891 non-null    object \n",
      " 3   Age       891 non-null    float64\n",
      " 4   SibSp     891 non-null    int64  \n",
      " 5   Parch     891 non-null    int64  \n",
      " 6   Fare      891 non-null    float64\n",
      " 7   Embarked  891 non-null    object \n",
      "dtypes: float64(2), int64(4), object(2)\n",
      "memory usage: 62.6+ KB\n"
     ]
    }
   ],
   "source": [
    "train_filled.info()"
   ]
  },
  {
   "cell_type": "markdown",
   "metadata": {},
   "source": [
    "## Визуализация данных"
   ]
  },
  {
   "cell_type": "code",
   "execution_count": 8,
   "metadata": {},
   "outputs": [
    {
     "data": {
      "text/plain": [
       "<seaborn.axisgrid.FacetGrid at 0x7fa8f4f4b610>"
      ]
     },
     "execution_count": 8,
     "metadata": {},
     "output_type": "execute_result"
    },
    {
     "data": {
      "image/png": "[encoded data removed]",
      "text/plain": [
       "<Figure size 411.875x360 with 1 Axes>"
      ]
     },
     "metadata": {
      "needs_background": "light"
     },
     "output_type": "display_data"
    }
   ],
   "source": [
    "sns.catplot(x = \"Pclass\", data=train_filled, kind='count', hue=\"Survived\")\n",
    "#мужчины погибали чаще женщин"
   ]
  },
  {
   "cell_type": "code",
   "execution_count": 19,
   "metadata": {},
   "outputs": [
    {
     "data": {
      "text/plain": [
       "<seaborn.axisgrid.FacetGrid at 0x7fa8f8d270a0>"
      ]
     },
     "execution_count": 19,
     "metadata": {},
     "output_type": "execute_result"
    },
    {
     "data": {
      "image/png": "[encoded data removed]",
      "text/plain": [
       "<Figure size 402.375x360 with 1 Axes>"
      ]
     },
     "metadata": {
      "needs_background": "light"
     },
     "output_type": "display_data"
    }
   ],
   "source": [
    "sns.catplot(x = \"Sex\", data=train_filled, kind='count', hue=\"Pclass\")\n",
    "#больше всего людей было в 3 классе, при этом мужчин в 3 классе было гораздо больше, чем женщин\n",
    "#мужчин в первом и втором классах незначительно больше, чем женщин в соответствующих классах\n",
    "#людей во втором классе меньше всего\n"
   ]
  },
  {
   "cell_type": "code",
   "execution_count": 10,
   "metadata": {},
   "outputs": [
    {
     "data": {
      "text/plain": [
       "<seaborn.axisgrid.FacetGrid at 0x7fa8f89269a0>"
      ]
     },
     "execution_count": 10,
     "metadata": {},
     "output_type": "execute_result"
    },
    {
     "data": {
      "image/png": "[encoded data removed]",
      "text/plain": [
       "<Figure size 1080x360 with 3 Axes>"
      ]
     },
     "metadata": {
      "needs_background": "light"
     },
     "output_type": "display_data"
    }
   ],
   "source": [
    "sns.catplot(x = \"Sex\", y=\"Survived\", col=\"Pclass\", data=train_filled, kind='bar')\n",
    "#среди бедных мужчин меньше всего выживших"
   ]
  },
  {
   "cell_type": "markdown",
   "metadata": {},
   "source": [
    "## Feature Engineering"
   ]
  },
  {
   "cell_type": "code",
   "execution_count": 11,
   "metadata": {},
   "outputs": [
    {
     "name": "stdout",
     "output_type": "stream",
     "text": [
      "<class 'pandas.core.frame.DataFrame'>\n",
      "Int64Index: 891 entries, 1 to 891\n",
      "Data columns (total 9 columns):\n",
      " #   Column    Non-Null Count  Dtype  \n",
      "---  ------    --------------  -----  \n",
      " 0   Survived  891 non-null    int64  \n",
      " 1   Pclass    891 non-null    int64  \n",
      " 2   Sex       891 non-null    object \n",
      " 3   Age       891 non-null    float64\n",
      " 4   SibSp     891 non-null    int64  \n",
      " 5   Parch     891 non-null    int64  \n",
      " 6   Fare      891 non-null    float64\n",
      " 7   Embarked  891 non-null    object \n",
      " 8   Family    891 non-null    int64  \n",
      "dtypes: float64(2), int64(5), object(2)\n",
      "memory usage: 101.9+ KB\n"
     ]
    }
   ],
   "source": [
    "train_filled[\"Family\"] = train_filled.SibSp + train_filled.Parch\n",
    "test_filled[\"Family\"] = test_filled.SibSp + test_filled.Parch\n",
    "train_filled.info()\n"
   ]
  },
  {
   "cell_type": "code",
   "execution_count": 12,
   "metadata": {},
   "outputs": [
    {
     "data": {
      "text/plain": [
       "<seaborn.axisgrid.FacetGrid at 0x7fa8f53715b0>"
      ]
     },
     "execution_count": 12,
     "metadata": {},
     "output_type": "execute_result"
    },
    {
     "data": {
      "image/png": "[encoded data removed]",
      "text/plain": [
       "<Figure size 411.875x360 with 1 Axes>"
      ]
     },
     "metadata": {
      "needs_background": "light"
     },
     "output_type": "display_data"
    }
   ],
   "source": [
    "sns.catplot(x = \"Family\", data=train_filled, kind='count', hue=\"Survived\")\n",
    "# Количество родственников влияет на выживаемость: если родственников от 1 до 3, то выше шансы выжить"
   ]
  },
  {
   "cell_type": "markdown",
   "metadata": {},
   "source": [
    "Сохранение обработанных данных"
   ]
  },
  {
   "cell_type": "code",
   "execution_count": 13,
   "metadata": {},
   "outputs": [],
   "source": [
    "train_filled.to_csv(\"train_data.csv\")\n",
    "test_filled.to_csv(\"test_data.csv\")"
   ]
  },
  {
   "cell_type": "markdown",
   "metadata": {},
   "source": [
    "Гипотеза: мужчины из третьего класса погибают"
   ]
  },
  {
   "cell_type": "code",
   "execution_count": 14,
   "metadata": {},
   "outputs": [
    {
     "data": {
      "text/html": [
       "<div>\n",
       "<style scoped>\n",
       "    .dataframe tbody tr th:only-of-type {\n",
       "        vertical-align: middle;\n",
       "    }\n",
       "\n",
       "    .dataframe tbody tr th {\n",
       "        vertical-align: top;\n",
       "    }\n",
       "\n",
       "    .dataframe thead th {\n",
       "        text-align: right;\n",
       "    }\n",
       "</style>\n",
       "<table border=\"1\" class=\"dataframe\">\n",
       "  <thead>\n",
       "    <tr style=\"text-align: right;\">\n",
       "      <th></th>\n",
       "      <th>Pclass</th>\n",
       "      <th>Sex</th>\n",
       "      <th>Age</th>\n",
       "      <th>SibSp</th>\n",
       "      <th>Parch</th>\n",
       "      <th>Fare</th>\n",
       "      <th>Embarked</th>\n",
       "      <th>Family</th>\n",
       "    </tr>\n",
       "    <tr>\n",
       "      <th>PassengerId</th>\n",
       "      <th></th>\n",
       "      <th></th>\n",
       "      <th></th>\n",
       "      <th></th>\n",
       "      <th></th>\n",
       "      <th></th>\n",
       "      <th></th>\n",
       "      <th></th>\n",
       "    </tr>\n",
       "  </thead>\n",
       "  <tbody>\n",
       "    <tr>\n",
       "      <th>892</th>\n",
       "      <td>3</td>\n",
       "      <td>male</td>\n",
       "      <td>34.5</td>\n",
       "      <td>0</td>\n",
       "      <td>0</td>\n",
       "      <td>7.8292</td>\n",
       "      <td>Q</td>\n",
       "      <td>0</td>\n",
       "    </tr>\n",
       "    <tr>\n",
       "      <th>893</th>\n",
       "      <td>3</td>\n",
       "      <td>female</td>\n",
       "      <td>47.0</td>\n",
       "      <td>1</td>\n",
       "      <td>0</td>\n",
       "      <td>7.0000</td>\n",
       "      <td>S</td>\n",
       "      <td>1</td>\n",
       "    </tr>\n",
       "    <tr>\n",
       "      <th>894</th>\n",
       "      <td>2</td>\n",
       "      <td>male</td>\n",
       "      <td>62.0</td>\n",
       "      <td>0</td>\n",
       "      <td>0</td>\n",
       "      <td>9.6875</td>\n",
       "      <td>Q</td>\n",
       "      <td>0</td>\n",
       "    </tr>\n",
       "    <tr>\n",
       "      <th>895</th>\n",
       "      <td>3</td>\n",
       "      <td>male</td>\n",
       "      <td>27.0</td>\n",
       "      <td>0</td>\n",
       "      <td>0</td>\n",
       "      <td>8.6625</td>\n",
       "      <td>S</td>\n",
       "      <td>0</td>\n",
       "    </tr>\n",
       "    <tr>\n",
       "      <th>896</th>\n",
       "      <td>3</td>\n",
       "      <td>female</td>\n",
       "      <td>22.0</td>\n",
       "      <td>1</td>\n",
       "      <td>1</td>\n",
       "      <td>12.2875</td>\n",
       "      <td>S</td>\n",
       "      <td>2</td>\n",
       "    </tr>\n",
       "    <tr>\n",
       "      <th>...</th>\n",
       "      <td>...</td>\n",
       "      <td>...</td>\n",
       "      <td>...</td>\n",
       "      <td>...</td>\n",
       "      <td>...</td>\n",
       "      <td>...</td>\n",
       "      <td>...</td>\n",
       "      <td>...</td>\n",
       "    </tr>\n",
       "    <tr>\n",
       "      <th>1305</th>\n",
       "      <td>3</td>\n",
       "      <td>male</td>\n",
       "      <td>27.0</td>\n",
       "      <td>0</td>\n",
       "      <td>0</td>\n",
       "      <td>8.0500</td>\n",
       "      <td>S</td>\n",
       "      <td>0</td>\n",
       "    </tr>\n",
       "    <tr>\n",
       "      <th>1306</th>\n",
       "      <td>1</td>\n",
       "      <td>female</td>\n",
       "      <td>39.0</td>\n",
       "      <td>0</td>\n",
       "      <td>0</td>\n",
       "      <td>108.9000</td>\n",
       "      <td>C</td>\n",
       "      <td>0</td>\n",
       "    </tr>\n",
       "    <tr>\n",
       "      <th>1307</th>\n",
       "      <td>3</td>\n",
       "      <td>male</td>\n",
       "      <td>38.5</td>\n",
       "      <td>0</td>\n",
       "      <td>0</td>\n",
       "      <td>7.2500</td>\n",
       "      <td>S</td>\n",
       "      <td>0</td>\n",
       "    </tr>\n",
       "    <tr>\n",
       "      <th>1308</th>\n",
       "      <td>3</td>\n",
       "      <td>male</td>\n",
       "      <td>27.0</td>\n",
       "      <td>0</td>\n",
       "      <td>0</td>\n",
       "      <td>8.0500</td>\n",
       "      <td>S</td>\n",
       "      <td>0</td>\n",
       "    </tr>\n",
       "    <tr>\n",
       "      <th>1309</th>\n",
       "      <td>3</td>\n",
       "      <td>male</td>\n",
       "      <td>27.0</td>\n",
       "      <td>1</td>\n",
       "      <td>1</td>\n",
       "      <td>22.3583</td>\n",
       "      <td>C</td>\n",
       "      <td>2</td>\n",
       "    </tr>\n",
       "  </tbody>\n",
       "</table>\n",
       "<p>418 rows × 8 columns</p>\n",
       "</div>"
      ],
      "text/plain": [
       "             Pclass     Sex   Age  SibSp  Parch      Fare Embarked  Family\n",
       "PassengerId                                                               \n",
       "892               3    male  34.5      0      0    7.8292        Q       0\n",
       "893               3  female  47.0      1      0    7.0000        S       1\n",
       "894               2    male  62.0      0      0    9.6875        Q       0\n",
       "895               3    male  27.0      0      0    8.6625        S       0\n",
       "896               3  female  22.0      1      1   12.2875        S       2\n",
       "...             ...     ...   ...    ...    ...       ...      ...     ...\n",
       "1305              3    male  27.0      0      0    8.0500        S       0\n",
       "1306              1  female  39.0      0      0  108.9000        C       0\n",
       "1307              3    male  38.5      0      0    7.2500        S       0\n",
       "1308              3    male  27.0      0      0    8.0500        S       0\n",
       "1309              3    male  27.0      1      1   22.3583        C       2\n",
       "\n",
       "[418 rows x 8 columns]"
      ]
     },
     "execution_count": 14,
     "metadata": {},
     "output_type": "execute_result"
    }
   ],
   "source": [
    "test_filled"
   ]
  },
  {
   "cell_type": "code",
   "execution_count": 15,
   "metadata": {},
   "outputs": [],
   "source": [
    "prediction = (~((test_filled.Sex == \"male\") & (test_filled.Pclass == 3))).astype(int).values"
   ]
  },
  {
   "cell_type": "markdown",
   "metadata": {},
   "source": [
    "Оформление результов"
   ]
  },
  {
   "cell_type": "code",
   "execution_count": 16,
   "metadata": {},
   "outputs": [],
   "source": [
    "#функция для составления submission-файла соревнования\n",
    "\n",
    "def make_prediction_file(prediction, test_data, name):\n",
    "    \n",
    "    result = pd.DataFrame({'PassengerId': test_data.reset_index()['PassengerId'], \"Survived\": prediction})  \n",
    "    result.to_csv(name, index=False)\n",
    "    return result"
   ]
  },
  {
   "cell_type": "code",
   "execution_count": 17,
   "metadata": {},
   "outputs": [],
   "source": [
    "# make_prediction_file(prediction, test_filled, \"test_predicted.csv\")"
   ]
  },
  {
   "cell_type": "markdown",
   "metadata": {},
   "source": [
    "# Шаг второй. Использование методов ML для предсказания выживаемости пассажиров"
   ]
  },
  {
   "cell_type": "markdown",
   "metadata": {},
   "source": [
    "Оставшаяся предобработка данных"
   ]
  },
  {
   "cell_type": "code",
   "execution_count": 50,
   "metadata": {},
   "outputs": [],
   "source": [
    "# отделяем ответ от параметров (предикторов)\n",
    "y_train = train_filled.Survived\n",
    "X_train = train_filled.drop(columns=[\"Survived\"])\n",
    "X_test = test_filled"
   ]
  },
  {
   "cell_type": "markdown",
   "metadata": {},
   "source": [
    "Быстрое кодирование (One-Hot Encoding)"
   ]
  },
  {
   "cell_type": "code",
   "execution_count": 56,
   "metadata": {},
   "outputs": [],
   "source": [
    "def one_hot_encoder(df_train, df_test):\n",
    "    \n",
    "    test_start_ind = df_train.index[-1] #запомнили индекс, с которого начинаются тестовые данные\n",
    "    \n",
    "    concated_df = pd.concat([df_train, df_test], sort=False) #объединили обучающую выборку с тестовой, для корректности\n",
    "                                                             #преобразования\n",
    "        \n",
    "    encoded_df = pd.get_dummies(concated_df, drop_first=True)#Convert categorical variable into dummy/indicator variables\n",
    "    \n",
    "    \n",
    "    df_train_encoded, df_test_encoded = encoded_df.iloc[:test_start_ind, :], encoded_df.iloc[test_start_ind:, :] #разъединили\n",
    "    \n",
    "    return df_train_encoded, df_test_encoded"
   ]
  },
  {
   "cell_type": "code",
   "execution_count": 57,
   "metadata": {},
   "outputs": [],
   "source": [
    "X_train_encoded, X_test_encoded = one_hot_encoder(X_train, X_test)"
   ]
  },
  {
   "cell_type": "markdown",
   "metadata": {},
   "source": [
    "# Деревья принятия решений"
   ]
  },
  {
   "cell_type": "code",
   "execution_count": 85,
   "metadata": {},
   "outputs": [],
   "source": [
    "from sklearn import tree\n",
    "clf = tree.DecisionTreeClassifier(criterion='entropy', max_depth=4)\n"
   ]
  },
  {
   "cell_type": "code",
   "execution_count": 86,
   "metadata": {},
   "outputs": [
    {
     "name": "stdout",
     "output_type": "stream",
     "text": [
      "CPU times: user 7.92 ms, sys: 3.17 ms, total: 11.1 ms\n",
      "Wall time: 10.1 ms\n"
     ]
    }
   ],
   "source": [
    "%%time\n",
    "clf = clf.fit(X_train_encoded, y_train)\n",
    "result = clf.predict(X_test_encoded)"
   ]
  },
  {
   "cell_type": "code",
   "execution_count": 104,
   "metadata": {},
   "outputs": [],
   "source": [
    "import graphviz\n",
    "def visualize_tree(clf, X, name=\"tree.dot\"):\n",
    "    tree.export_graphviz(clf, out_file=name, \n",
    "                            feature_names=X.columns,\n",
    "                            filled=True,\n",
    "                            class_names=['0', '1'])\n",
    "    with open(name) as f:\n",
    "        dot_graph = f.read()\n",
    "    return dot_graph"
   ]
  },
  {
   "cell_type": "markdown",
   "metadata": {},
   "source": [
    "Подбор гиперпараметров"
   ]
  },
  {
   "cell_type": "code",
   "execution_count": 96,
   "metadata": {},
   "outputs": [],
   "source": [
    "from sklearn.model_selection import GridSearchCV\n",
    "clf = tree.DecisionTreeClassifier()\n",
    "\n",
    "parameters = {\n",
    "              'criterion': ['entropy', 'gini'],\n",
    "              'max_depth': range(2, 10),\n",
    "              'min_samples_split': range(2, 10),\n",
    "              'min_samples_leaf': range(1, 10)\n",
    "             }\n",
    "\n",
    "\n",
    "grid_cv = GridSearchCV(clf, parameters, cv=5)"
   ]
  },
  {
   "cell_type": "code",
   "execution_count": 97,
   "metadata": {},
   "outputs": [
    {
     "name": "stdout",
     "output_type": "stream",
     "text": [
      "CPU times: user 30.8 s, sys: 262 ms, total: 31.1 s\n",
      "Wall time: 31.5 s\n"
     ]
    },
    {
     "data": {
      "text/plain": [
       "GridSearchCV(cv=5, estimator=DecisionTreeClassifier(),\n",
       "             param_grid={'criterion': ['entropy', 'gini'],\n",
       "                         'max_depth': range(2, 10),\n",
       "                         'min_samples_leaf': range(1, 10),\n",
       "                         'min_samples_split': range(2, 10)})"
      ]
     },
     "execution_count": 97,
     "metadata": {},
     "output_type": "execute_result"
    }
   ],
   "source": [
    "%%time\n",
    "\n",
    "grid_cv.fit(X_train_encoded, y_train)"
   ]
  },
  {
   "cell_type": "code",
   "execution_count": 98,
   "metadata": {},
   "outputs": [
    {
     "name": "stdout",
     "output_type": "stream",
     "text": [
      "Лучшие параметры классификатора: {'criterion': 'gini', 'max_depth': 7, 'min_samples_leaf': 6, 'min_samples_split': 5}\n"
     ]
    }
   ],
   "source": [
    "#выбираем лучшую модель из обученных\n",
    "\n",
    "best_model = grid_cv.best_estimator_\n",
    "print('Лучшие параметры классификатора:', grid_cv.best_params_)"
   ]
  },
  {
   "cell_type": "code",
   "execution_count": 105,
   "metadata": {},
   "outputs": [
    {
     "data": {
      "image/svg+xml": "<?xml version=\"1.0\" encoding=\"UTF-8\" standalone=\"no\"?>\n<!DOCTYPE svg PUBLIC \"-//W3C//DTD SVG 1.1//EN\"\n \"http://www.w3.org/Graphics/SVG/1.1/DTD/svg11.dtd\">\n<!-- Generated by graphviz version 2.50.0 (20211204.2007)\n -->\n<!-- Title: Tree Pages: 1 -->\n<svg width=\"2343pt\" height=\"909pt\"\n viewBox=\"0.00 0.00 2343.00 909.00\" xmlns=\"http://www.w3.org/2000/svg\" xmlns:xlink=\"http://www.w3.org/1999/xlink\">\n<g id=\"graph0\" class=\"graph\" transform=\"scale(1 1) rotate(0) translate(4 905)\">\n<title>Tree</title>\n<polygon fill=\"white\" stroke=\"transparent\" points=\"-4,4 -4,-905 2339,-905 2339,4 -4,4\"/>\n<!-- 0 -->\n<g id=\"node1\" class=\"node\">\n<title>0</title>\n<polygon fill=\"#f5cfb4\" stroke=\"black\" points=\"1222.5,-901 1103.5,-901 1103.5,-818 1222.5,-818 1222.5,-901\"/>\n<text text-anchor=\"middle\" x=\"1163\" y=\"-885.8\" font-family=\"Times,serif\" font-size=\"14.00\">Sex_male &lt;= 0.5</text>\n<text text-anchor=\"middle\" x=\"1163\" y=\"-870.8\" font-family=\"Times,serif\" font-size=\"14.00\">gini = 0.473</text>\n<text text-anchor=\"middle\" x=\"1163\" y=\"-855.8\" font-family=\"Times,serif\" font-size=\"14.00\">samples = 891</text>\n<text text-anchor=\"middle\" x=\"1163\" y=\"-840.8\" font-family=\"Times,serif\" font-size=\"14.00\">value = [549, 342]</text>\n<text text-anchor=\"middle\" x=\"1163\" y=\"-825.8\" font-family=\"Times,serif\" font-size=\"14.00\">class = 0</text>\n</g>\n<!-- 1 -->\n<g id=\"node2\" class=\"node\">\n<title>1</title>\n<polygon fill=\"#7ebfee\" stroke=\"black\" points=\"1048,-782 936,-782 936,-699 1048,-699 1048,-782\"/>\n<text text-anchor=\"middle\" x=\"992\" y=\"-766.8\" font-family=\"Times,serif\" font-size=\"14.00\">Pclass &lt;= 2.5</text>\n<text text-anchor=\"middle\" x=\"992\" y=\"-751.8\" font-family=\"Times,serif\" font-size=\"14.00\">gini = 0.383</text>\n<text text-anchor=\"middle\" x=\"992\" y=\"-736.8\" font-family=\"Times,serif\" font-size=\"14.00\">samples = 314</text>\n<text text-anchor=\"middle\" x=\"992\" y=\"-721.8\" font-family=\"Times,serif\" font-size=\"14.00\">value = [81, 233]</text>\n<text text-anchor=\"middle\" x=\"992\" y=\"-706.8\" font-family=\"Times,serif\" font-size=\"14.00\">class = 1</text>\n</g>\n<!-- 0&#45;&gt;1 -->\n<g id=\"edge1\" class=\"edge\">\n<title>0&#45;&gt;1</title>\n<path fill=\"none\" stroke=\"black\" d=\"M1103.67,-817.91C1088.45,-807.49 1072.01,-796.24 1056.54,-785.66\"/>\n<polygon fill=\"black\" stroke=\"black\" points=\"1058.29,-782.61 1048.06,-779.86 1054.34,-788.39 1058.29,-782.61\"/>\n<text text-anchor=\"middle\" x=\"1052.67\" y=\"-800.73\" font-family=\"Times,serif\" font-size=\"14.00\">True</text>\n</g>\n<!-- 40 -->\n<g id=\"node41\" class=\"node\">\n<title>40</title>\n<polygon fill=\"#eb9e67\" stroke=\"black\" points=\"1334.5,-782 1215.5,-782 1215.5,-699 1334.5,-699 1334.5,-782\"/>\n<text text-anchor=\"middle\" x=\"1275\" y=\"-766.8\" font-family=\"Times,serif\" font-size=\"14.00\">Age &lt;= 6.5</text>\n<text text-anchor=\"middle\" x=\"1275\" y=\"-751.8\" font-family=\"Times,serif\" font-size=\"14.00\">gini = 0.306</text>\n<text text-anchor=\"middle\" x=\"1275\" y=\"-736.8\" font-family=\"Times,serif\" font-size=\"14.00\">samples = 577</text>\n<text text-anchor=\"middle\" x=\"1275\" y=\"-721.8\" font-family=\"Times,serif\" font-size=\"14.00\">value = [468, 109]</text>\n<text text-anchor=\"middle\" x=\"1275\" y=\"-706.8\" font-family=\"Times,serif\" font-size=\"14.00\">class = 0</text>\n</g>\n<!-- 0&#45;&gt;40 -->\n<g id=\"edge40\" class=\"edge\">\n<title>0&#45;&gt;40</title>\n<path fill=\"none\" stroke=\"black\" d=\"M1201.86,-817.91C1210.63,-808.74 1220.03,-798.93 1229.06,-789.49\"/>\n<polygon fill=\"black\" stroke=\"black\" points=\"1231.82,-791.66 1236.21,-782.02 1226.77,-786.82 1231.82,-791.66\"/>\n<text text-anchor=\"middle\" x=\"1236.76\" y=\"-803.31\" font-family=\"Times,serif\" font-size=\"14.00\">False</text>\n</g>\n<!-- 2 -->\n<g id=\"node3\" class=\"node\">\n<title>2</title>\n<polygon fill=\"#44a2e6\" stroke=\"black\" points=\"651.5,-663 546.5,-663 546.5,-580 651.5,-580 651.5,-663\"/>\n<text text-anchor=\"middle\" x=\"599\" y=\"-647.8\" font-family=\"Times,serif\" font-size=\"14.00\">Fare &lt;= 28.856</text>\n<text text-anchor=\"middle\" x=\"599\" y=\"-632.8\" font-family=\"Times,serif\" font-size=\"14.00\">gini = 0.1</text>\n<text text-anchor=\"middle\" x=\"599\" y=\"-617.8\" font-family=\"Times,serif\" font-size=\"14.00\">samples = 170</text>\n<text text-anchor=\"middle\" x=\"599\" y=\"-602.8\" font-family=\"Times,serif\" font-size=\"14.00\">value = [9, 161]</text>\n<text text-anchor=\"middle\" x=\"599\" y=\"-587.8\" font-family=\"Times,serif\" font-size=\"14.00\">class = 1</text>\n</g>\n<!-- 1&#45;&gt;2 -->\n<g id=\"edge2\" class=\"edge\">\n<title>1&#45;&gt;2</title>\n<path fill=\"none\" stroke=\"black\" d=\"M935.69,-722.74C863.08,-701.12 737.16,-663.63 661.61,-641.14\"/>\n<polygon fill=\"black\" stroke=\"black\" points=\"662.33,-637.7 651.75,-638.2 660.33,-644.41 662.33,-637.7\"/>\n</g>\n<!-- 19 -->\n<g id=\"node20\" class=\"node\">\n<title>19</title>\n<polygon fill=\"#ffffff\" stroke=\"black\" points=\"1044.5,-663 939.5,-663 939.5,-580 1044.5,-580 1044.5,-663\"/>\n<text text-anchor=\"middle\" x=\"992\" y=\"-647.8\" font-family=\"Times,serif\" font-size=\"14.00\">Family &lt;= 3.5</text>\n<text text-anchor=\"middle\" x=\"992\" y=\"-632.8\" font-family=\"Times,serif\" font-size=\"14.00\">gini = 0.5</text>\n<text text-anchor=\"middle\" x=\"992\" y=\"-617.8\" font-family=\"Times,serif\" font-size=\"14.00\">samples = 144</text>\n<text text-anchor=\"middle\" x=\"992\" y=\"-602.8\" font-family=\"Times,serif\" font-size=\"14.00\">value = [72, 72]</text>\n<text text-anchor=\"middle\" x=\"992\" y=\"-587.8\" font-family=\"Times,serif\" font-size=\"14.00\">class = 0</text>\n</g>\n<!-- 1&#45;&gt;19 -->\n<g id=\"edge19\" class=\"edge\">\n<title>1&#45;&gt;19</title>\n<path fill=\"none\" stroke=\"black\" d=\"M992,-698.91C992,-690.65 992,-681.86 992,-673.3\"/>\n<polygon fill=\"black\" stroke=\"black\" points=\"995.5,-673.02 992,-663.02 988.5,-673.02 995.5,-673.02\"/>\n</g>\n<!-- 3 -->\n<g id=\"node4\" class=\"node\">\n<title>3</title>\n<polygon fill=\"#4fa8e8\" stroke=\"black\" points=\"422,-544 324,-544 324,-461 422,-461 422,-544\"/>\n<text text-anchor=\"middle\" x=\"373\" y=\"-528.8\" font-family=\"Times,serif\" font-size=\"14.00\">Age &lt;= 37.0</text>\n<text text-anchor=\"middle\" x=\"373\" y=\"-513.8\" font-family=\"Times,serif\" font-size=\"14.00\">gini = 0.18</text>\n<text text-anchor=\"middle\" x=\"373\" y=\"-498.8\" font-family=\"Times,serif\" font-size=\"14.00\">samples = 70</text>\n<text text-anchor=\"middle\" x=\"373\" y=\"-483.8\" font-family=\"Times,serif\" font-size=\"14.00\">value = [7, 63]</text>\n<text text-anchor=\"middle\" x=\"373\" y=\"-468.8\" font-family=\"Times,serif\" font-size=\"14.00\">class = 1</text>\n</g>\n<!-- 2&#45;&gt;3 -->\n<g id=\"edge3\" class=\"edge\">\n<title>2&#45;&gt;3</title>\n<path fill=\"none\" stroke=\"black\" d=\"M546.3,-593.22C511.94,-575.43 467.05,-552.19 431.57,-533.82\"/>\n<polygon fill=\"black\" stroke=\"black\" points=\"432.79,-530.51 422.3,-529.02 429.57,-536.73 432.79,-530.51\"/>\n</g>\n<!-- 14 -->\n<g id=\"node15\" class=\"node\">\n<title>14</title>\n<polygon fill=\"#3d9fe6\" stroke=\"black\" points=\"648,-544 550,-544 550,-461 648,-461 648,-544\"/>\n<text text-anchor=\"middle\" x=\"599\" y=\"-528.8\" font-family=\"Times,serif\" font-size=\"14.00\">Family &lt;= 2.5</text>\n<text text-anchor=\"middle\" x=\"599\" y=\"-513.8\" font-family=\"Times,serif\" font-size=\"14.00\">gini = 0.039</text>\n<text text-anchor=\"middle\" x=\"599\" y=\"-498.8\" font-family=\"Times,serif\" font-size=\"14.00\">samples = 100</text>\n<text text-anchor=\"middle\" x=\"599\" y=\"-483.8\" font-family=\"Times,serif\" font-size=\"14.00\">value = [2, 98]</text>\n<text text-anchor=\"middle\" x=\"599\" y=\"-468.8\" font-family=\"Times,serif\" font-size=\"14.00\">class = 1</text>\n</g>\n<!-- 2&#45;&gt;14 -->\n<g id=\"edge14\" class=\"edge\">\n<title>2&#45;&gt;14</title>\n<path fill=\"none\" stroke=\"black\" d=\"M599,-579.91C599,-571.65 599,-562.86 599,-554.3\"/>\n<polygon fill=\"black\" stroke=\"black\" points=\"602.5,-554.02 599,-544.02 595.5,-554.02 602.5,-554.02\"/>\n</g>\n<!-- 4 -->\n<g id=\"node5\" class=\"node\">\n<title>4</title>\n<polygon fill=\"#46a3e7\" stroke=\"black\" points=\"270,-425 172,-425 172,-342 270,-342 270,-425\"/>\n<text text-anchor=\"middle\" x=\"221\" y=\"-409.8\" font-family=\"Times,serif\" font-size=\"14.00\">Age &lt;= 27.5</text>\n<text text-anchor=\"middle\" x=\"221\" y=\"-394.8\" font-family=\"Times,serif\" font-size=\"14.00\">gini = 0.113</text>\n<text text-anchor=\"middle\" x=\"221\" y=\"-379.8\" font-family=\"Times,serif\" font-size=\"14.00\">samples = 50</text>\n<text text-anchor=\"middle\" x=\"221\" y=\"-364.8\" font-family=\"Times,serif\" font-size=\"14.00\">value = [3, 47]</text>\n<text text-anchor=\"middle\" x=\"221\" y=\"-349.8\" font-family=\"Times,serif\" font-size=\"14.00\">class = 1</text>\n</g>\n<!-- 3&#45;&gt;4 -->\n<g id=\"edge4\" class=\"edge\">\n<title>3&#45;&gt;4</title>\n<path fill=\"none\" stroke=\"black\" d=\"M323.65,-463.51C309.17,-452.37 293.21,-440.08 278.28,-428.59\"/>\n<polygon fill=\"black\" stroke=\"black\" points=\"280.16,-425.62 270.1,-422.3 275.89,-431.17 280.16,-425.62\"/>\n</g>\n<!-- 9 -->\n<g id=\"node10\" class=\"node\">\n<title>9</title>\n<polygon fill=\"#6ab6ec\" stroke=\"black\" points=\"422,-425 324,-425 324,-342 422,-342 422,-425\"/>\n<text text-anchor=\"middle\" x=\"373\" y=\"-409.8\" font-family=\"Times,serif\" font-size=\"14.00\">Fare &lt;= 13.25</text>\n<text text-anchor=\"middle\" x=\"373\" y=\"-394.8\" font-family=\"Times,serif\" font-size=\"14.00\">gini = 0.32</text>\n<text text-anchor=\"middle\" x=\"373\" y=\"-379.8\" font-family=\"Times,serif\" font-size=\"14.00\">samples = 20</text>\n<text text-anchor=\"middle\" x=\"373\" y=\"-364.8\" font-family=\"Times,serif\" font-size=\"14.00\">value = [4, 16]</text>\n<text text-anchor=\"middle\" x=\"373\" y=\"-349.8\" font-family=\"Times,serif\" font-size=\"14.00\">class = 1</text>\n</g>\n<!-- 3&#45;&gt;9 -->\n<g id=\"edge9\" class=\"edge\">\n<title>3&#45;&gt;9</title>\n<path fill=\"none\" stroke=\"black\" d=\"M373,-460.91C373,-452.65 373,-443.86 373,-435.3\"/>\n<polygon fill=\"black\" stroke=\"black\" points=\"376.5,-435.02 373,-425.02 369.5,-435.02 376.5,-435.02\"/>\n</g>\n<!-- 5 -->\n<g id=\"node6\" class=\"node\">\n<title>5</title>\n<polygon fill=\"#53aae8\" stroke=\"black\" points=\"154,-306 56,-306 56,-223 154,-223 154,-306\"/>\n<text text-anchor=\"middle\" x=\"105\" y=\"-290.8\" font-family=\"Times,serif\" font-size=\"14.00\">Age &lt;= 23.5</text>\n<text text-anchor=\"middle\" x=\"105\" y=\"-275.8\" font-family=\"Times,serif\" font-size=\"14.00\">gini = 0.204</text>\n<text text-anchor=\"middle\" x=\"105\" y=\"-260.8\" font-family=\"Times,serif\" font-size=\"14.00\">samples = 26</text>\n<text text-anchor=\"middle\" x=\"105\" y=\"-245.8\" font-family=\"Times,serif\" font-size=\"14.00\">value = [3, 23]</text>\n<text text-anchor=\"middle\" x=\"105\" y=\"-230.8\" font-family=\"Times,serif\" font-size=\"14.00\">class = 1</text>\n</g>\n<!-- 4&#45;&gt;5 -->\n<g id=\"edge5\" class=\"edge\">\n<title>4&#45;&gt;5</title>\n<path fill=\"none\" stroke=\"black\" d=\"M180.75,-341.91C171.58,-332.65 161.74,-322.73 152.3,-313.21\"/>\n<polygon fill=\"black\" stroke=\"black\" points=\"154.7,-310.66 145.17,-306.02 149.73,-315.59 154.7,-310.66\"/>\n</g>\n<!-- 8 -->\n<g id=\"node9\" class=\"node\">\n<title>8</title>\n<polygon fill=\"#399de5\" stroke=\"black\" points=\"270,-298.5 172,-298.5 172,-230.5 270,-230.5 270,-298.5\"/>\n<text text-anchor=\"middle\" x=\"221\" y=\"-283.3\" font-family=\"Times,serif\" font-size=\"14.00\">gini = 0.0</text>\n<text text-anchor=\"middle\" x=\"221\" y=\"-268.3\" font-family=\"Times,serif\" font-size=\"14.00\">samples = 24</text>\n<text text-anchor=\"middle\" x=\"221\" y=\"-253.3\" font-family=\"Times,serif\" font-size=\"14.00\">value = [0, 24]</text>\n<text text-anchor=\"middle\" x=\"221\" y=\"-238.3\" font-family=\"Times,serif\" font-size=\"14.00\">class = 1</text>\n</g>\n<!-- 4&#45;&gt;8 -->\n<g id=\"edge8\" class=\"edge\">\n<title>4&#45;&gt;8</title>\n<path fill=\"none\" stroke=\"black\" d=\"M221,-341.91C221,-331.2 221,-319.62 221,-308.78\"/>\n<polygon fill=\"black\" stroke=\"black\" points=\"224.5,-308.67 221,-298.67 217.5,-308.67 224.5,-308.67\"/>\n</g>\n<!-- 6 -->\n<g id=\"node7\" class=\"node\">\n<title>6</title>\n<polygon fill=\"#399de5\" stroke=\"black\" points=\"98,-179.5 0,-179.5 0,-111.5 98,-111.5 98,-179.5\"/>\n<text text-anchor=\"middle\" x=\"49\" y=\"-164.3\" font-family=\"Times,serif\" font-size=\"14.00\">gini = 0.0</text>\n<text text-anchor=\"middle\" x=\"49\" y=\"-149.3\" font-family=\"Times,serif\" font-size=\"14.00\">samples = 15</text>\n<text text-anchor=\"middle\" x=\"49\" y=\"-134.3\" font-family=\"Times,serif\" font-size=\"14.00\">value = [0, 15]</text>\n<text text-anchor=\"middle\" x=\"49\" y=\"-119.3\" font-family=\"Times,serif\" font-size=\"14.00\">class = 1</text>\n</g>\n<!-- 5&#45;&gt;6 -->\n<g id=\"edge6\" class=\"edge\">\n<title>5&#45;&gt;6</title>\n<path fill=\"none\" stroke=\"black\" d=\"M85.57,-222.91C80.29,-211.87 74.56,-199.9 69.23,-188.77\"/>\n<polygon fill=\"black\" stroke=\"black\" points=\"72.35,-187.18 64.87,-179.67 66.04,-190.2 72.35,-187.18\"/>\n</g>\n<!-- 7 -->\n<g id=\"node8\" class=\"node\">\n<title>7</title>\n<polygon fill=\"#83c2ef\" stroke=\"black\" points=\"208,-179.5 116,-179.5 116,-111.5 208,-111.5 208,-179.5\"/>\n<text text-anchor=\"middle\" x=\"162\" y=\"-164.3\" font-family=\"Times,serif\" font-size=\"14.00\">gini = 0.397</text>\n<text text-anchor=\"middle\" x=\"162\" y=\"-149.3\" font-family=\"Times,serif\" font-size=\"14.00\">samples = 11</text>\n<text text-anchor=\"middle\" x=\"162\" y=\"-134.3\" font-family=\"Times,serif\" font-size=\"14.00\">value = [3, 8]</text>\n<text text-anchor=\"middle\" x=\"162\" y=\"-119.3\" font-family=\"Times,serif\" font-size=\"14.00\">class = 1</text>\n</g>\n<!-- 5&#45;&gt;7 -->\n<g id=\"edge7\" class=\"edge\">\n<title>5&#45;&gt;7</title>\n<path fill=\"none\" stroke=\"black\" d=\"M124.78,-222.91C130.15,-211.87 135.99,-199.9 141.41,-188.77\"/>\n<polygon fill=\"black\" stroke=\"black\" points=\"144.61,-190.19 145.84,-179.67 138.32,-187.12 144.61,-190.19\"/>\n</g>\n<!-- 10 -->\n<g id=\"node11\" class=\"node\">\n<title>10</title>\n<polygon fill=\"#9ccef2\" stroke=\"black\" points=\"380,-298.5 288,-298.5 288,-230.5 380,-230.5 380,-298.5\"/>\n<text text-anchor=\"middle\" x=\"334\" y=\"-283.3\" font-family=\"Times,serif\" font-size=\"14.00\">gini = 0.444</text>\n<text text-anchor=\"middle\" x=\"334\" y=\"-268.3\" font-family=\"Times,serif\" font-size=\"14.00\">samples = 6</text>\n<text text-anchor=\"middle\" x=\"334\" y=\"-253.3\" font-family=\"Times,serif\" font-size=\"14.00\">value = [2, 4]</text>\n<text text-anchor=\"middle\" x=\"334\" y=\"-238.3\" font-family=\"Times,serif\" font-size=\"14.00\">class = 1</text>\n</g>\n<!-- 9&#45;&gt;10 -->\n<g id=\"edge10\" class=\"edge\">\n<title>9&#45;&gt;10</title>\n<path fill=\"none\" stroke=\"black\" d=\"M359.47,-341.91C355.86,-331.09 351.96,-319.38 348.31,-308.44\"/>\n<polygon fill=\"black\" stroke=\"black\" points=\"351.54,-307.05 345.06,-298.67 344.9,-309.26 351.54,-307.05\"/>\n</g>\n<!-- 11 -->\n<g id=\"node12\" class=\"node\">\n<title>11</title>\n<polygon fill=\"#5aade9\" stroke=\"black\" points=\"500,-306 398,-306 398,-223 500,-223 500,-306\"/>\n<text text-anchor=\"middle\" x=\"449\" y=\"-290.8\" font-family=\"Times,serif\" font-size=\"14.00\">Fare &lt;= 25.965</text>\n<text text-anchor=\"middle\" x=\"449\" y=\"-275.8\" font-family=\"Times,serif\" font-size=\"14.00\">gini = 0.245</text>\n<text text-anchor=\"middle\" x=\"449\" y=\"-260.8\" font-family=\"Times,serif\" font-size=\"14.00\">samples = 14</text>\n<text text-anchor=\"middle\" x=\"449\" y=\"-245.8\" font-family=\"Times,serif\" font-size=\"14.00\">value = [2, 12]</text>\n<text text-anchor=\"middle\" x=\"449\" y=\"-230.8\" font-family=\"Times,serif\" font-size=\"14.00\">class = 1</text>\n</g>\n<!-- 9&#45;&gt;11 -->\n<g id=\"edge11\" class=\"edge\">\n<title>9&#45;&gt;11</title>\n<path fill=\"none\" stroke=\"black\" d=\"M399.37,-341.91C405.09,-333.1 411.19,-323.7 417.1,-314.61\"/>\n<polygon fill=\"black\" stroke=\"black\" points=\"420.17,-316.31 422.68,-306.02 414.3,-312.5 420.17,-316.31\"/>\n</g>\n<!-- 12 -->\n<g id=\"node13\" class=\"node\">\n<title>12</title>\n<polygon fill=\"#399de5\" stroke=\"black\" points=\"439,-179.5 347,-179.5 347,-111.5 439,-111.5 439,-179.5\"/>\n<text text-anchor=\"middle\" x=\"393\" y=\"-164.3\" font-family=\"Times,serif\" font-size=\"14.00\">gini = 0.0</text>\n<text text-anchor=\"middle\" x=\"393\" y=\"-149.3\" font-family=\"Times,serif\" font-size=\"14.00\">samples = 7</text>\n<text text-anchor=\"middle\" x=\"393\" y=\"-134.3\" font-family=\"Times,serif\" font-size=\"14.00\">value = [0, 7]</text>\n<text text-anchor=\"middle\" x=\"393\" y=\"-119.3\" font-family=\"Times,serif\" font-size=\"14.00\">class = 1</text>\n</g>\n<!-- 11&#45;&gt;12 -->\n<g id=\"edge12\" class=\"edge\">\n<title>11&#45;&gt;12</title>\n<path fill=\"none\" stroke=\"black\" d=\"M429.57,-222.91C424.29,-211.87 418.56,-199.9 413.23,-188.77\"/>\n<polygon fill=\"black\" stroke=\"black\" points=\"416.35,-187.18 408.87,-179.67 410.04,-190.2 416.35,-187.18\"/>\n</g>\n<!-- 13 -->\n<g id=\"node14\" class=\"node\">\n<title>13</title>\n<polygon fill=\"#88c4ef\" stroke=\"black\" points=\"549,-179.5 457,-179.5 457,-111.5 549,-111.5 549,-179.5\"/>\n<text text-anchor=\"middle\" x=\"503\" y=\"-164.3\" font-family=\"Times,serif\" font-size=\"14.00\">gini = 0.408</text>\n<text text-anchor=\"middle\" x=\"503\" y=\"-149.3\" font-family=\"Times,serif\" font-size=\"14.00\">samples = 7</text>\n<text text-anchor=\"middle\" x=\"503\" y=\"-134.3\" font-family=\"Times,serif\" font-size=\"14.00\">value = [2, 5]</text>\n<text text-anchor=\"middle\" x=\"503\" y=\"-119.3\" font-family=\"Times,serif\" font-size=\"14.00\">class = 1</text>\n</g>\n<!-- 11&#45;&gt;13 -->\n<g id=\"edge13\" class=\"edge\">\n<title>11&#45;&gt;13</title>\n<path fill=\"none\" stroke=\"black\" d=\"M467.74,-222.91C472.83,-211.87 478.35,-199.9 483.49,-188.77\"/>\n<polygon fill=\"black\" stroke=\"black\" points=\"486.68,-190.21 487.69,-179.67 480.32,-187.28 486.68,-190.21\"/>\n</g>\n<!-- 15 -->\n<g id=\"node16\" class=\"node\">\n<title>15</title>\n<polygon fill=\"#399de5\" stroke=\"black\" points=\"587,-417.5 489,-417.5 489,-349.5 587,-349.5 587,-417.5\"/>\n<text text-anchor=\"middle\" x=\"538\" y=\"-402.3\" font-family=\"Times,serif\" font-size=\"14.00\">gini = 0.0</text>\n<text text-anchor=\"middle\" x=\"538\" y=\"-387.3\" font-family=\"Times,serif\" font-size=\"14.00\">samples = 87</text>\n<text text-anchor=\"middle\" x=\"538\" y=\"-372.3\" font-family=\"Times,serif\" font-size=\"14.00\">value = [0, 87]</text>\n<text text-anchor=\"middle\" x=\"538\" y=\"-357.3\" font-family=\"Times,serif\" font-size=\"14.00\">class = 1</text>\n</g>\n<!-- 14&#45;&gt;15 -->\n<g id=\"edge15\" class=\"edge\">\n<title>14&#45;&gt;15</title>\n<path fill=\"none\" stroke=\"black\" d=\"M577.84,-460.91C572.08,-449.87 565.84,-437.9 560.04,-426.77\"/>\n<polygon fill=\"black\" stroke=\"black\" points=\"563.02,-424.92 555.29,-417.67 556.81,-428.15 563.02,-424.92\"/>\n</g>\n<!-- 16 -->\n<g id=\"node17\" class=\"node\">\n<title>16</title>\n<polygon fill=\"#5dafea\" stroke=\"black\" points=\"714.5,-425 605.5,-425 605.5,-342 714.5,-342 714.5,-425\"/>\n<text text-anchor=\"middle\" x=\"660\" y=\"-409.8\" font-family=\"Times,serif\" font-size=\"14.00\">Fare &lt;= 135.775</text>\n<text text-anchor=\"middle\" x=\"660\" y=\"-394.8\" font-family=\"Times,serif\" font-size=\"14.00\">gini = 0.26</text>\n<text text-anchor=\"middle\" x=\"660\" y=\"-379.8\" font-family=\"Times,serif\" font-size=\"14.00\">samples = 13</text>\n<text text-anchor=\"middle\" x=\"660\" y=\"-364.8\" font-family=\"Times,serif\" font-size=\"14.00\">value = [2, 11]</text>\n<text text-anchor=\"middle\" x=\"660\" y=\"-349.8\" font-family=\"Times,serif\" font-size=\"14.00\">class = 1</text>\n</g>\n<!-- 14&#45;&gt;16 -->\n<g id=\"edge16\" class=\"edge\">\n<title>14&#45;&gt;16</title>\n<path fill=\"none\" stroke=\"black\" d=\"M620.16,-460.91C624.71,-452.2 629.55,-442.9 634.25,-433.89\"/>\n<polygon fill=\"black\" stroke=\"black\" points=\"637.35,-435.51 638.87,-425.02 631.15,-432.27 637.35,-435.51\"/>\n</g>\n<!-- 17 -->\n<g id=\"node18\" class=\"node\">\n<title>17</title>\n<polygon fill=\"#399de5\" stroke=\"black\" points=\"610,-298.5 518,-298.5 518,-230.5 610,-230.5 610,-298.5\"/>\n<text text-anchor=\"middle\" x=\"564\" y=\"-283.3\" font-family=\"Times,serif\" font-size=\"14.00\">gini = 0.0</text>\n<text text-anchor=\"middle\" x=\"564\" y=\"-268.3\" font-family=\"Times,serif\" font-size=\"14.00\">samples = 7</text>\n<text text-anchor=\"middle\" x=\"564\" y=\"-253.3\" font-family=\"Times,serif\" font-size=\"14.00\">value = [0, 7]</text>\n<text text-anchor=\"middle\" x=\"564\" y=\"-238.3\" font-family=\"Times,serif\" font-size=\"14.00\">class = 1</text>\n</g>\n<!-- 16&#45;&gt;17 -->\n<g id=\"edge17\" class=\"edge\">\n<title>16&#45;&gt;17</title>\n<path fill=\"none\" stroke=\"black\" d=\"M626.69,-341.91C617.28,-330.43 607.03,-317.94 597.59,-306.44\"/>\n<polygon fill=\"black\" stroke=\"black\" points=\"600.26,-304.18 591.21,-298.67 594.85,-308.62 600.26,-304.18\"/>\n</g>\n<!-- 18 -->\n<g id=\"node19\" class=\"node\">\n<title>18</title>\n<polygon fill=\"#9ccef2\" stroke=\"black\" points=\"720,-298.5 628,-298.5 628,-230.5 720,-230.5 720,-298.5\"/>\n<text text-anchor=\"middle\" x=\"674\" y=\"-283.3\" font-family=\"Times,serif\" font-size=\"14.00\">gini = 0.444</text>\n<text text-anchor=\"middle\" x=\"674\" y=\"-268.3\" font-family=\"Times,serif\" font-size=\"14.00\">samples = 6</text>\n<text text-anchor=\"middle\" x=\"674\" y=\"-253.3\" font-family=\"Times,serif\" font-size=\"14.00\">value = [2, 4]</text>\n<text text-anchor=\"middle\" x=\"674\" y=\"-238.3\" font-family=\"Times,serif\" font-size=\"14.00\">class = 1</text>\n</g>\n<!-- 16&#45;&gt;18 -->\n<g id=\"edge18\" class=\"edge\">\n<title>16&#45;&gt;18</title>\n<path fill=\"none\" stroke=\"black\" d=\"M664.86,-341.91C666.14,-331.2 667.52,-319.62 668.82,-308.78\"/>\n<polygon fill=\"black\" stroke=\"black\" points=\"672.32,-309.01 670.03,-298.67 665.37,-308.18 672.32,-309.01\"/>\n</g>\n<!-- 20 -->\n<g id=\"node21\" class=\"node\">\n<title>20</title>\n<polygon fill=\"#c3e1f7\" stroke=\"black\" points=\"984.5,-544 879.5,-544 879.5,-461 984.5,-461 984.5,-544\"/>\n<text text-anchor=\"middle\" x=\"932\" y=\"-528.8\" font-family=\"Times,serif\" font-size=\"14.00\">Age &lt;= 36.5</text>\n<text text-anchor=\"middle\" x=\"932\" y=\"-513.8\" font-family=\"Times,serif\" font-size=\"14.00\">gini = 0.484</text>\n<text text-anchor=\"middle\" x=\"932\" y=\"-498.8\" font-family=\"Times,serif\" font-size=\"14.00\">samples = 117</text>\n<text text-anchor=\"middle\" x=\"932\" y=\"-483.8\" font-family=\"Times,serif\" font-size=\"14.00\">value = [48, 69]</text>\n<text text-anchor=\"middle\" x=\"932\" y=\"-468.8\" font-family=\"Times,serif\" font-size=\"14.00\">class = 1</text>\n</g>\n<!-- 19&#45;&gt;20 -->\n<g id=\"edge20\" class=\"edge\">\n<title>19&#45;&gt;20</title>\n<path fill=\"none\" stroke=\"black\" d=\"M971.18,-579.91C966.76,-571.29 962.05,-562.09 957.47,-553.17\"/>\n<polygon fill=\"black\" stroke=\"black\" points=\"960.46,-551.32 952.78,-544.02 954.23,-554.52 960.46,-551.32\"/>\n</g>\n<!-- 35 -->\n<g id=\"node36\" class=\"node\">\n<title>35</title>\n<polygon fill=\"#e89152\" stroke=\"black\" points=\"1101,-544 1003,-544 1003,-461 1101,-461 1101,-544\"/>\n<text text-anchor=\"middle\" x=\"1052\" y=\"-528.8\" font-family=\"Times,serif\" font-size=\"14.00\">Family &lt;= 5.5</text>\n<text text-anchor=\"middle\" x=\"1052\" y=\"-513.8\" font-family=\"Times,serif\" font-size=\"14.00\">gini = 0.198</text>\n<text text-anchor=\"middle\" x=\"1052\" y=\"-498.8\" font-family=\"Times,serif\" font-size=\"14.00\">samples = 27</text>\n<text text-anchor=\"middle\" x=\"1052\" y=\"-483.8\" font-family=\"Times,serif\" font-size=\"14.00\">value = [24, 3]</text>\n<text text-anchor=\"middle\" x=\"1052\" y=\"-468.8\" font-family=\"Times,serif\" font-size=\"14.00\">class = 0</text>\n</g>\n<!-- 19&#45;&gt;35 -->\n<g id=\"edge35\" class=\"edge\">\n<title>19&#45;&gt;35</title>\n<path fill=\"none\" stroke=\"black\" d=\"M1012.82,-579.91C1017.24,-571.29 1021.95,-562.09 1026.53,-553.17\"/>\n<polygon fill=\"black\" stroke=\"black\" points=\"1029.77,-554.52 1031.22,-544.02 1023.54,-551.32 1029.77,-554.52\"/>\n</g>\n<!-- 21 -->\n<g id=\"node22\" class=\"node\">\n<title>21</title>\n<polygon fill=\"#b3daf5\" stroke=\"black\" points=\"870,-425 742,-425 742,-342 870,-342 870,-425\"/>\n<text text-anchor=\"middle\" x=\"806\" y=\"-409.8\" font-family=\"Times,serif\" font-size=\"14.00\">Embarked_S &lt;= 0.5</text>\n<text text-anchor=\"middle\" x=\"806\" y=\"-394.8\" font-family=\"Times,serif\" font-size=\"14.00\">gini = 0.472</text>\n<text text-anchor=\"middle\" x=\"806\" y=\"-379.8\" font-family=\"Times,serif\" font-size=\"14.00\">samples = 110</text>\n<text text-anchor=\"middle\" x=\"806\" y=\"-364.8\" font-family=\"Times,serif\" font-size=\"14.00\">value = [42, 68]</text>\n<text text-anchor=\"middle\" x=\"806\" y=\"-349.8\" font-family=\"Times,serif\" font-size=\"14.00\">class = 1</text>\n</g>\n<!-- 20&#45;&gt;21 -->\n<g id=\"edge21\" class=\"edge\">\n<title>20&#45;&gt;21</title>\n<path fill=\"none\" stroke=\"black\" d=\"M888.28,-460.91C878.22,-451.56 867.43,-441.54 857.08,-431.93\"/>\n<polygon fill=\"black\" stroke=\"black\" points=\"859.35,-429.26 849.64,-425.02 854.58,-434.39 859.35,-429.26\"/>\n</g>\n<!-- 34 -->\n<g id=\"node35\" class=\"node\">\n<title>34</title>\n<polygon fill=\"#e9965a\" stroke=\"black\" points=\"980,-417.5 888,-417.5 888,-349.5 980,-349.5 980,-417.5\"/>\n<text text-anchor=\"middle\" x=\"934\" y=\"-402.3\" font-family=\"Times,serif\" font-size=\"14.00\">gini = 0.245</text>\n<text text-anchor=\"middle\" x=\"934\" y=\"-387.3\" font-family=\"Times,serif\" font-size=\"14.00\">samples = 7</text>\n<text text-anchor=\"middle\" x=\"934\" y=\"-372.3\" font-family=\"Times,serif\" font-size=\"14.00\">value = [6, 1]</text>\n<text text-anchor=\"middle\" x=\"934\" y=\"-357.3\" font-family=\"Times,serif\" font-size=\"14.00\">class = 0</text>\n</g>\n<!-- 20&#45;&gt;34 -->\n<g id=\"edge34\" class=\"edge\">\n<title>20&#45;&gt;34</title>\n<path fill=\"none\" stroke=\"black\" d=\"M932.69,-460.91C932.88,-450.2 933.07,-438.62 933.26,-427.78\"/>\n<polygon fill=\"black\" stroke=\"black\" points=\"936.76,-427.73 933.43,-417.67 929.76,-427.61 936.76,-427.73\"/>\n</g>\n<!-- 22 -->\n<g id=\"node23\" class=\"node\">\n<title>22</title>\n<polygon fill=\"#85c3ef\" stroke=\"black\" points=\"843.5,-306 738.5,-306 738.5,-223 843.5,-223 843.5,-306\"/>\n<text text-anchor=\"middle\" x=\"791\" y=\"-290.8\" font-family=\"Times,serif\" font-size=\"14.00\">Fare &lt;= 15.621</text>\n<text text-anchor=\"middle\" x=\"791\" y=\"-275.8\" font-family=\"Times,serif\" font-size=\"14.00\">gini = 0.401</text>\n<text text-anchor=\"middle\" x=\"791\" y=\"-260.8\" font-family=\"Times,serif\" font-size=\"14.00\">samples = 54</text>\n<text text-anchor=\"middle\" x=\"791\" y=\"-245.8\" font-family=\"Times,serif\" font-size=\"14.00\">value = [15, 39]</text>\n<text text-anchor=\"middle\" x=\"791\" y=\"-230.8\" font-family=\"Times,serif\" font-size=\"14.00\">class = 1</text>\n</g>\n<!-- 21&#45;&gt;22 -->\n<g id=\"edge22\" class=\"edge\">\n<title>21&#45;&gt;22</title>\n<path fill=\"none\" stroke=\"black\" d=\"M800.8,-341.91C799.73,-333.56 798.59,-324.67 797.48,-316.02\"/>\n<polygon fill=\"black\" stroke=\"black\" points=\"800.94,-315.49 796.19,-306.02 794,-316.38 800.94,-315.49\"/>\n</g>\n<!-- 27 -->\n<g id=\"node28\" class=\"node\">\n<title>27</title>\n<polygon fill=\"#f1f8fd\" stroke=\"black\" points=\"966.5,-306 861.5,-306 861.5,-223 966.5,-223 966.5,-306\"/>\n<text text-anchor=\"middle\" x=\"914\" y=\"-290.8\" font-family=\"Times,serif\" font-size=\"14.00\">Fare &lt;= 10.825</text>\n<text text-anchor=\"middle\" x=\"914\" y=\"-275.8\" font-family=\"Times,serif\" font-size=\"14.00\">gini = 0.499</text>\n<text text-anchor=\"middle\" x=\"914\" y=\"-260.8\" font-family=\"Times,serif\" font-size=\"14.00\">samples = 56</text>\n<text text-anchor=\"middle\" x=\"914\" y=\"-245.8\" font-family=\"Times,serif\" font-size=\"14.00\">value = [27, 29]</text>\n<text text-anchor=\"middle\" x=\"914\" y=\"-230.8\" font-family=\"Times,serif\" font-size=\"14.00\">class = 1</text>\n</g>\n<!-- 21&#45;&gt;27 -->\n<g id=\"edge27\" class=\"edge\">\n<title>21&#45;&gt;27</title>\n<path fill=\"none\" stroke=\"black\" d=\"M843.47,-341.91C851.93,-332.74 860.99,-322.93 869.7,-313.49\"/>\n<polygon fill=\"black\" stroke=\"black\" points=\"872.39,-315.74 876.6,-306.02 867.24,-310.99 872.39,-315.74\"/>\n</g>\n<!-- 23 -->\n<g id=\"node24\" class=\"node\">\n<title>23</title>\n<polygon fill=\"#9ccef2\" stroke=\"black\" points=\"726.5,-187 621.5,-187 621.5,-104 726.5,-104 726.5,-187\"/>\n<text text-anchor=\"middle\" x=\"674\" y=\"-171.8\" font-family=\"Times,serif\" font-size=\"14.00\">Fare &lt;= 13.935</text>\n<text text-anchor=\"middle\" x=\"674\" y=\"-156.8\" font-family=\"Times,serif\" font-size=\"14.00\">gini = 0.444</text>\n<text text-anchor=\"middle\" x=\"674\" y=\"-141.8\" font-family=\"Times,serif\" font-size=\"14.00\">samples = 45</text>\n<text text-anchor=\"middle\" x=\"674\" y=\"-126.8\" font-family=\"Times,serif\" font-size=\"14.00\">value = [15, 30]</text>\n<text text-anchor=\"middle\" x=\"674\" y=\"-111.8\" font-family=\"Times,serif\" font-size=\"14.00\">class = 1</text>\n</g>\n<!-- 22&#45;&gt;23 -->\n<g id=\"edge23\" class=\"edge\">\n<title>22&#45;&gt;23</title>\n<path fill=\"none\" stroke=\"black\" d=\"M750.41,-222.91C741.15,-213.65 731.23,-203.73 721.71,-194.21\"/>\n<polygon fill=\"black\" stroke=\"black\" points=\"724.07,-191.62 714.52,-187.02 719.12,-196.57 724.07,-191.62\"/>\n</g>\n<!-- 26 -->\n<g id=\"node27\" class=\"node\">\n<title>26</title>\n<polygon fill=\"#399de5\" stroke=\"black\" points=\"837,-179.5 745,-179.5 745,-111.5 837,-111.5 837,-179.5\"/>\n<text text-anchor=\"middle\" x=\"791\" y=\"-164.3\" font-family=\"Times,serif\" font-size=\"14.00\">gini = 0.0</text>\n<text text-anchor=\"middle\" x=\"791\" y=\"-149.3\" font-family=\"Times,serif\" font-size=\"14.00\">samples = 9</text>\n<text text-anchor=\"middle\" x=\"791\" y=\"-134.3\" font-family=\"Times,serif\" font-size=\"14.00\">value = [0, 9]</text>\n<text text-anchor=\"middle\" x=\"791\" y=\"-119.3\" font-family=\"Times,serif\" font-size=\"14.00\">class = 1</text>\n</g>\n<!-- 22&#45;&gt;26 -->\n<g id=\"edge26\" class=\"edge\">\n<title>22&#45;&gt;26</title>\n<path fill=\"none\" stroke=\"black\" d=\"M791,-222.91C791,-212.2 791,-200.62 791,-189.78\"/>\n<polygon fill=\"black\" stroke=\"black\" points=\"794.5,-189.67 791,-179.67 787.5,-189.67 794.5,-189.67\"/>\n</g>\n<!-- 24 -->\n<g id=\"node25\" class=\"node\">\n<title>24</title>\n<polygon fill=\"#70b8ec\" stroke=\"black\" points=\"616,-68 518,-68 518,0 616,0 616,-68\"/>\n<text text-anchor=\"middle\" x=\"567\" y=\"-52.8\" font-family=\"Times,serif\" font-size=\"14.00\">gini = 0.342</text>\n<text text-anchor=\"middle\" x=\"567\" y=\"-37.8\" font-family=\"Times,serif\" font-size=\"14.00\">samples = 32</text>\n<text text-anchor=\"middle\" x=\"567\" y=\"-22.8\" font-family=\"Times,serif\" font-size=\"14.00\">value = [7, 25]</text>\n<text text-anchor=\"middle\" x=\"567\" y=\"-7.8\" font-family=\"Times,serif\" font-size=\"14.00\">class = 1</text>\n</g>\n<!-- 23&#45;&gt;24 -->\n<g id=\"edge24\" class=\"edge\">\n<title>23&#45;&gt;24</title>\n<path fill=\"none\" stroke=\"black\" d=\"M634.16,-103.73C625.16,-94.51 615.6,-84.74 606.61,-75.53\"/>\n<polygon fill=\"black\" stroke=\"black\" points=\"609.03,-73.01 599.54,-68.3 604.03,-77.9 609.03,-73.01\"/>\n</g>\n<!-- 25 -->\n<g id=\"node26\" class=\"node\">\n<title>25</title>\n<polygon fill=\"#f5d0b5\" stroke=\"black\" points=\"726,-68 634,-68 634,0 726,0 726,-68\"/>\n<text text-anchor=\"middle\" x=\"680\" y=\"-52.8\" font-family=\"Times,serif\" font-size=\"14.00\">gini = 0.473</text>\n<text text-anchor=\"middle\" x=\"680\" y=\"-37.8\" font-family=\"Times,serif\" font-size=\"14.00\">samples = 13</text>\n<text text-anchor=\"middle\" x=\"680\" y=\"-22.8\" font-family=\"Times,serif\" font-size=\"14.00\">value = [8, 5]</text>\n<text text-anchor=\"middle\" x=\"680\" y=\"-7.8\" font-family=\"Times,serif\" font-size=\"14.00\">class = 0</text>\n</g>\n<!-- 23&#45;&gt;25 -->\n<g id=\"edge25\" class=\"edge\">\n<title>23&#45;&gt;25</title>\n<path fill=\"none\" stroke=\"black\" d=\"M676.23,-103.73C676.68,-95.52 677.16,-86.86 677.61,-78.56\"/>\n<polygon fill=\"black\" stroke=\"black\" points=\"681.12,-78.48 678.18,-68.3 674.13,-78.09 681.12,-78.48\"/>\n</g>\n<!-- 28 -->\n<g id=\"node29\" class=\"node\">\n<title>28</title>\n<polygon fill=\"#f7d7c0\" stroke=\"black\" points=\"960.5,-187 855.5,-187 855.5,-104 960.5,-104 960.5,-187\"/>\n<text text-anchor=\"middle\" x=\"908\" y=\"-171.8\" font-family=\"Times,serif\" font-size=\"14.00\">Fare &lt;= 7.763</text>\n<text text-anchor=\"middle\" x=\"908\" y=\"-156.8\" font-family=\"Times,serif\" font-size=\"14.00\">gini = 0.482</text>\n<text text-anchor=\"middle\" x=\"908\" y=\"-141.8\" font-family=\"Times,serif\" font-size=\"14.00\">samples = 32</text>\n<text text-anchor=\"middle\" x=\"908\" y=\"-126.8\" font-family=\"Times,serif\" font-size=\"14.00\">value = [19, 13]</text>\n<text text-anchor=\"middle\" x=\"908\" y=\"-111.8\" font-family=\"Times,serif\" font-size=\"14.00\">class = 0</text>\n</g>\n<!-- 27&#45;&gt;28 -->\n<g id=\"edge28\" class=\"edge\">\n<title>27&#45;&gt;28</title>\n<path fill=\"none\" stroke=\"black\" d=\"M911.92,-222.91C911.49,-214.56 911.03,-205.67 910.59,-197.02\"/>\n<polygon fill=\"black\" stroke=\"black\" points=\"914.09,-196.83 910.08,-187.02 907.09,-197.19 914.09,-196.83\"/>\n</g>\n<!-- 31 -->\n<g id=\"node32\" class=\"node\">\n<title>31</title>\n<polygon fill=\"#9ccef2\" stroke=\"black\" points=\"1077,-187 979,-187 979,-104 1077,-104 1077,-187\"/>\n<text text-anchor=\"middle\" x=\"1028\" y=\"-171.8\" font-family=\"Times,serif\" font-size=\"14.00\">Fare &lt;= 17.6</text>\n<text text-anchor=\"middle\" x=\"1028\" y=\"-156.8\" font-family=\"Times,serif\" font-size=\"14.00\">gini = 0.444</text>\n<text text-anchor=\"middle\" x=\"1028\" y=\"-141.8\" font-family=\"Times,serif\" font-size=\"14.00\">samples = 24</text>\n<text text-anchor=\"middle\" x=\"1028\" y=\"-126.8\" font-family=\"Times,serif\" font-size=\"14.00\">value = [8, 16]</text>\n<text text-anchor=\"middle\" x=\"1028\" y=\"-111.8\" font-family=\"Times,serif\" font-size=\"14.00\">class = 1</text>\n</g>\n<!-- 27&#45;&gt;31 -->\n<g id=\"edge31\" class=\"edge\">\n<title>27&#45;&gt;31</title>\n<path fill=\"none\" stroke=\"black\" d=\"M953.55,-222.91C962.57,-213.65 972.24,-203.73 981.51,-194.21\"/>\n<polygon fill=\"black\" stroke=\"black\" points=\"984.05,-196.63 988.52,-187.02 979.03,-191.74 984.05,-196.63\"/>\n</g>\n<!-- 29 -->\n<g id=\"node30\" class=\"node\">\n<title>29</title>\n<polygon fill=\"#61b1ea\" stroke=\"black\" points=\"841,-68 749,-68 749,0 841,0 841,-68\"/>\n<text text-anchor=\"middle\" x=\"795\" y=\"-52.8\" font-family=\"Times,serif\" font-size=\"14.00\">gini = 0.278</text>\n<text text-anchor=\"middle\" x=\"795\" y=\"-37.8\" font-family=\"Times,serif\" font-size=\"14.00\">samples = 6</text>\n<text text-anchor=\"middle\" x=\"795\" y=\"-22.8\" font-family=\"Times,serif\" font-size=\"14.00\">value = [1, 5]</text>\n<text text-anchor=\"middle\" x=\"795\" y=\"-7.8\" font-family=\"Times,serif\" font-size=\"14.00\">class = 1</text>\n</g>\n<!-- 28&#45;&gt;29 -->\n<g id=\"edge29\" class=\"edge\">\n<title>28&#45;&gt;29</title>\n<path fill=\"none\" stroke=\"black\" d=\"M865.92,-103.73C856.32,-94.42 846.13,-84.54 836.55,-75.26\"/>\n<polygon fill=\"black\" stroke=\"black\" points=\"838.98,-72.75 829.36,-68.3 834.11,-77.77 838.98,-72.75\"/>\n</g>\n<!-- 30 -->\n<g id=\"node31\" class=\"node\">\n<title>30</title>\n<polygon fill=\"#f1b991\" stroke=\"black\" points=\"957,-68 859,-68 859,0 957,0 957,-68\"/>\n<text text-anchor=\"middle\" x=\"908\" y=\"-52.8\" font-family=\"Times,serif\" font-size=\"14.00\">gini = 0.426</text>\n<text text-anchor=\"middle\" x=\"908\" y=\"-37.8\" font-family=\"Times,serif\" font-size=\"14.00\">samples = 26</text>\n<text text-anchor=\"middle\" x=\"908\" y=\"-22.8\" font-family=\"Times,serif\" font-size=\"14.00\">value = [18, 8]</text>\n<text text-anchor=\"middle\" x=\"908\" y=\"-7.8\" font-family=\"Times,serif\" font-size=\"14.00\">class = 0</text>\n</g>\n<!-- 28&#45;&gt;30 -->\n<g id=\"edge30\" class=\"edge\">\n<title>28&#45;&gt;30</title>\n<path fill=\"none\" stroke=\"black\" d=\"M908,-103.73C908,-95.52 908,-86.86 908,-78.56\"/>\n<polygon fill=\"black\" stroke=\"black\" points=\"911.5,-78.3 908,-68.3 904.5,-78.3 911.5,-78.3\"/>\n</g>\n<!-- 32 -->\n<g id=\"node33\" class=\"node\">\n<title>32</title>\n<polygon fill=\"#57ace9\" stroke=\"black\" points=\"1073,-68 975,-68 975,0 1073,0 1073,-68\"/>\n<text text-anchor=\"middle\" x=\"1024\" y=\"-52.8\" font-family=\"Times,serif\" font-size=\"14.00\">gini = 0.231</text>\n<text text-anchor=\"middle\" x=\"1024\" y=\"-37.8\" font-family=\"Times,serif\" font-size=\"14.00\">samples = 15</text>\n<text text-anchor=\"middle\" x=\"1024\" y=\"-22.8\" font-family=\"Times,serif\" font-size=\"14.00\">value = [2, 13]</text>\n<text text-anchor=\"middle\" x=\"1024\" y=\"-7.8\" font-family=\"Times,serif\" font-size=\"14.00\">class = 1</text>\n</g>\n<!-- 31&#45;&gt;32 -->\n<g id=\"edge32\" class=\"edge\">\n<title>31&#45;&gt;32</title>\n<path fill=\"none\" stroke=\"black\" d=\"M1026.51,-103.73C1026.21,-95.52 1025.89,-86.86 1025.59,-78.56\"/>\n<polygon fill=\"black\" stroke=\"black\" points=\"1029.08,-78.17 1025.22,-68.3 1022.08,-78.42 1029.08,-78.17\"/>\n</g>\n<!-- 33 -->\n<g id=\"node34\" class=\"node\">\n<title>33</title>\n<polygon fill=\"#f2c09c\" stroke=\"black\" points=\"1183,-68 1091,-68 1091,0 1183,0 1183,-68\"/>\n<text text-anchor=\"middle\" x=\"1137\" y=\"-52.8\" font-family=\"Times,serif\" font-size=\"14.00\">gini = 0.444</text>\n<text text-anchor=\"middle\" x=\"1137\" y=\"-37.8\" font-family=\"Times,serif\" font-size=\"14.00\">samples = 9</text>\n<text text-anchor=\"middle\" x=\"1137\" y=\"-22.8\" font-family=\"Times,serif\" font-size=\"14.00\">value = [6, 3]</text>\n<text text-anchor=\"middle\" x=\"1137\" y=\"-7.8\" font-family=\"Times,serif\" font-size=\"14.00\">class = 0</text>\n</g>\n<!-- 31&#45;&gt;33 -->\n<g id=\"edge33\" class=\"edge\">\n<title>31&#45;&gt;33</title>\n<path fill=\"none\" stroke=\"black\" d=\"M1068.59,-103.73C1077.76,-94.51 1087.49,-84.74 1096.65,-75.53\"/>\n<polygon fill=\"black\" stroke=\"black\" points=\"1099.28,-77.86 1103.85,-68.3 1094.32,-72.92 1099.28,-77.86\"/>\n</g>\n<!-- 36 -->\n<g id=\"node37\" class=\"node\">\n<title>36</title>\n<polygon fill=\"#e58139\" stroke=\"black\" points=\"1099,-417.5 1001,-417.5 1001,-349.5 1099,-349.5 1099,-417.5\"/>\n<text text-anchor=\"middle\" x=\"1050\" y=\"-402.3\" font-family=\"Times,serif\" font-size=\"14.00\">gini = 0.0</text>\n<text text-anchor=\"middle\" x=\"1050\" y=\"-387.3\" font-family=\"Times,serif\" font-size=\"14.00\">samples = 14</text>\n<text text-anchor=\"middle\" x=\"1050\" y=\"-372.3\" font-family=\"Times,serif\" font-size=\"14.00\">value = [14, 0]</text>\n<text text-anchor=\"middle\" x=\"1050\" y=\"-357.3\" font-family=\"Times,serif\" font-size=\"14.00\">class = 0</text>\n</g>\n<!-- 35&#45;&gt;36 -->\n<g id=\"edge36\" class=\"edge\">\n<title>35&#45;&gt;36</title>\n<path fill=\"none\" stroke=\"black\" d=\"M1051.31,-460.91C1051.12,-450.2 1050.93,-438.62 1050.74,-427.78\"/>\n<polygon fill=\"black\" stroke=\"black\" points=\"1054.24,-427.61 1050.57,-417.67 1047.24,-427.73 1054.24,-427.61\"/>\n</g>\n<!-- 37 -->\n<g id=\"node38\" class=\"node\">\n<title>37</title>\n<polygon fill=\"#eda774\" stroke=\"black\" points=\"1219,-425 1117,-425 1117,-342 1219,-342 1219,-425\"/>\n<text text-anchor=\"middle\" x=\"1168\" y=\"-409.8\" font-family=\"Times,serif\" font-size=\"14.00\">Fare &lt;= 31.331</text>\n<text text-anchor=\"middle\" x=\"1168\" y=\"-394.8\" font-family=\"Times,serif\" font-size=\"14.00\">gini = 0.355</text>\n<text text-anchor=\"middle\" x=\"1168\" y=\"-379.8\" font-family=\"Times,serif\" font-size=\"14.00\">samples = 13</text>\n<text text-anchor=\"middle\" x=\"1168\" y=\"-364.8\" font-family=\"Times,serif\" font-size=\"14.00\">value = [10, 3]</text>\n<text text-anchor=\"middle\" x=\"1168\" y=\"-349.8\" font-family=\"Times,serif\" font-size=\"14.00\">class = 0</text>\n</g>\n<!-- 35&#45;&gt;37 -->\n<g id=\"edge37\" class=\"edge\">\n<title>35&#45;&gt;37</title>\n<path fill=\"none\" stroke=\"black\" d=\"M1092.25,-460.91C1101.42,-451.65 1111.26,-441.73 1120.7,-432.21\"/>\n<polygon fill=\"black\" stroke=\"black\" points=\"1123.27,-434.59 1127.83,-425.02 1118.3,-429.66 1123.27,-434.59\"/>\n</g>\n<!-- 38 -->\n<g id=\"node39\" class=\"node\">\n<title>38</title>\n<polygon fill=\"#ea9a61\" stroke=\"black\" points=\"1159,-298.5 1067,-298.5 1067,-230.5 1159,-230.5 1159,-298.5\"/>\n<text text-anchor=\"middle\" x=\"1113\" y=\"-283.3\" font-family=\"Times,serif\" font-size=\"14.00\">gini = 0.278</text>\n<text text-anchor=\"middle\" x=\"1113\" y=\"-268.3\" font-family=\"Times,serif\" font-size=\"14.00\">samples = 6</text>\n<text text-anchor=\"middle\" x=\"1113\" y=\"-253.3\" font-family=\"Times,serif\" font-size=\"14.00\">value = [5, 1]</text>\n<text text-anchor=\"middle\" x=\"1113\" y=\"-238.3\" font-family=\"Times,serif\" font-size=\"14.00\">class = 0</text>\n</g>\n<!-- 37&#45;&gt;38 -->\n<g id=\"edge38\" class=\"edge\">\n<title>37&#45;&gt;38</title>\n<path fill=\"none\" stroke=\"black\" d=\"M1148.92,-341.91C1143.73,-330.87 1138.1,-318.9 1132.87,-307.77\"/>\n<polygon fill=\"black\" stroke=\"black\" points=\"1136.01,-306.23 1128.59,-298.67 1129.68,-309.21 1136.01,-306.23\"/>\n</g>\n<!-- 39 -->\n<g id=\"node40\" class=\"node\">\n<title>39</title>\n<polygon fill=\"#efb388\" stroke=\"black\" points=\"1269,-298.5 1177,-298.5 1177,-230.5 1269,-230.5 1269,-298.5\"/>\n<text text-anchor=\"middle\" x=\"1223\" y=\"-283.3\" font-family=\"Times,serif\" font-size=\"14.00\">gini = 0.408</text>\n<text text-anchor=\"middle\" x=\"1223\" y=\"-268.3\" font-family=\"Times,serif\" font-size=\"14.00\">samples = 7</text>\n<text text-anchor=\"middle\" x=\"1223\" y=\"-253.3\" font-family=\"Times,serif\" font-size=\"14.00\">value = [5, 2]</text>\n<text text-anchor=\"middle\" x=\"1223\" y=\"-238.3\" font-family=\"Times,serif\" font-size=\"14.00\">class = 0</text>\n</g>\n<!-- 37&#45;&gt;39 -->\n<g id=\"edge39\" class=\"edge\">\n<title>37&#45;&gt;39</title>\n<path fill=\"none\" stroke=\"black\" d=\"M1187.08,-341.91C1192.27,-330.87 1197.9,-318.9 1203.13,-307.77\"/>\n<polygon fill=\"black\" stroke=\"black\" points=\"1206.32,-309.21 1207.41,-298.67 1199.99,-306.23 1206.32,-309.21\"/>\n</g>\n<!-- 41 -->\n<g id=\"node42\" class=\"node\">\n<title>41</title>\n<polygon fill=\"#9ccef2\" stroke=\"black\" points=\"1324,-663 1226,-663 1226,-580 1324,-580 1324,-663\"/>\n<text text-anchor=\"middle\" x=\"1275\" y=\"-647.8\" font-family=\"Times,serif\" font-size=\"14.00\">Family &lt;= 3.5</text>\n<text text-anchor=\"middle\" x=\"1275\" y=\"-632.8\" font-family=\"Times,serif\" font-size=\"14.00\">gini = 0.444</text>\n<text text-anchor=\"middle\" x=\"1275\" y=\"-617.8\" font-family=\"Times,serif\" font-size=\"14.00\">samples = 24</text>\n<text text-anchor=\"middle\" x=\"1275\" y=\"-602.8\" font-family=\"Times,serif\" font-size=\"14.00\">value = [8, 16]</text>\n<text text-anchor=\"middle\" x=\"1275\" y=\"-587.8\" font-family=\"Times,serif\" font-size=\"14.00\">class = 1</text>\n</g>\n<!-- 40&#45;&gt;41 -->\n<g id=\"edge41\" class=\"edge\">\n<title>40&#45;&gt;41</title>\n<path fill=\"none\" stroke=\"black\" d=\"M1275,-698.91C1275,-690.65 1275,-681.86 1275,-673.3\"/>\n<polygon fill=\"black\" stroke=\"black\" points=\"1278.5,-673.02 1275,-663.02 1271.5,-673.02 1278.5,-673.02\"/>\n</g>\n<!-- 44 -->\n<g id=\"node45\" class=\"node\">\n<title>44</title>\n<polygon fill=\"#ea9a61\" stroke=\"black\" points=\"1507,-663 1395,-663 1395,-580 1507,-580 1507,-663\"/>\n<text text-anchor=\"middle\" x=\"1451\" y=\"-647.8\" font-family=\"Times,serif\" font-size=\"14.00\">Pclass &lt;= 1.5</text>\n<text text-anchor=\"middle\" x=\"1451\" y=\"-632.8\" font-family=\"Times,serif\" font-size=\"14.00\">gini = 0.28</text>\n<text text-anchor=\"middle\" x=\"1451\" y=\"-617.8\" font-family=\"Times,serif\" font-size=\"14.00\">samples = 553</text>\n<text text-anchor=\"middle\" x=\"1451\" y=\"-602.8\" font-family=\"Times,serif\" font-size=\"14.00\">value = [460, 93]</text>\n<text text-anchor=\"middle\" x=\"1451\" y=\"-587.8\" font-family=\"Times,serif\" font-size=\"14.00\">class = 0</text>\n</g>\n<!-- 40&#45;&gt;44 -->\n<g id=\"edge44\" class=\"edge\">\n<title>40&#45;&gt;44</title>\n<path fill=\"none\" stroke=\"black\" d=\"M1334.59,-699.89C1351.15,-688.88 1369.21,-676.87 1386.06,-665.67\"/>\n<polygon fill=\"black\" stroke=\"black\" points=\"1388.36,-668.35 1394.75,-659.9 1384.48,-662.52 1388.36,-668.35\"/>\n</g>\n<!-- 42 -->\n<g id=\"node43\" class=\"node\">\n<title>42</title>\n<polygon fill=\"#399de5\" stroke=\"black\" points=\"1252,-536.5 1154,-536.5 1154,-468.5 1252,-468.5 1252,-536.5\"/>\n<text text-anchor=\"middle\" x=\"1203\" y=\"-521.3\" font-family=\"Times,serif\" font-size=\"14.00\">gini = 0.0</text>\n<text text-anchor=\"middle\" x=\"1203\" y=\"-506.3\" font-family=\"Times,serif\" font-size=\"14.00\">samples = 15</text>\n<text text-anchor=\"middle\" x=\"1203\" y=\"-491.3\" font-family=\"Times,serif\" font-size=\"14.00\">value = [0, 15]</text>\n<text text-anchor=\"middle\" x=\"1203\" y=\"-476.3\" font-family=\"Times,serif\" font-size=\"14.00\">class = 1</text>\n</g>\n<!-- 41&#45;&gt;42 -->\n<g id=\"edge42\" class=\"edge\">\n<title>41&#45;&gt;42</title>\n<path fill=\"none\" stroke=\"black\" d=\"M1250.02,-579.91C1243.16,-568.76 1235.71,-556.66 1228.81,-545.44\"/>\n<polygon fill=\"black\" stroke=\"black\" points=\"1231.63,-543.35 1223.41,-536.67 1225.67,-547.02 1231.63,-543.35\"/>\n</g>\n<!-- 43 -->\n<g id=\"node44\" class=\"node\">\n<title>43</title>\n<polygon fill=\"#e89152\" stroke=\"black\" points=\"1362,-536.5 1270,-536.5 1270,-468.5 1362,-468.5 1362,-536.5\"/>\n<text text-anchor=\"middle\" x=\"1316\" y=\"-521.3\" font-family=\"Times,serif\" font-size=\"14.00\">gini = 0.198</text>\n<text text-anchor=\"middle\" x=\"1316\" y=\"-506.3\" font-family=\"Times,serif\" font-size=\"14.00\">samples = 9</text>\n<text text-anchor=\"middle\" x=\"1316\" y=\"-491.3\" font-family=\"Times,serif\" font-size=\"14.00\">value = [8, 1]</text>\n<text text-anchor=\"middle\" x=\"1316\" y=\"-476.3\" font-family=\"Times,serif\" font-size=\"14.00\">class = 0</text>\n</g>\n<!-- 41&#45;&gt;43 -->\n<g id=\"edge43\" class=\"edge\">\n<title>41&#45;&gt;43</title>\n<path fill=\"none\" stroke=\"black\" d=\"M1289.22,-579.91C1293.05,-568.98 1297.2,-557.14 1301.07,-546.11\"/>\n<polygon fill=\"black\" stroke=\"black\" points=\"1304.37,-547.26 1304.38,-536.67 1297.77,-544.95 1304.37,-547.26\"/>\n</g>\n<!-- 45 -->\n<g id=\"node46\" class=\"node\">\n<title>45</title>\n<polygon fill=\"#f4c7a8\" stroke=\"black\" points=\"1503.5,-544 1398.5,-544 1398.5,-461 1503.5,-461 1503.5,-544\"/>\n<text text-anchor=\"middle\" x=\"1451\" y=\"-528.8\" font-family=\"Times,serif\" font-size=\"14.00\">Fare &lt;= 26.144</text>\n<text text-anchor=\"middle\" x=\"1451\" y=\"-513.8\" font-family=\"Times,serif\" font-size=\"14.00\">gini = 0.46</text>\n<text text-anchor=\"middle\" x=\"1451\" y=\"-498.8\" font-family=\"Times,serif\" font-size=\"14.00\">samples = 120</text>\n<text text-anchor=\"middle\" x=\"1451\" y=\"-483.8\" font-family=\"Times,serif\" font-size=\"14.00\">value = [77, 43]</text>\n<text text-anchor=\"middle\" x=\"1451\" y=\"-468.8\" font-family=\"Times,serif\" font-size=\"14.00\">class = 0</text>\n</g>\n<!-- 44&#45;&gt;45 -->\n<g id=\"edge45\" class=\"edge\">\n<title>44&#45;&gt;45</title>\n<path fill=\"none\" stroke=\"black\" d=\"M1451,-579.91C1451,-571.65 1451,-562.86 1451,-554.3\"/>\n<polygon fill=\"black\" stroke=\"black\" points=\"1454.5,-554.02 1451,-544.02 1447.5,-554.02 1454.5,-554.02\"/>\n</g>\n<!-- 60 -->\n<g id=\"node61\" class=\"node\">\n<title>60</title>\n<polygon fill=\"#e89153\" stroke=\"black\" points=\"2040,-544 1928,-544 1928,-461 2040,-461 2040,-544\"/>\n<text text-anchor=\"middle\" x=\"1984\" y=\"-528.8\" font-family=\"Times,serif\" font-size=\"14.00\">Fare &lt;= 51.698</text>\n<text text-anchor=\"middle\" x=\"1984\" y=\"-513.8\" font-family=\"Times,serif\" font-size=\"14.00\">gini = 0.204</text>\n<text text-anchor=\"middle\" x=\"1984\" y=\"-498.8\" font-family=\"Times,serif\" font-size=\"14.00\">samples = 433</text>\n<text text-anchor=\"middle\" x=\"1984\" y=\"-483.8\" font-family=\"Times,serif\" font-size=\"14.00\">value = [383, 50]</text>\n<text text-anchor=\"middle\" x=\"1984\" y=\"-468.8\" font-family=\"Times,serif\" font-size=\"14.00\">class = 0</text>\n</g>\n<!-- 44&#45;&gt;60 -->\n<g id=\"edge60\" class=\"edge\">\n<title>44&#45;&gt;60</title>\n<path fill=\"none\" stroke=\"black\" d=\"M1507.03,-608.2C1606.2,-586.43 1812.12,-541.23 1917.99,-517.99\"/>\n<polygon fill=\"black\" stroke=\"black\" points=\"1918.9,-521.37 1927.92,-515.81 1917.4,-514.54 1918.9,-521.37\"/>\n</g>\n<!-- 46 -->\n<g id=\"node47\" class=\"node\">\n<title>46</title>\n<polygon fill=\"#e58139\" stroke=\"black\" points=\"1449,-417.5 1351,-417.5 1351,-349.5 1449,-349.5 1449,-417.5\"/>\n<text text-anchor=\"middle\" x=\"1400\" y=\"-402.3\" font-family=\"Times,serif\" font-size=\"14.00\">gini = 0.0</text>\n<text text-anchor=\"middle\" x=\"1400\" y=\"-387.3\" font-family=\"Times,serif\" font-size=\"14.00\">samples = 10</text>\n<text text-anchor=\"middle\" x=\"1400\" y=\"-372.3\" font-family=\"Times,serif\" font-size=\"14.00\">value = [10, 0]</text>\n<text text-anchor=\"middle\" x=\"1400\" y=\"-357.3\" font-family=\"Times,serif\" font-size=\"14.00\">class = 0</text>\n</g>\n<!-- 45&#45;&gt;46 -->\n<g id=\"edge46\" class=\"edge\">\n<title>45&#45;&gt;46</title>\n<path fill=\"none\" stroke=\"black\" d=\"M1433.31,-460.91C1428.54,-449.98 1423.38,-438.14 1418.57,-427.11\"/>\n<polygon fill=\"black\" stroke=\"black\" points=\"1421.66,-425.44 1414.46,-417.67 1415.24,-428.23 1421.66,-425.44\"/>\n</g>\n<!-- 47 -->\n<g id=\"node48\" class=\"node\">\n<title>47</title>\n<polygon fill=\"#f6d2b8\" stroke=\"black\" points=\"1572.5,-425 1467.5,-425 1467.5,-342 1572.5,-342 1572.5,-425\"/>\n<text text-anchor=\"middle\" x=\"1520\" y=\"-409.8\" font-family=\"Times,serif\" font-size=\"14.00\">Age &lt;= 53.0</text>\n<text text-anchor=\"middle\" x=\"1520\" y=\"-394.8\" font-family=\"Times,serif\" font-size=\"14.00\">gini = 0.476</text>\n<text text-anchor=\"middle\" x=\"1520\" y=\"-379.8\" font-family=\"Times,serif\" font-size=\"14.00\">samples = 110</text>\n<text text-anchor=\"middle\" x=\"1520\" y=\"-364.8\" font-family=\"Times,serif\" font-size=\"14.00\">value = [67, 43]</text>\n<text text-anchor=\"middle\" x=\"1520\" y=\"-349.8\" font-family=\"Times,serif\" font-size=\"14.00\">class = 0</text>\n</g>\n<!-- 45&#45;&gt;47 -->\n<g id=\"edge47\" class=\"edge\">\n<title>45&#45;&gt;47</title>\n<path fill=\"none\" stroke=\"black\" d=\"M1474.94,-460.91C1480.08,-452.2 1485.56,-442.9 1490.87,-433.89\"/>\n<polygon fill=\"black\" stroke=\"black\" points=\"1494.04,-435.41 1496.1,-425.02 1488.01,-431.86 1494.04,-435.41\"/>\n</g>\n<!-- 48 -->\n<g id=\"node49\" class=\"node\">\n<title>48</title>\n<polygon fill=\"#fae8db\" stroke=\"black\" points=\"1519.5,-306 1414.5,-306 1414.5,-223 1519.5,-223 1519.5,-306\"/>\n<text text-anchor=\"middle\" x=\"1467\" y=\"-290.8\" font-family=\"Times,serif\" font-size=\"14.00\">Fare &lt;= 27.135</text>\n<text text-anchor=\"middle\" x=\"1467\" y=\"-275.8\" font-family=\"Times,serif\" font-size=\"14.00\">gini = 0.495</text>\n<text text-anchor=\"middle\" x=\"1467\" y=\"-260.8\" font-family=\"Times,serif\" font-size=\"14.00\">samples = 89</text>\n<text text-anchor=\"middle\" x=\"1467\" y=\"-245.8\" font-family=\"Times,serif\" font-size=\"14.00\">value = [49, 40]</text>\n<text text-anchor=\"middle\" x=\"1467\" y=\"-230.8\" font-family=\"Times,serif\" font-size=\"14.00\">class = 0</text>\n</g>\n<!-- 47&#45;&gt;48 -->\n<g id=\"edge48\" class=\"edge\">\n<title>47&#45;&gt;48</title>\n<path fill=\"none\" stroke=\"black\" d=\"M1501.61,-341.91C1497.71,-333.29 1493.54,-324.09 1489.5,-315.17\"/>\n<polygon fill=\"black\" stroke=\"black\" points=\"1492.67,-313.69 1485.36,-306.02 1486.29,-316.57 1492.67,-313.69\"/>\n</g>\n<!-- 55 -->\n<g id=\"node56\" class=\"node\">\n<title>55</title>\n<polygon fill=\"#e9965a\" stroke=\"black\" points=\"1636,-306 1538,-306 1538,-223 1636,-223 1636,-306\"/>\n<text text-anchor=\"middle\" x=\"1587\" y=\"-290.8\" font-family=\"Times,serif\" font-size=\"14.00\">Fare &lt;= 29.85</text>\n<text text-anchor=\"middle\" x=\"1587\" y=\"-275.8\" font-family=\"Times,serif\" font-size=\"14.00\">gini = 0.245</text>\n<text text-anchor=\"middle\" x=\"1587\" y=\"-260.8\" font-family=\"Times,serif\" font-size=\"14.00\">samples = 21</text>\n<text text-anchor=\"middle\" x=\"1587\" y=\"-245.8\" font-family=\"Times,serif\" font-size=\"14.00\">value = [18, 3]</text>\n<text text-anchor=\"middle\" x=\"1587\" y=\"-230.8\" font-family=\"Times,serif\" font-size=\"14.00\">class = 0</text>\n</g>\n<!-- 47&#45;&gt;55 -->\n<g id=\"edge55\" class=\"edge\">\n<title>47&#45;&gt;55</title>\n<path fill=\"none\" stroke=\"black\" d=\"M1543.25,-341.91C1548.23,-333.2 1553.56,-323.9 1558.71,-314.89\"/>\n<polygon fill=\"black\" stroke=\"black\" points=\"1561.86,-316.44 1563.8,-306.02 1555.79,-312.96 1561.86,-316.44\"/>\n</g>\n<!-- 49 -->\n<g id=\"node50\" class=\"node\">\n<title>49</title>\n<polygon fill=\"#5dafea\" stroke=\"black\" points=\"1397,-187 1299,-187 1299,-104 1397,-104 1397,-187\"/>\n<text text-anchor=\"middle\" x=\"1348\" y=\"-171.8\" font-family=\"Times,serif\" font-size=\"14.00\">Age &lt;= 35.5</text>\n<text text-anchor=\"middle\" x=\"1348\" y=\"-156.8\" font-family=\"Times,serif\" font-size=\"14.00\">gini = 0.26</text>\n<text text-anchor=\"middle\" x=\"1348\" y=\"-141.8\" font-family=\"Times,serif\" font-size=\"14.00\">samples = 13</text>\n<text text-anchor=\"middle\" x=\"1348\" y=\"-126.8\" font-family=\"Times,serif\" font-size=\"14.00\">value = [2, 11]</text>\n<text text-anchor=\"middle\" x=\"1348\" y=\"-111.8\" font-family=\"Times,serif\" font-size=\"14.00\">class = 1</text>\n</g>\n<!-- 48&#45;&gt;49 -->\n<g id=\"edge49\" class=\"edge\">\n<title>48&#45;&gt;49</title>\n<path fill=\"none\" stroke=\"black\" d=\"M1425.71,-222.91C1416.3,-213.65 1406.21,-203.73 1396.52,-194.21\"/>\n<polygon fill=\"black\" stroke=\"black\" points=\"1398.8,-191.54 1389.21,-187.02 1393.89,-196.53 1398.8,-191.54\"/>\n</g>\n<!-- 52 -->\n<g id=\"node53\" class=\"node\">\n<title>52</title>\n<polygon fill=\"#f5cfb3\" stroke=\"black\" points=\"1520.5,-187 1415.5,-187 1415.5,-104 1520.5,-104 1520.5,-187\"/>\n<text text-anchor=\"middle\" x=\"1468\" y=\"-171.8\" font-family=\"Times,serif\" font-size=\"14.00\">Age &lt;= 27.5</text>\n<text text-anchor=\"middle\" x=\"1468\" y=\"-156.8\" font-family=\"Times,serif\" font-size=\"14.00\">gini = 0.472</text>\n<text text-anchor=\"middle\" x=\"1468\" y=\"-141.8\" font-family=\"Times,serif\" font-size=\"14.00\">samples = 76</text>\n<text text-anchor=\"middle\" x=\"1468\" y=\"-126.8\" font-family=\"Times,serif\" font-size=\"14.00\">value = [47, 29]</text>\n<text text-anchor=\"middle\" x=\"1468\" y=\"-111.8\" font-family=\"Times,serif\" font-size=\"14.00\">class = 0</text>\n</g>\n<!-- 48&#45;&gt;52 -->\n<g id=\"edge52\" class=\"edge\">\n<title>48&#45;&gt;52</title>\n<path fill=\"none\" stroke=\"black\" d=\"M1467.35,-222.91C1467.42,-214.65 1467.49,-205.86 1467.57,-197.3\"/>\n<polygon fill=\"black\" stroke=\"black\" points=\"1471.07,-197.05 1467.65,-187.02 1464.07,-196.99 1471.07,-197.05\"/>\n</g>\n<!-- 50 -->\n<g id=\"node51\" class=\"node\">\n<title>50</title>\n<polygon fill=\"#61b1ea\" stroke=\"black\" points=\"1293,-68 1201,-68 1201,0 1293,0 1293,-68\"/>\n<text text-anchor=\"middle\" x=\"1247\" y=\"-52.8\" font-family=\"Times,serif\" font-size=\"14.00\">gini = 0.278</text>\n<text text-anchor=\"middle\" x=\"1247\" y=\"-37.8\" font-family=\"Times,serif\" font-size=\"14.00\">samples = 6</text>\n<text text-anchor=\"middle\" x=\"1247\" y=\"-22.8\" font-family=\"Times,serif\" font-size=\"14.00\">value = [1, 5]</text>\n<text text-anchor=\"middle\" x=\"1247\" y=\"-7.8\" font-family=\"Times,serif\" font-size=\"14.00\">class = 1</text>\n</g>\n<!-- 49&#45;&gt;50 -->\n<g id=\"edge50\" class=\"edge\">\n<title>49&#45;&gt;50</title>\n<path fill=\"none\" stroke=\"black\" d=\"M1310.39,-103.73C1301.98,-94.61 1293.05,-84.93 1284.64,-75.81\"/>\n<polygon fill=\"black\" stroke=\"black\" points=\"1287.07,-73.28 1277.71,-68.3 1281.92,-78.02 1287.07,-73.28\"/>\n</g>\n<!-- 51 -->\n<g id=\"node52\" class=\"node\">\n<title>51</title>\n<polygon fill=\"#5aade9\" stroke=\"black\" points=\"1403,-68 1311,-68 1311,0 1403,0 1403,-68\"/>\n<text text-anchor=\"middle\" x=\"1357\" y=\"-52.8\" font-family=\"Times,serif\" font-size=\"14.00\">gini = 0.245</text>\n<text text-anchor=\"middle\" x=\"1357\" y=\"-37.8\" font-family=\"Times,serif\" font-size=\"14.00\">samples = 7</text>\n<text text-anchor=\"middle\" x=\"1357\" y=\"-22.8\" font-family=\"Times,serif\" font-size=\"14.00\">value = [1, 6]</text>\n<text text-anchor=\"middle\" x=\"1357\" y=\"-7.8\" font-family=\"Times,serif\" font-size=\"14.00\">class = 1</text>\n</g>\n<!-- 49&#45;&gt;51 -->\n<g id=\"edge51\" class=\"edge\">\n<title>49&#45;&gt;51</title>\n<path fill=\"none\" stroke=\"black\" d=\"M1351.35,-103.73C1352.03,-95.43 1352.75,-86.67 1353.44,-78.28\"/>\n<polygon fill=\"black\" stroke=\"black\" points=\"1356.93,-78.55 1354.26,-68.3 1349.96,-77.98 1356.93,-78.55\"/>\n</g>\n<!-- 53 -->\n<g id=\"node54\" class=\"node\">\n<title>53</title>\n<polygon fill=\"#e9f4fc\" stroke=\"black\" points=\"1513,-68 1421,-68 1421,0 1513,0 1513,-68\"/>\n<text text-anchor=\"middle\" x=\"1467\" y=\"-52.8\" font-family=\"Times,serif\" font-size=\"14.00\">gini = 0.498</text>\n<text text-anchor=\"middle\" x=\"1467\" y=\"-37.8\" font-family=\"Times,serif\" font-size=\"14.00\">samples = 17</text>\n<text text-anchor=\"middle\" x=\"1467\" y=\"-22.8\" font-family=\"Times,serif\" font-size=\"14.00\">value = [8, 9]</text>\n<text text-anchor=\"middle\" x=\"1467\" y=\"-7.8\" font-family=\"Times,serif\" font-size=\"14.00\">class = 1</text>\n</g>\n<!-- 52&#45;&gt;53 -->\n<g id=\"edge53\" class=\"edge\">\n<title>52&#45;&gt;53</title>\n<path fill=\"none\" stroke=\"black\" d=\"M1467.63,-103.73C1467.55,-95.52 1467.47,-86.86 1467.4,-78.56\"/>\n<polygon fill=\"black\" stroke=\"black\" points=\"1470.9,-78.27 1467.3,-68.3 1463.9,-78.33 1470.9,-78.27\"/>\n</g>\n<!-- 54 -->\n<g id=\"node55\" class=\"node\">\n<title>54</title>\n<polygon fill=\"#f2c29f\" stroke=\"black\" points=\"1636.5,-68 1531.5,-68 1531.5,0 1636.5,0 1636.5,-68\"/>\n<text text-anchor=\"middle\" x=\"1584\" y=\"-52.8\" font-family=\"Times,serif\" font-size=\"14.00\">gini = 0.448</text>\n<text text-anchor=\"middle\" x=\"1584\" y=\"-37.8\" font-family=\"Times,serif\" font-size=\"14.00\">samples = 59</text>\n<text text-anchor=\"middle\" x=\"1584\" y=\"-22.8\" font-family=\"Times,serif\" font-size=\"14.00\">value = [39, 20]</text>\n<text text-anchor=\"middle\" x=\"1584\" y=\"-7.8\" font-family=\"Times,serif\" font-size=\"14.00\">class = 0</text>\n</g>\n<!-- 52&#45;&gt;54 -->\n<g id=\"edge54\" class=\"edge\">\n<title>52&#45;&gt;54</title>\n<path fill=\"none\" stroke=\"black\" d=\"M1511.19,-103.73C1521.05,-94.42 1531.52,-84.54 1541.35,-75.26\"/>\n<polygon fill=\"black\" stroke=\"black\" points=\"1543.85,-77.71 1548.72,-68.3 1539.05,-72.62 1543.85,-77.71\"/>\n</g>\n<!-- 56 -->\n<g id=\"node57\" class=\"node\">\n<title>56</title>\n<polygon fill=\"#e58139\" stroke=\"black\" points=\"1632,-179.5 1540,-179.5 1540,-111.5 1632,-111.5 1632,-179.5\"/>\n<text text-anchor=\"middle\" x=\"1586\" y=\"-164.3\" font-family=\"Times,serif\" font-size=\"14.00\">gini = 0.0</text>\n<text text-anchor=\"middle\" x=\"1586\" y=\"-149.3\" font-family=\"Times,serif\" font-size=\"14.00\">samples = 6</text>\n<text text-anchor=\"middle\" x=\"1586\" y=\"-134.3\" font-family=\"Times,serif\" font-size=\"14.00\">value = [6, 0]</text>\n<text text-anchor=\"middle\" x=\"1586\" y=\"-119.3\" font-family=\"Times,serif\" font-size=\"14.00\">class = 0</text>\n</g>\n<!-- 55&#45;&gt;56 -->\n<g id=\"edge56\" class=\"edge\">\n<title>55&#45;&gt;56</title>\n<path fill=\"none\" stroke=\"black\" d=\"M1586.65,-222.91C1586.56,-212.2 1586.46,-200.62 1586.37,-189.78\"/>\n<polygon fill=\"black\" stroke=\"black\" points=\"1589.87,-189.64 1586.28,-179.67 1582.87,-189.7 1589.87,-189.64\"/>\n</g>\n<!-- 57 -->\n<g id=\"node58\" class=\"node\">\n<title>57</title>\n<polygon fill=\"#eca06a\" stroke=\"black\" points=\"1752,-187 1650,-187 1650,-104 1752,-104 1752,-187\"/>\n<text text-anchor=\"middle\" x=\"1701\" y=\"-171.8\" font-family=\"Times,serif\" font-size=\"14.00\">Fare &lt;= 42.502</text>\n<text text-anchor=\"middle\" x=\"1701\" y=\"-156.8\" font-family=\"Times,serif\" font-size=\"14.00\">gini = 0.32</text>\n<text text-anchor=\"middle\" x=\"1701\" y=\"-141.8\" font-family=\"Times,serif\" font-size=\"14.00\">samples = 15</text>\n<text text-anchor=\"middle\" x=\"1701\" y=\"-126.8\" font-family=\"Times,serif\" font-size=\"14.00\">value = [12, 3]</text>\n<text text-anchor=\"middle\" x=\"1701\" y=\"-111.8\" font-family=\"Times,serif\" font-size=\"14.00\">class = 0</text>\n</g>\n<!-- 55&#45;&gt;57 -->\n<g id=\"edge57\" class=\"edge\">\n<title>55&#45;&gt;57</title>\n<path fill=\"none\" stroke=\"black\" d=\"M1626.55,-222.91C1635.57,-213.65 1645.24,-203.73 1654.51,-194.21\"/>\n<polygon fill=\"black\" stroke=\"black\" points=\"1657.05,-196.63 1661.52,-187.02 1652.03,-191.74 1657.05,-196.63\"/>\n</g>\n<!-- 58 -->\n<g id=\"node59\" class=\"node\">\n<title>58</title>\n<polygon fill=\"#efb388\" stroke=\"black\" points=\"1747,-68 1655,-68 1655,0 1747,0 1747,-68\"/>\n<text text-anchor=\"middle\" x=\"1701\" y=\"-52.8\" font-family=\"Times,serif\" font-size=\"14.00\">gini = 0.408</text>\n<text text-anchor=\"middle\" x=\"1701\" y=\"-37.8\" font-family=\"Times,serif\" font-size=\"14.00\">samples = 7</text>\n<text text-anchor=\"middle\" x=\"1701\" y=\"-22.8\" font-family=\"Times,serif\" font-size=\"14.00\">value = [5, 2]</text>\n<text text-anchor=\"middle\" x=\"1701\" y=\"-7.8\" font-family=\"Times,serif\" font-size=\"14.00\">class = 0</text>\n</g>\n<!-- 57&#45;&gt;58 -->\n<g id=\"edge58\" class=\"edge\">\n<title>57&#45;&gt;58</title>\n<path fill=\"none\" stroke=\"black\" d=\"M1701,-103.73C1701,-95.52 1701,-86.86 1701,-78.56\"/>\n<polygon fill=\"black\" stroke=\"black\" points=\"1704.5,-78.3 1701,-68.3 1697.5,-78.3 1704.5,-78.3\"/>\n</g>\n<!-- 59 -->\n<g id=\"node60\" class=\"node\">\n<title>59</title>\n<polygon fill=\"#e99355\" stroke=\"black\" points=\"1857,-68 1765,-68 1765,0 1857,0 1857,-68\"/>\n<text text-anchor=\"middle\" x=\"1811\" y=\"-52.8\" font-family=\"Times,serif\" font-size=\"14.00\">gini = 0.219</text>\n<text text-anchor=\"middle\" x=\"1811\" y=\"-37.8\" font-family=\"Times,serif\" font-size=\"14.00\">samples = 8</text>\n<text text-anchor=\"middle\" x=\"1811\" y=\"-22.8\" font-family=\"Times,serif\" font-size=\"14.00\">value = [7, 1]</text>\n<text text-anchor=\"middle\" x=\"1811\" y=\"-7.8\" font-family=\"Times,serif\" font-size=\"14.00\">class = 0</text>\n</g>\n<!-- 57&#45;&gt;59 -->\n<g id=\"edge59\" class=\"edge\">\n<title>57&#45;&gt;59</title>\n<path fill=\"none\" stroke=\"black\" d=\"M1741.96,-103.73C1751.21,-94.51 1761.04,-84.74 1770.28,-75.53\"/>\n<polygon fill=\"black\" stroke=\"black\" points=\"1772.93,-77.84 1777.55,-68.3 1767.99,-72.87 1772.93,-77.84\"/>\n</g>\n<!-- 61 -->\n<g id=\"node62\" class=\"node\">\n<title>61</title>\n<polygon fill=\"#e89051\" stroke=\"black\" points=\"2040,-425 1928,-425 1928,-342 2040,-342 2040,-425\"/>\n<text text-anchor=\"middle\" x=\"1984\" y=\"-409.8\" font-family=\"Times,serif\" font-size=\"14.00\">Age &lt;= 13.0</text>\n<text text-anchor=\"middle\" x=\"1984\" y=\"-394.8\" font-family=\"Times,serif\" font-size=\"14.00\">gini = 0.193</text>\n<text text-anchor=\"middle\" x=\"1984\" y=\"-379.8\" font-family=\"Times,serif\" font-size=\"14.00\">samples = 417</text>\n<text text-anchor=\"middle\" x=\"1984\" y=\"-364.8\" font-family=\"Times,serif\" font-size=\"14.00\">value = [372, 45]</text>\n<text text-anchor=\"middle\" x=\"1984\" y=\"-349.8\" font-family=\"Times,serif\" font-size=\"14.00\">class = 0</text>\n</g>\n<!-- 60&#45;&gt;61 -->\n<g id=\"edge61\" class=\"edge\">\n<title>60&#45;&gt;61</title>\n<path fill=\"none\" stroke=\"black\" d=\"M1984,-460.91C1984,-452.65 1984,-443.86 1984,-435.3\"/>\n<polygon fill=\"black\" stroke=\"black\" points=\"1987.5,-435.02 1984,-425.02 1980.5,-435.02 1987.5,-435.02\"/>\n</g>\n<!-- 72 -->\n<g id=\"node73\" class=\"node\">\n<title>72</title>\n<polygon fill=\"#f1ba93\" stroke=\"black\" points=\"2218,-425 2116,-425 2116,-342 2218,-342 2218,-425\"/>\n<text text-anchor=\"middle\" x=\"2167\" y=\"-409.8\" font-family=\"Times,serif\" font-size=\"14.00\">Fare &lt;= 63.023</text>\n<text text-anchor=\"middle\" x=\"2167\" y=\"-394.8\" font-family=\"Times,serif\" font-size=\"14.00\">gini = 0.43</text>\n<text text-anchor=\"middle\" x=\"2167\" y=\"-379.8\" font-family=\"Times,serif\" font-size=\"14.00\">samples = 16</text>\n<text text-anchor=\"middle\" x=\"2167\" y=\"-364.8\" font-family=\"Times,serif\" font-size=\"14.00\">value = [11, 5]</text>\n<text text-anchor=\"middle\" x=\"2167\" y=\"-349.8\" font-family=\"Times,serif\" font-size=\"14.00\">class = 0</text>\n</g>\n<!-- 60&#45;&gt;72 -->\n<g id=\"edge72\" class=\"edge\">\n<title>60&#45;&gt;72</title>\n<path fill=\"none\" stroke=\"black\" d=\"M2040.4,-465.44C2061.54,-451.93 2085.62,-436.53 2107.07,-422.82\"/>\n<polygon fill=\"black\" stroke=\"black\" points=\"2109.22,-425.59 2115.76,-417.26 2105.45,-419.69 2109.22,-425.59\"/>\n</g>\n<!-- 62 -->\n<g id=\"node63\" class=\"node\">\n<title>62</title>\n<polygon fill=\"#f2c09c\" stroke=\"black\" points=\"1973,-306 1881,-306 1881,-223 1973,-223 1973,-306\"/>\n<text text-anchor=\"middle\" x=\"1927\" y=\"-290.8\" font-family=\"Times,serif\" font-size=\"14.00\">SibSp &lt;= 3.5</text>\n<text text-anchor=\"middle\" x=\"1927\" y=\"-275.8\" font-family=\"Times,serif\" font-size=\"14.00\">gini = 0.444</text>\n<text text-anchor=\"middle\" x=\"1927\" y=\"-260.8\" font-family=\"Times,serif\" font-size=\"14.00\">samples = 12</text>\n<text text-anchor=\"middle\" x=\"1927\" y=\"-245.8\" font-family=\"Times,serif\" font-size=\"14.00\">value = [8, 4]</text>\n<text text-anchor=\"middle\" x=\"1927\" y=\"-230.8\" font-family=\"Times,serif\" font-size=\"14.00\">class = 0</text>\n</g>\n<!-- 61&#45;&gt;62 -->\n<g id=\"edge62\" class=\"edge\">\n<title>61&#45;&gt;62</title>\n<path fill=\"none\" stroke=\"black\" d=\"M1964.22,-341.91C1960.02,-333.29 1955.54,-324.09 1951.2,-315.17\"/>\n<polygon fill=\"black\" stroke=\"black\" points=\"1954.27,-313.48 1946.74,-306.02 1947.97,-316.54 1954.27,-313.48\"/>\n</g>\n<!-- 65 -->\n<g id=\"node66\" class=\"node\">\n<title>65</title>\n<polygon fill=\"#e88f4f\" stroke=\"black\" points=\"2103,-306 1991,-306 1991,-223 2103,-223 2103,-306\"/>\n<text text-anchor=\"middle\" x=\"2047\" y=\"-290.8\" font-family=\"Times,serif\" font-size=\"14.00\">Age &lt;= 32.25</text>\n<text text-anchor=\"middle\" x=\"2047\" y=\"-275.8\" font-family=\"Times,serif\" font-size=\"14.00\">gini = 0.182</text>\n<text text-anchor=\"middle\" x=\"2047\" y=\"-260.8\" font-family=\"Times,serif\" font-size=\"14.00\">samples = 405</text>\n<text text-anchor=\"middle\" x=\"2047\" y=\"-245.8\" font-family=\"Times,serif\" font-size=\"14.00\">value = [364, 41]</text>\n<text text-anchor=\"middle\" x=\"2047\" y=\"-230.8\" font-family=\"Times,serif\" font-size=\"14.00\">class = 0</text>\n</g>\n<!-- 61&#45;&gt;65 -->\n<g id=\"edge65\" class=\"edge\">\n<title>61&#45;&gt;65</title>\n<path fill=\"none\" stroke=\"black\" d=\"M2005.86,-341.91C2010.55,-333.2 2015.56,-323.9 2020.4,-314.89\"/>\n<polygon fill=\"black\" stroke=\"black\" points=\"2023.52,-316.48 2025.18,-306.02 2017.36,-313.17 2023.52,-316.48\"/>\n</g>\n<!-- 63 -->\n<g id=\"node64\" class=\"node\">\n<title>63</title>\n<polygon fill=\"#9ccef2\" stroke=\"black\" points=\"1863,-179.5 1771,-179.5 1771,-111.5 1863,-111.5 1863,-179.5\"/>\n<text text-anchor=\"middle\" x=\"1817\" y=\"-164.3\" font-family=\"Times,serif\" font-size=\"14.00\">gini = 0.444</text>\n<text text-anchor=\"middle\" x=\"1817\" y=\"-149.3\" font-family=\"Times,serif\" font-size=\"14.00\">samples = 6</text>\n<text text-anchor=\"middle\" x=\"1817\" y=\"-134.3\" font-family=\"Times,serif\" font-size=\"14.00\">value = [2, 4]</text>\n<text text-anchor=\"middle\" x=\"1817\" y=\"-119.3\" font-family=\"Times,serif\" font-size=\"14.00\">class = 1</text>\n</g>\n<!-- 62&#45;&gt;63 -->\n<g id=\"edge63\" class=\"edge\">\n<title>62&#45;&gt;63</title>\n<path fill=\"none\" stroke=\"black\" d=\"M1888.84,-222.91C1877.94,-211.32 1866.07,-198.7 1855.18,-187.11\"/>\n<polygon fill=\"black\" stroke=\"black\" points=\"1857.58,-184.56 1848.18,-179.67 1852.48,-189.35 1857.58,-184.56\"/>\n</g>\n<!-- 64 -->\n<g id=\"node65\" class=\"node\">\n<title>64</title>\n<polygon fill=\"#e58139\" stroke=\"black\" points=\"1973,-179.5 1881,-179.5 1881,-111.5 1973,-111.5 1973,-179.5\"/>\n<text text-anchor=\"middle\" x=\"1927\" y=\"-164.3\" font-family=\"Times,serif\" font-size=\"14.00\">gini = 0.0</text>\n<text text-anchor=\"middle\" x=\"1927\" y=\"-149.3\" font-family=\"Times,serif\" font-size=\"14.00\">samples = 6</text>\n<text text-anchor=\"middle\" x=\"1927\" y=\"-134.3\" font-family=\"Times,serif\" font-size=\"14.00\">value = [6, 0]</text>\n<text text-anchor=\"middle\" x=\"1927\" y=\"-119.3\" font-family=\"Times,serif\" font-size=\"14.00\">class = 0</text>\n</g>\n<!-- 62&#45;&gt;64 -->\n<g id=\"edge64\" class=\"edge\">\n<title>62&#45;&gt;64</title>\n<path fill=\"none\" stroke=\"black\" d=\"M1927,-222.91C1927,-212.2 1927,-200.62 1927,-189.78\"/>\n<polygon fill=\"black\" stroke=\"black\" points=\"1930.5,-189.67 1927,-179.67 1923.5,-189.67 1930.5,-189.67\"/>\n</g>\n<!-- 66 -->\n<g id=\"node67\" class=\"node\">\n<title>66</title>\n<polygon fill=\"#e89253\" stroke=\"black\" points=\"2103,-187 1991,-187 1991,-104 2103,-104 2103,-187\"/>\n<text text-anchor=\"middle\" x=\"2047\" y=\"-171.8\" font-family=\"Times,serif\" font-size=\"14.00\">Age &lt;= 30.75</text>\n<text text-anchor=\"middle\" x=\"2047\" y=\"-156.8\" font-family=\"Times,serif\" font-size=\"14.00\">gini = 0.206</text>\n<text text-anchor=\"middle\" x=\"2047\" y=\"-141.8\" font-family=\"Times,serif\" font-size=\"14.00\">samples = 300</text>\n<text text-anchor=\"middle\" x=\"2047\" y=\"-126.8\" font-family=\"Times,serif\" font-size=\"14.00\">value = [265, 35]</text>\n<text text-anchor=\"middle\" x=\"2047\" y=\"-111.8\" font-family=\"Times,serif\" font-size=\"14.00\">class = 0</text>\n</g>\n<!-- 65&#45;&gt;66 -->\n<g id=\"edge66\" class=\"edge\">\n<title>65&#45;&gt;66</title>\n<path fill=\"none\" stroke=\"black\" d=\"M2047,-222.91C2047,-214.65 2047,-205.86 2047,-197.3\"/>\n<polygon fill=\"black\" stroke=\"black\" points=\"2050.5,-197.02 2047,-187.02 2043.5,-197.02 2050.5,-197.02\"/>\n</g>\n<!-- 69 -->\n<g id=\"node70\" class=\"node\">\n<title>69</title>\n<polygon fill=\"#e78945\" stroke=\"black\" points=\"2219,-187 2121,-187 2121,-104 2219,-104 2219,-187\"/>\n<text text-anchor=\"middle\" x=\"2170\" y=\"-171.8\" font-family=\"Times,serif\" font-size=\"14.00\">Fare &lt;= 7.91</text>\n<text text-anchor=\"middle\" x=\"2170\" y=\"-156.8\" font-family=\"Times,serif\" font-size=\"14.00\">gini = 0.108</text>\n<text text-anchor=\"middle\" x=\"2170\" y=\"-141.8\" font-family=\"Times,serif\" font-size=\"14.00\">samples = 105</text>\n<text text-anchor=\"middle\" x=\"2170\" y=\"-126.8\" font-family=\"Times,serif\" font-size=\"14.00\">value = [99, 6]</text>\n<text text-anchor=\"middle\" x=\"2170\" y=\"-111.8\" font-family=\"Times,serif\" font-size=\"14.00\">class = 0</text>\n</g>\n<!-- 65&#45;&gt;69 -->\n<g id=\"edge69\" class=\"edge\">\n<title>65&#45;&gt;69</title>\n<path fill=\"none\" stroke=\"black\" d=\"M2089.67,-222.91C2099.5,-213.56 2110.04,-203.54 2120.14,-193.93\"/>\n<polygon fill=\"black\" stroke=\"black\" points=\"2122.57,-196.45 2127.4,-187.02 2117.74,-191.38 2122.57,-196.45\"/>\n</g>\n<!-- 67 -->\n<g id=\"node68\" class=\"node\">\n<title>67</title>\n<polygon fill=\"#e88f50\" stroke=\"black\" points=\"1987,-68 1875,-68 1875,0 1987,0 1987,-68\"/>\n<text text-anchor=\"middle\" x=\"1931\" y=\"-52.8\" font-family=\"Times,serif\" font-size=\"14.00\">gini = 0.185</text>\n<text text-anchor=\"middle\" x=\"1931\" y=\"-37.8\" font-family=\"Times,serif\" font-size=\"14.00\">samples = 282</text>\n<text text-anchor=\"middle\" x=\"1931\" y=\"-22.8\" font-family=\"Times,serif\" font-size=\"14.00\">value = [253, 29]</text>\n<text text-anchor=\"middle\" x=\"1931\" y=\"-7.8\" font-family=\"Times,serif\" font-size=\"14.00\">class = 0</text>\n</g>\n<!-- 66&#45;&gt;67 -->\n<g id=\"edge67\" class=\"edge\">\n<title>66&#45;&gt;67</title>\n<path fill=\"none\" stroke=\"black\" d=\"M2003.81,-103.73C1993.95,-94.42 1983.48,-84.54 1973.65,-75.26\"/>\n<polygon fill=\"black\" stroke=\"black\" points=\"1975.95,-72.62 1966.28,-68.3 1971.15,-77.71 1975.95,-72.62\"/>\n</g>\n<!-- 68 -->\n<g id=\"node69\" class=\"node\">\n<title>68</title>\n<polygon fill=\"#f2c09c\" stroke=\"black\" points=\"2103,-68 2005,-68 2005,0 2103,0 2103,-68\"/>\n<text text-anchor=\"middle\" x=\"2054\" y=\"-52.8\" font-family=\"Times,serif\" font-size=\"14.00\">gini = 0.444</text>\n<text text-anchor=\"middle\" x=\"2054\" y=\"-37.8\" font-family=\"Times,serif\" font-size=\"14.00\">samples = 18</text>\n<text text-anchor=\"middle\" x=\"2054\" y=\"-22.8\" font-family=\"Times,serif\" font-size=\"14.00\">value = [12, 6]</text>\n<text text-anchor=\"middle\" x=\"2054\" y=\"-7.8\" font-family=\"Times,serif\" font-size=\"14.00\">class = 0</text>\n</g>\n<!-- 66&#45;&gt;68 -->\n<g id=\"edge68\" class=\"edge\">\n<title>66&#45;&gt;68</title>\n<path fill=\"none\" stroke=\"black\" d=\"M2049.61,-103.73C2050.14,-95.43 2050.7,-86.67 2051.23,-78.28\"/>\n<polygon fill=\"black\" stroke=\"black\" points=\"2054.73,-78.5 2051.87,-68.3 2047.74,-78.06 2054.73,-78.5\"/>\n</g>\n<!-- 70 -->\n<g id=\"node71\" class=\"node\">\n<title>70</title>\n<polygon fill=\"#e58139\" stroke=\"black\" points=\"2219,-68 2121,-68 2121,0 2219,0 2219,-68\"/>\n<text text-anchor=\"middle\" x=\"2170\" y=\"-52.8\" font-family=\"Times,serif\" font-size=\"14.00\">gini = 0.0</text>\n<text text-anchor=\"middle\" x=\"2170\" y=\"-37.8\" font-family=\"Times,serif\" font-size=\"14.00\">samples = 32</text>\n<text text-anchor=\"middle\" x=\"2170\" y=\"-22.8\" font-family=\"Times,serif\" font-size=\"14.00\">value = [32, 0]</text>\n<text text-anchor=\"middle\" x=\"2170\" y=\"-7.8\" font-family=\"Times,serif\" font-size=\"14.00\">class = 0</text>\n</g>\n<!-- 69&#45;&gt;70 -->\n<g id=\"edge70\" class=\"edge\">\n<title>69&#45;&gt;70</title>\n<path fill=\"none\" stroke=\"black\" d=\"M2170,-103.73C2170,-95.52 2170,-86.86 2170,-78.56\"/>\n<polygon fill=\"black\" stroke=\"black\" points=\"2173.5,-78.3 2170,-68.3 2166.5,-78.3 2173.5,-78.3\"/>\n</g>\n<!-- 71 -->\n<g id=\"node72\" class=\"node\">\n<title>71</title>\n<polygon fill=\"#e78c4b\" stroke=\"black\" points=\"2335,-68 2237,-68 2237,0 2335,0 2335,-68\"/>\n<text text-anchor=\"middle\" x=\"2286\" y=\"-52.8\" font-family=\"Times,serif\" font-size=\"14.00\">gini = 0.151</text>\n<text text-anchor=\"middle\" x=\"2286\" y=\"-37.8\" font-family=\"Times,serif\" font-size=\"14.00\">samples = 73</text>\n<text text-anchor=\"middle\" x=\"2286\" y=\"-22.8\" font-family=\"Times,serif\" font-size=\"14.00\">value = [67, 6]</text>\n<text text-anchor=\"middle\" x=\"2286\" y=\"-7.8\" font-family=\"Times,serif\" font-size=\"14.00\">class = 0</text>\n</g>\n<!-- 69&#45;&gt;71 -->\n<g id=\"edge71\" class=\"edge\">\n<title>69&#45;&gt;71</title>\n<path fill=\"none\" stroke=\"black\" d=\"M2213.19,-103.73C2223.05,-94.42 2233.52,-84.54 2243.35,-75.26\"/>\n<polygon fill=\"black\" stroke=\"black\" points=\"2245.85,-77.71 2250.72,-68.3 2241.05,-72.62 2245.85,-77.71\"/>\n</g>\n<!-- 73 -->\n<g id=\"node74\" class=\"node\">\n<title>73</title>\n<polygon fill=\"#88c4ef\" stroke=\"black\" points=\"2213,-298.5 2121,-298.5 2121,-230.5 2213,-230.5 2213,-298.5\"/>\n<text text-anchor=\"middle\" x=\"2167\" y=\"-283.3\" font-family=\"Times,serif\" font-size=\"14.00\">gini = 0.408</text>\n<text text-anchor=\"middle\" x=\"2167\" y=\"-268.3\" font-family=\"Times,serif\" font-size=\"14.00\">samples = 7</text>\n<text text-anchor=\"middle\" x=\"2167\" y=\"-253.3\" font-family=\"Times,serif\" font-size=\"14.00\">value = [2, 5]</text>\n<text text-anchor=\"middle\" x=\"2167\" y=\"-238.3\" font-family=\"Times,serif\" font-size=\"14.00\">class = 1</text>\n</g>\n<!-- 72&#45;&gt;73 -->\n<g id=\"edge73\" class=\"edge\">\n<title>72&#45;&gt;73</title>\n<path fill=\"none\" stroke=\"black\" d=\"M2167,-341.91C2167,-331.2 2167,-319.62 2167,-308.78\"/>\n<polygon fill=\"black\" stroke=\"black\" points=\"2170.5,-308.67 2167,-298.67 2163.5,-308.67 2170.5,-308.67\"/>\n</g>\n<!-- 74 -->\n<g id=\"node75\" class=\"node\">\n<title>74</title>\n<polygon fill=\"#e58139\" stroke=\"black\" points=\"2323,-298.5 2231,-298.5 2231,-230.5 2323,-230.5 2323,-298.5\"/>\n<text text-anchor=\"middle\" x=\"2277\" y=\"-283.3\" font-family=\"Times,serif\" font-size=\"14.00\">gini = 0.0</text>\n<text text-anchor=\"middle\" x=\"2277\" y=\"-268.3\" font-family=\"Times,serif\" font-size=\"14.00\">samples = 9</text>\n<text text-anchor=\"middle\" x=\"2277\" y=\"-253.3\" font-family=\"Times,serif\" font-size=\"14.00\">value = [9, 0]</text>\n<text text-anchor=\"middle\" x=\"2277\" y=\"-238.3\" font-family=\"Times,serif\" font-size=\"14.00\">class = 0</text>\n</g>\n<!-- 72&#45;&gt;74 -->\n<g id=\"edge74\" class=\"edge\">\n<title>72&#45;&gt;74</title>\n<path fill=\"none\" stroke=\"black\" d=\"M2205.16,-341.91C2216.06,-330.32 2227.93,-317.7 2238.82,-306.11\"/>\n<polygon fill=\"black\" stroke=\"black\" points=\"2241.52,-308.35 2245.82,-298.67 2236.42,-303.56 2241.52,-308.35\"/>\n</g>\n</g>\n</svg>\n",
      "text/plain": [
       "<graphviz.sources.Source at 0x7fa8fb2598b0>"
      ]
     },
     "execution_count": 105,
     "metadata": {},
     "output_type": "execute_result"
    }
   ],
   "source": [
    "dot_graph = visualize_tree(best_model, X_train_encoded, \"searched_tree.dot\")\n",
    "\n",
    "graphviz.Source(dot_graph)"
   ]
  },
  {
   "cell_type": "code",
   "execution_count": 106,
   "metadata": {},
   "outputs": [],
   "source": [
    "grid_pred = best_model.predict(X_test_encoded)\n",
    "make_prediction_file(grid_pred, X_test_encoded, 'titanic_dt_gridcv.csv')"
   ]
  }
 ],
 "metadata": {
  "interpreter": {
   "hash": "aee8b7b246df8f9039afb4144a1f6fd8d2ca17a180786b69acc140d282b71a49"
  },
  "kernelspec": {
   "display_name": "Python 3.8.5 64-bit",
   "language": "python",
   "name": "python3"
  },
  "language_info": {
   "codemirror_mode": {
    "name": "ipython",
    "version": 3
   },
   "file_extension": ".py",
   "mimetype": "text/x-python",
   "name": "python",
   "nbconvert_exporter": "python",
   "pygments_lexer": "ipython3",
   "version": "3.8.5"
  },
  "orig_nbformat": 4
 },
 "nbformat": 4,
 "nbformat_minor": 2
}
