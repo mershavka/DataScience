{
 "cells": [
  {
   "cell_type": "code",
   "execution_count": 3,
   "metadata": {},
   "outputs": [],
   "source": [
    "import pandas as pd\n",
    "import seaborn as sns"
   ]
  },
  {
   "cell_type": "markdown",
   "metadata": {},
   "source": [
    "# Шаг первый. Обработка и анализ данных"
   ]
  },
  {
   "cell_type": "code",
   "execution_count": 4,
   "metadata": {},
   "outputs": [],
   "source": [
    "PATH_TO_TRAIN = 'train.csv'\n",
    "PATH_TO_TEST = 'test.csv'\n",
    "train = pd.read_csv(PATH_TO_TRAIN, index_col='PassengerId') #обучающая выборка\n",
    "test = pd.read_csv(PATH_TO_TEST, index_col='PassengerId')   #тестовая выборка (для неё будем предсказывать)"
   ]
  },
  {
   "cell_type": "markdown",
   "metadata": {},
   "source": [
    "Описание некоторых параметров:\n",
    "* Survived 0 = Погиб, 1 = Выжил;\n",
    "* sibsp - количество братьев/сестер и мужей/жен на борту;\n",
    "* parch - количество детей/родителей на борту;"
   ]
  },
  {
   "cell_type": "code",
   "execution_count": 5,
   "metadata": {},
   "outputs": [
    {
     "name": "stdout",
     "output_type": "stream",
     "text": [
      "<class 'pandas.core.frame.DataFrame'>\n",
      "Int64Index: 891 entries, 1 to 891\n",
      "Data columns (total 11 columns):\n",
      " #   Column    Non-Null Count  Dtype  \n",
      "---  ------    --------------  -----  \n",
      " 0   Survived  891 non-null    int64  \n",
      " 1   Pclass    891 non-null    int64  \n",
      " 2   Name      891 non-null    object \n",
      " 3   Sex       891 non-null    object \n",
      " 4   Age       714 non-null    float64\n",
      " 5   SibSp     891 non-null    int64  \n",
      " 6   Parch     891 non-null    int64  \n",
      " 7   Ticket    891 non-null    object \n",
      " 8   Fare      891 non-null    float64\n",
      " 9   Cabin     204 non-null    object \n",
      " 10  Embarked  889 non-null    object \n",
      "dtypes: float64(2), int64(4), object(5)\n",
      "memory usage: 83.5+ KB\n"
     ]
    },
    {
     "data": {
      "text/html": [
       "<div>\n",
       "<style scoped>\n",
       "    .dataframe tbody tr th:only-of-type {\n",
       "        vertical-align: middle;\n",
       "    }\n",
       "\n",
       "    .dataframe tbody tr th {\n",
       "        vertical-align: top;\n",
       "    }\n",
       "\n",
       "    .dataframe thead th {\n",
       "        text-align: right;\n",
       "    }\n",
       "</style>\n",
       "<table border=\"1\" class=\"dataframe\">\n",
       "  <thead>\n",
       "    <tr style=\"text-align: right;\">\n",
       "      <th></th>\n",
       "      <th>Survived</th>\n",
       "      <th>Pclass</th>\n",
       "      <th>Age</th>\n",
       "      <th>SibSp</th>\n",
       "      <th>Parch</th>\n",
       "      <th>Fare</th>\n",
       "    </tr>\n",
       "  </thead>\n",
       "  <tbody>\n",
       "    <tr>\n",
       "      <th>count</th>\n",
       "      <td>891.000000</td>\n",
       "      <td>891.000000</td>\n",
       "      <td>714.000000</td>\n",
       "      <td>891.000000</td>\n",
       "      <td>891.000000</td>\n",
       "      <td>891.000000</td>\n",
       "    </tr>\n",
       "    <tr>\n",
       "      <th>mean</th>\n",
       "      <td>0.383838</td>\n",
       "      <td>2.308642</td>\n",
       "      <td>29.699118</td>\n",
       "      <td>0.523008</td>\n",
       "      <td>0.381594</td>\n",
       "      <td>32.204208</td>\n",
       "    </tr>\n",
       "    <tr>\n",
       "      <th>std</th>\n",
       "      <td>0.486592</td>\n",
       "      <td>0.836071</td>\n",
       "      <td>14.526497</td>\n",
       "      <td>1.102743</td>\n",
       "      <td>0.806057</td>\n",
       "      <td>49.693429</td>\n",
       "    </tr>\n",
       "    <tr>\n",
       "      <th>min</th>\n",
       "      <td>0.000000</td>\n",
       "      <td>1.000000</td>\n",
       "      <td>0.420000</td>\n",
       "      <td>0.000000</td>\n",
       "      <td>0.000000</td>\n",
       "      <td>0.000000</td>\n",
       "    </tr>\n",
       "    <tr>\n",
       "      <th>25%</th>\n",
       "      <td>0.000000</td>\n",
       "      <td>2.000000</td>\n",
       "      <td>20.125000</td>\n",
       "      <td>0.000000</td>\n",
       "      <td>0.000000</td>\n",
       "      <td>7.910400</td>\n",
       "    </tr>\n",
       "    <tr>\n",
       "      <th>50%</th>\n",
       "      <td>0.000000</td>\n",
       "      <td>3.000000</td>\n",
       "      <td>28.000000</td>\n",
       "      <td>0.000000</td>\n",
       "      <td>0.000000</td>\n",
       "      <td>14.454200</td>\n",
       "    </tr>\n",
       "    <tr>\n",
       "      <th>75%</th>\n",
       "      <td>1.000000</td>\n",
       "      <td>3.000000</td>\n",
       "      <td>38.000000</td>\n",
       "      <td>1.000000</td>\n",
       "      <td>0.000000</td>\n",
       "      <td>31.000000</td>\n",
       "    </tr>\n",
       "    <tr>\n",
       "      <th>max</th>\n",
       "      <td>1.000000</td>\n",
       "      <td>3.000000</td>\n",
       "      <td>80.000000</td>\n",
       "      <td>8.000000</td>\n",
       "      <td>6.000000</td>\n",
       "      <td>512.329200</td>\n",
       "    </tr>\n",
       "  </tbody>\n",
       "</table>\n",
       "</div>"
      ],
      "text/plain": [
       "         Survived      Pclass         Age       SibSp       Parch        Fare\n",
       "count  891.000000  891.000000  714.000000  891.000000  891.000000  891.000000\n",
       "mean     0.383838    2.308642   29.699118    0.523008    0.381594   32.204208\n",
       "std      0.486592    0.836071   14.526497    1.102743    0.806057   49.693429\n",
       "min      0.000000    1.000000    0.420000    0.000000    0.000000    0.000000\n",
       "25%      0.000000    2.000000   20.125000    0.000000    0.000000    7.910400\n",
       "50%      0.000000    3.000000   28.000000    0.000000    0.000000   14.454200\n",
       "75%      1.000000    3.000000   38.000000    1.000000    0.000000   31.000000\n",
       "max      1.000000    3.000000   80.000000    8.000000    6.000000  512.329200"
      ]
     },
     "execution_count": 5,
     "metadata": {},
     "output_type": "execute_result"
    }
   ],
   "source": [
    "train.info()\n",
    "train.describe()"
   ]
  },
  {
   "cell_type": "markdown",
   "metadata": {},
   "source": [
    "Cabin - номер каюты указан только для 23 процентов пассажиров, поэтому можно убрать его из рассмотрения. Имя и номер билета не дают полезной информации - убираем"
   ]
  },
  {
   "cell_type": "code",
   "execution_count": 6,
   "metadata": {},
   "outputs": [],
   "source": [
    "#удаление ненужных колонок\n",
    "\n",
    "useless_columns = ['Name', 'Ticket', 'Cabin']\n",
    "\n",
    "train_clean = train.drop(columns=useless_columns)\n",
    "test_clean = test.drop(columns=useless_columns)"
   ]
  },
  {
   "cell_type": "markdown",
   "metadata": {},
   "source": [
    "## Заполнение пропусков в данных"
   ]
  },
  {
   "cell_type": "code",
   "execution_count": 7,
   "metadata": {},
   "outputs": [],
   "source": [
    "def imput_data(df):\n",
    "    df_copy = df.copy()\n",
    "    quantitative = df_copy.select_dtypes(include=['float64','int64']).columns.values #array из названий столбцов\n",
    "    categorical = df_copy.select_dtypes(include=['object']).columns.values #array из названий столбцов\n",
    "    #заполняем пропущенные значения для количественных переменных медианой по столбцу\n",
    "    for col in quantitative:\n",
    "        if  df_copy[col].isnull().values.any():\n",
    "            df_copy[col].fillna(df_copy[col].median(), inplace=True)\n",
    "    #заполняем пропущенные значения для категориальных переменных самым частым значением в колонке\n",
    "    for col in categorical:\n",
    "        if  df_copy[col].isnull().values.any():\n",
    "            df_copy[col].fillna(df_copy[col].mode()[0], inplace=True)\n",
    "    return df_copy"
   ]
  },
  {
   "cell_type": "code",
   "execution_count": 8,
   "metadata": {},
   "outputs": [],
   "source": [
    "train_filled = imput_data(train_clean)\n",
    "test_filled = imput_data(test_clean)"
   ]
  },
  {
   "cell_type": "code",
   "execution_count": 9,
   "metadata": {},
   "outputs": [
    {
     "name": "stdout",
     "output_type": "stream",
     "text": [
      "<class 'pandas.core.frame.DataFrame'>\n",
      "Int64Index: 891 entries, 1 to 891\n",
      "Data columns (total 8 columns):\n",
      " #   Column    Non-Null Count  Dtype  \n",
      "---  ------    --------------  -----  \n",
      " 0   Survived  891 non-null    int64  \n",
      " 1   Pclass    891 non-null    int64  \n",
      " 2   Sex       891 non-null    object \n",
      " 3   Age       891 non-null    float64\n",
      " 4   SibSp     891 non-null    int64  \n",
      " 5   Parch     891 non-null    int64  \n",
      " 6   Fare      891 non-null    float64\n",
      " 7   Embarked  891 non-null    object \n",
      "dtypes: float64(2), int64(4), object(2)\n",
      "memory usage: 62.6+ KB\n"
     ]
    }
   ],
   "source": [
    "train_filled.info()"
   ]
  },
  {
   "cell_type": "markdown",
   "metadata": {},
   "source": [
    "## Визуализация данных"
   ]
  },
  {
   "cell_type": "code",
   "execution_count": 10,
   "metadata": {},
   "outputs": [
    {
     "data": {
      "text/plain": [
       "<seaborn.axisgrid.FacetGrid at 0x7fedfb8d6700>"
      ]
     },
     "execution_count": 10,
     "metadata": {},
     "output_type": "execute_result"
    },
    {
     "data": {
      "image/png": "[encoded data removed]",
      "text/plain": [
       "<Figure size 411.875x360 with 1 Axes>"
      ]
     },
     "metadata": {
      "needs_background": "light"
     },
     "output_type": "display_data"
    }
   ],
   "source": [
    "sns.catplot(x = \"Pclass\", data=train_filled, kind='count', hue=\"Survived\")\n",
    "#мужчины погибали чаще женщин"
   ]
  },
  {
   "cell_type": "code",
   "execution_count": 11,
   "metadata": {},
   "outputs": [
    {
     "data": {
      "text/plain": [
       "<seaborn.axisgrid.FacetGrid at 0x7fedfeebb0d0>"
      ]
     },
     "execution_count": 11,
     "metadata": {},
     "output_type": "execute_result"
    },
    {
     "data": {
      "image/png": "[encoded data removed]",
      "text/plain": [
       "<Figure size 402.375x360 with 1 Axes>"
      ]
     },
     "metadata": {
      "needs_background": "light"
     },
     "output_type": "display_data"
    }
   ],
   "source": [
    "sns.catplot(x = \"Sex\", data=train_filled, kind='count', hue=\"Pclass\")\n",
    "#больше всего людей было в 3 классе, при этом мужчин в 3 классе было гораздо больше, чем женщин\n",
    "#мужчин в первом и втором классах незначительно больше, чем женщин в соответствующих классах\n",
    "#людей во втором классе меньше всего\n"
   ]
  },
  {
   "cell_type": "code",
   "execution_count": 12,
   "metadata": {},
   "outputs": [
    {
     "data": {
      "text/plain": [
       "<seaborn.axisgrid.FacetGrid at 0x7fedfedee1f0>"
      ]
     },
     "execution_count": 12,
     "metadata": {},
     "output_type": "execute_result"
    },
    {
     "data": {
      "image/png": "[encoded data removed]",
      "text/plain": [
       "<Figure size 1080x360 with 3 Axes>"
      ]
     },
     "metadata": {
      "needs_background": "light"
     },
     "output_type": "display_data"
    }
   ],
   "source": [
    "sns.catplot(x = \"Sex\", y=\"Survived\", col=\"Pclass\", data=train_filled, kind='bar')\n",
    "#среди бедных мужчин меньше всего выживших"
   ]
  },
  {
   "cell_type": "markdown",
   "metadata": {},
   "source": [
    "## Feature Engineering"
   ]
  },
  {
   "cell_type": "code",
   "execution_count": 13,
   "metadata": {},
   "outputs": [
    {
     "name": "stdout",
     "output_type": "stream",
     "text": [
      "<class 'pandas.core.frame.DataFrame'>\n",
      "Int64Index: 891 entries, 1 to 891\n",
      "Data columns (total 9 columns):\n",
      " #   Column    Non-Null Count  Dtype  \n",
      "---  ------    --------------  -----  \n",
      " 0   Survived  891 non-null    int64  \n",
      " 1   Pclass    891 non-null    int64  \n",
      " 2   Sex       891 non-null    object \n",
      " 3   Age       891 non-null    float64\n",
      " 4   SibSp     891 non-null    int64  \n",
      " 5   Parch     891 non-null    int64  \n",
      " 6   Fare      891 non-null    float64\n",
      " 7   Embarked  891 non-null    object \n",
      " 8   Family    891 non-null    int64  \n",
      "dtypes: float64(2), int64(5), object(2)\n",
      "memory usage: 101.9+ KB\n"
     ]
    }
   ],
   "source": [
    "train_filled[\"Family\"] = train_filled.SibSp + train_filled.Parch\n",
    "test_filled[\"Family\"] = test_filled.SibSp + test_filled.Parch\n",
    "train_filled.info()\n"
   ]
  },
  {
   "cell_type": "code",
   "execution_count": 14,
   "metadata": {},
   "outputs": [
    {
     "data": {
      "text/plain": [
       "<seaborn.axisgrid.FacetGrid at 0x7fedfcfe6f10>"
      ]
     },
     "execution_count": 14,
     "metadata": {},
     "output_type": "execute_result"
    },
    {
     "data": {
      "image/png": "[encoded data removed]",
      "text/plain": [
       "<Figure size 411.875x360 with 1 Axes>"
      ]
     },
     "metadata": {
      "needs_background": "light"
     },
     "output_type": "display_data"
    }
   ],
   "source": [
    "sns.catplot(x = \"Family\", data=train_filled, kind='count', hue=\"Survived\")\n",
    "# Количество родственников влияет на выживаемость: если родственников от 1 до 3, то выше шансы выжить"
   ]
  },
  {
   "cell_type": "markdown",
   "metadata": {},
   "source": [
    "Сохранение обработанных данных"
   ]
  },
  {
   "cell_type": "code",
   "execution_count": 15,
   "metadata": {},
   "outputs": [],
   "source": [
    "train_filled.to_csv(\"train_data.csv\")\n",
    "test_filled.to_csv(\"test_data.csv\")"
   ]
  },
  {
   "cell_type": "markdown",
   "metadata": {},
   "source": [
    "Гипотеза: мужчины из третьего класса погибают"
   ]
  },
  {
   "cell_type": "code",
   "execution_count": 16,
   "metadata": {},
   "outputs": [
    {
     "data": {
      "text/html": [
       "<div>\n",
       "<style scoped>\n",
       "    .dataframe tbody tr th:only-of-type {\n",
       "        vertical-align: middle;\n",
       "    }\n",
       "\n",
       "    .dataframe tbody tr th {\n",
       "        vertical-align: top;\n",
       "    }\n",
       "\n",
       "    .dataframe thead th {\n",
       "        text-align: right;\n",
       "    }\n",
       "</style>\n",
       "<table border=\"1\" class=\"dataframe\">\n",
       "  <thead>\n",
       "    <tr style=\"text-align: right;\">\n",
       "      <th></th>\n",
       "      <th>Pclass</th>\n",
       "      <th>Sex</th>\n",
       "      <th>Age</th>\n",
       "      <th>SibSp</th>\n",
       "      <th>Parch</th>\n",
       "      <th>Fare</th>\n",
       "      <th>Embarked</th>\n",
       "      <th>Family</th>\n",
       "    </tr>\n",
       "    <tr>\n",
       "      <th>PassengerId</th>\n",
       "      <th></th>\n",
       "      <th></th>\n",
       "      <th></th>\n",
       "      <th></th>\n",
       "      <th></th>\n",
       "      <th></th>\n",
       "      <th></th>\n",
       "      <th></th>\n",
       "    </tr>\n",
       "  </thead>\n",
       "  <tbody>\n",
       "    <tr>\n",
       "      <th>892</th>\n",
       "      <td>3</td>\n",
       "      <td>male</td>\n",
       "      <td>34.5</td>\n",
       "      <td>0</td>\n",
       "      <td>0</td>\n",
       "      <td>7.8292</td>\n",
       "      <td>Q</td>\n",
       "      <td>0</td>\n",
       "    </tr>\n",
       "    <tr>\n",
       "      <th>893</th>\n",
       "      <td>3</td>\n",
       "      <td>female</td>\n",
       "      <td>47.0</td>\n",
       "      <td>1</td>\n",
       "      <td>0</td>\n",
       "      <td>7.0000</td>\n",
       "      <td>S</td>\n",
       "      <td>1</td>\n",
       "    </tr>\n",
       "    <tr>\n",
       "      <th>894</th>\n",
       "      <td>2</td>\n",
       "      <td>male</td>\n",
       "      <td>62.0</td>\n",
       "      <td>0</td>\n",
       "      <td>0</td>\n",
       "      <td>9.6875</td>\n",
       "      <td>Q</td>\n",
       "      <td>0</td>\n",
       "    </tr>\n",
       "    <tr>\n",
       "      <th>895</th>\n",
       "      <td>3</td>\n",
       "      <td>male</td>\n",
       "      <td>27.0</td>\n",
       "      <td>0</td>\n",
       "      <td>0</td>\n",
       "      <td>8.6625</td>\n",
       "      <td>S</td>\n",
       "      <td>0</td>\n",
       "    </tr>\n",
       "    <tr>\n",
       "      <th>896</th>\n",
       "      <td>3</td>\n",
       "      <td>female</td>\n",
       "      <td>22.0</td>\n",
       "      <td>1</td>\n",
       "      <td>1</td>\n",
       "      <td>12.2875</td>\n",
       "      <td>S</td>\n",
       "      <td>2</td>\n",
       "    </tr>\n",
       "    <tr>\n",
       "      <th>...</th>\n",
       "      <td>...</td>\n",
       "      <td>...</td>\n",
       "      <td>...</td>\n",
       "      <td>...</td>\n",
       "      <td>...</td>\n",
       "      <td>...</td>\n",
       "      <td>...</td>\n",
       "      <td>...</td>\n",
       "    </tr>\n",
       "    <tr>\n",
       "      <th>1305</th>\n",
       "      <td>3</td>\n",
       "      <td>male</td>\n",
       "      <td>27.0</td>\n",
       "      <td>0</td>\n",
       "      <td>0</td>\n",
       "      <td>8.0500</td>\n",
       "      <td>S</td>\n",
       "      <td>0</td>\n",
       "    </tr>\n",
       "    <tr>\n",
       "      <th>1306</th>\n",
       "      <td>1</td>\n",
       "      <td>female</td>\n",
       "      <td>39.0</td>\n",
       "      <td>0</td>\n",
       "      <td>0</td>\n",
       "      <td>108.9000</td>\n",
       "      <td>C</td>\n",
       "      <td>0</td>\n",
       "    </tr>\n",
       "    <tr>\n",
       "      <th>1307</th>\n",
       "      <td>3</td>\n",
       "      <td>male</td>\n",
       "      <td>38.5</td>\n",
       "      <td>0</td>\n",
       "      <td>0</td>\n",
       "      <td>7.2500</td>\n",
       "      <td>S</td>\n",
       "      <td>0</td>\n",
       "    </tr>\n",
       "    <tr>\n",
       "      <th>1308</th>\n",
       "      <td>3</td>\n",
       "      <td>male</td>\n",
       "      <td>27.0</td>\n",
       "      <td>0</td>\n",
       "      <td>0</td>\n",
       "      <td>8.0500</td>\n",
       "      <td>S</td>\n",
       "      <td>0</td>\n",
       "    </tr>\n",
       "    <tr>\n",
       "      <th>1309</th>\n",
       "      <td>3</td>\n",
       "      <td>male</td>\n",
       "      <td>27.0</td>\n",
       "      <td>1</td>\n",
       "      <td>1</td>\n",
       "      <td>22.3583</td>\n",
       "      <td>C</td>\n",
       "      <td>2</td>\n",
       "    </tr>\n",
       "  </tbody>\n",
       "</table>\n",
       "<p>418 rows × 8 columns</p>\n",
       "</div>"
      ],
      "text/plain": [
       "             Pclass     Sex   Age  SibSp  Parch      Fare Embarked  Family\n",
       "PassengerId                                                               \n",
       "892               3    male  34.5      0      0    7.8292        Q       0\n",
       "893               3  female  47.0      1      0    7.0000        S       1\n",
       "894               2    male  62.0      0      0    9.6875        Q       0\n",
       "895               3    male  27.0      0      0    8.6625        S       0\n",
       "896               3  female  22.0      1      1   12.2875        S       2\n",
       "...             ...     ...   ...    ...    ...       ...      ...     ...\n",
       "1305              3    male  27.0      0      0    8.0500        S       0\n",
       "1306              1  female  39.0      0      0  108.9000        C       0\n",
       "1307              3    male  38.5      0      0    7.2500        S       0\n",
       "1308              3    male  27.0      0      0    8.0500        S       0\n",
       "1309              3    male  27.0      1      1   22.3583        C       2\n",
       "\n",
       "[418 rows x 8 columns]"
      ]
     },
     "execution_count": 16,
     "metadata": {},
     "output_type": "execute_result"
    }
   ],
   "source": [
    "test_filled"
   ]
  },
  {
   "cell_type": "code",
   "execution_count": 17,
   "metadata": {},
   "outputs": [],
   "source": [
    "prediction = (~((test_filled.Sex == \"male\") & (test_filled.Pclass == 3))).astype(int).values"
   ]
  },
  {
   "cell_type": "markdown",
   "metadata": {},
   "source": [
    "Оформление результов"
   ]
  },
  {
   "cell_type": "code",
   "execution_count": 18,
   "metadata": {},
   "outputs": [],
   "source": [
    "#функция для составления submission-файла соревнования\n",
    "\n",
    "def make_prediction_file(prediction, test_data, name):\n",
    "    \n",
    "    result = pd.DataFrame({'PassengerId': test_data.reset_index()['PassengerId'], \"Survived\": prediction})  \n",
    "    result.to_csv(name, index=False)\n",
    "    return result"
   ]
  },
  {
   "cell_type": "code",
   "execution_count": 19,
   "metadata": {},
   "outputs": [],
   "source": [
    "# make_prediction_file(prediction, test_filled, \"test_predicted.csv\")"
   ]
  },
  {
   "cell_type": "markdown",
   "metadata": {},
   "source": [
    "# Шаг второй. Использование методов ML для предсказания выживаемости пассажиров"
   ]
  },
  {
   "cell_type": "markdown",
   "metadata": {},
   "source": [
    "Оставшаяся предобработка данных"
   ]
  },
  {
   "cell_type": "code",
   "execution_count": 20,
   "metadata": {},
   "outputs": [],
   "source": [
    "# отделяем ответ от параметров (предикторов)\n",
    "y_train = train_filled.Survived\n",
    "X_train = train_filled.drop(columns=[\"Survived\"])\n",
    "X_test = test_filled"
   ]
  },
  {
   "cell_type": "markdown",
   "metadata": {},
   "source": [
    "Быстрое кодирование (One-Hot Encoding)"
   ]
  },
  {
   "cell_type": "code",
   "execution_count": 21,
   "metadata": {},
   "outputs": [],
   "source": [
    "def one_hot_encoder(df_train, df_test):\n",
    "    \n",
    "    test_start_ind = df_train.index[-1] #запомнили индекс, с которого начинаются тестовые данные\n",
    "    \n",
    "    concated_df = pd.concat([df_train, df_test], sort=False) #объединили обучающую выборку с тестовой, для корректности\n",
    "                                                             #преобразования\n",
    "        \n",
    "    encoded_df = pd.get_dummies(concated_df, drop_first=True)#Convert categorical variable into dummy/indicator variables\n",
    "    \n",
    "    \n",
    "    df_train_encoded, df_test_encoded = encoded_df.iloc[:test_start_ind, :], encoded_df.iloc[test_start_ind:, :] #разъединили\n",
    "    \n",
    "    return df_train_encoded, df_test_encoded"
   ]
  },
  {
   "cell_type": "code",
   "execution_count": 22,
   "metadata": {},
   "outputs": [],
   "source": [
    "X_train_encoded, X_test_encoded = one_hot_encoder(X_train, X_test)"
   ]
  },
  {
   "cell_type": "markdown",
   "metadata": {},
   "source": [
    "# Деревья принятия решений"
   ]
  },
  {
   "cell_type": "code",
   "execution_count": 23,
   "metadata": {},
   "outputs": [],
   "source": [
    "from sklearn import tree\n",
    "clf = tree.DecisionTreeClassifier(criterion='entropy', max_depth=4)\n"
   ]
  },
  {
   "cell_type": "code",
   "execution_count": 24,
   "metadata": {},
   "outputs": [
    {
     "name": "stdout",
     "output_type": "stream",
     "text": [
      "CPU times: user 13.7 ms, sys: 4.05 ms, total: 17.8 ms\n",
      "Wall time: 17.6 ms\n"
     ]
    }
   ],
   "source": [
    "%%time\n",
    "clf = clf.fit(X_train_encoded, y_train)\n",
    "result = clf.predict(X_test_encoded)"
   ]
  },
  {
   "cell_type": "code",
   "execution_count": 25,
   "metadata": {},
   "outputs": [],
   "source": [
    "import graphviz\n",
    "def visualize_tree(clf, X, name=\"tree.dot\"):\n",
    "    tree.export_graphviz(clf, out_file=name, \n",
    "                            feature_names=X.columns,\n",
    "                            filled=True,\n",
    "                            class_names=['0', '1'])\n",
    "    with open(name) as f:\n",
    "        dot_graph = f.read()\n",
    "    return dot_graph"
   ]
  },
  {
   "cell_type": "markdown",
   "metadata": {},
   "source": [
    "Подбор гиперпараметров"
   ]
  },
  {
   "cell_type": "code",
   "execution_count": 26,
   "metadata": {},
   "outputs": [],
   "source": [
    "from sklearn.model_selection import GridSearchCV\n",
    "clf = tree.DecisionTreeClassifier()\n",
    "\n",
    "parameters = {\n",
    "              'criterion': ['entropy', 'gini'],\n",
    "              'max_depth': range(2, 10),\n",
    "              'min_samples_split': range(2, 10),\n",
    "              'min_samples_leaf': range(1, 10)\n",
    "             }\n",
    "\n",
    "\n",
    "grid_cv = GridSearchCV(clf, parameters, cv=5)"
   ]
  },
  {
   "cell_type": "code",
   "execution_count": 27,
   "metadata": {},
   "outputs": [
    {
     "name": "stdout",
     "output_type": "stream",
     "text": [
      "CPU times: user 44.1 s, sys: 683 ms, total: 44.8 s\n",
      "Wall time: 47.1 s\n"
     ]
    },
    {
     "data": {
      "text/plain": [
       "GridSearchCV(cv=5, estimator=DecisionTreeClassifier(),\n",
       "             param_grid={'criterion': ['entropy', 'gini'],\n",
       "                         'max_depth': range(2, 10),\n",
       "                         'min_samples_leaf': range(1, 10),\n",
       "                         'min_samples_split': range(2, 10)})"
      ]
     },
     "execution_count": 27,
     "metadata": {},
     "output_type": "execute_result"
    }
   ],
   "source": [
    "%%time\n",
    "\n",
    "grid_cv.fit(X_train_encoded, y_train)"
   ]
  },
  {
   "cell_type": "code",
   "execution_count": 28,
   "metadata": {},
   "outputs": [
    {
     "name": "stdout",
     "output_type": "stream",
     "text": [
      "Лучшие параметры классификатора: {'criterion': 'gini', 'max_depth': 7, 'min_samples_leaf': 6, 'min_samples_split': 4}\n"
     ]
    }
   ],
   "source": [
    "#выбираем лучшую модель из обученных\n",
    "\n",
    "best_model = grid_cv.best_estimator_\n",
    "print('Лучшие параметры классификатора:', grid_cv.best_params_)"
   ]
  },
  {
   "cell_type": "code",
   "execution_count": 29,
   "metadata": {},
   "outputs": [
    {
     "data": {
      "image/svg+xml": "<?xml version=\"1.0\" encoding=\"UTF-8\" standalone=\"no\"?>\n<!DOCTYPE svg PUBLIC \"-//W3C//DTD SVG 1.1//EN\"\n \"http://www.w3.org/Graphics/SVG/1.1/DTD/svg11.dtd\">\n<!-- Generated by graphviz version 2.50.0 (20211204.2007)\n -->\n<!-- Title: Tree Pages: 1 -->\n<svg width=\"2364pt\" height=\"909pt\"\n viewBox=\"0.00 0.00 2364.00 909.00\" xmlns=\"http://www.w3.org/2000/svg\" xmlns:xlink=\"http://www.w3.org/1999/xlink\">\n<g id=\"graph0\" class=\"graph\" transform=\"scale(1 1) rotate(0) translate(4 905)\">\n<title>Tree</title>\n<polygon fill=\"white\" stroke=\"transparent\" points=\"-4,4 -4,-905 2360,-905 2360,4 -4,4\"/>\n<!-- 0 -->\n<g id=\"node1\" class=\"node\">\n<title>0</title>\n<polygon fill=\"#f5cfb4\" stroke=\"black\" points=\"1233.5,-901 1114.5,-901 1114.5,-818 1233.5,-818 1233.5,-901\"/>\n<text text-anchor=\"middle\" x=\"1174\" y=\"-885.8\" font-family=\"Times,serif\" font-size=\"14.00\">Sex_male &lt;= 0.5</text>\n<text text-anchor=\"middle\" x=\"1174\" y=\"-870.8\" font-family=\"Times,serif\" font-size=\"14.00\">gini = 0.473</text>\n<text text-anchor=\"middle\" x=\"1174\" y=\"-855.8\" font-family=\"Times,serif\" font-size=\"14.00\">samples = 891</text>\n<text text-anchor=\"middle\" x=\"1174\" y=\"-840.8\" font-family=\"Times,serif\" font-size=\"14.00\">value = [549, 342]</text>\n<text text-anchor=\"middle\" x=\"1174\" y=\"-825.8\" font-family=\"Times,serif\" font-size=\"14.00\">class = 0</text>\n</g>\n<!-- 1 -->\n<g id=\"node2\" class=\"node\">\n<title>1</title>\n<polygon fill=\"#7ebfee\" stroke=\"black\" points=\"1057,-782 945,-782 945,-699 1057,-699 1057,-782\"/>\n<text text-anchor=\"middle\" x=\"1001\" y=\"-766.8\" font-family=\"Times,serif\" font-size=\"14.00\">Pclass &lt;= 2.5</text>\n<text text-anchor=\"middle\" x=\"1001\" y=\"-751.8\" font-family=\"Times,serif\" font-size=\"14.00\">gini = 0.383</text>\n<text text-anchor=\"middle\" x=\"1001\" y=\"-736.8\" font-family=\"Times,serif\" font-size=\"14.00\">samples = 314</text>\n<text text-anchor=\"middle\" x=\"1001\" y=\"-721.8\" font-family=\"Times,serif\" font-size=\"14.00\">value = [81, 233]</text>\n<text text-anchor=\"middle\" x=\"1001\" y=\"-706.8\" font-family=\"Times,serif\" font-size=\"14.00\">class = 1</text>\n</g>\n<!-- 0&#45;&gt;1 -->\n<g id=\"edge1\" class=\"edge\">\n<title>0&#45;&gt;1</title>\n<path fill=\"none\" stroke=\"black\" d=\"M1114.46,-818.24C1098.65,-807.54 1081.5,-795.94 1065.44,-785.08\"/>\n<polygon fill=\"black\" stroke=\"black\" points=\"1067.39,-782.18 1057.15,-779.47 1063.47,-787.98 1067.39,-782.18\"/>\n<text text-anchor=\"middle\" x=\"1061.89\" y=\"-800.32\" font-family=\"Times,serif\" font-size=\"14.00\">True</text>\n</g>\n<!-- 40 -->\n<g id=\"node41\" class=\"node\">\n<title>40</title>\n<polygon fill=\"#eb9e67\" stroke=\"black\" points=\"1343.5,-782 1224.5,-782 1224.5,-699 1343.5,-699 1343.5,-782\"/>\n<text text-anchor=\"middle\" x=\"1284\" y=\"-766.8\" font-family=\"Times,serif\" font-size=\"14.00\">Age &lt;= 6.5</text>\n<text text-anchor=\"middle\" x=\"1284\" y=\"-751.8\" font-family=\"Times,serif\" font-size=\"14.00\">gini = 0.306</text>\n<text text-anchor=\"middle\" x=\"1284\" y=\"-736.8\" font-family=\"Times,serif\" font-size=\"14.00\">samples = 577</text>\n<text text-anchor=\"middle\" x=\"1284\" y=\"-721.8\" font-family=\"Times,serif\" font-size=\"14.00\">value = [468, 109]</text>\n<text text-anchor=\"middle\" x=\"1284\" y=\"-706.8\" font-family=\"Times,serif\" font-size=\"14.00\">class = 0</text>\n</g>\n<!-- 0&#45;&gt;40 -->\n<g id=\"edge40\" class=\"edge\">\n<title>0&#45;&gt;40</title>\n<path fill=\"none\" stroke=\"black\" d=\"M1212.16,-817.91C1220.78,-808.74 1230.01,-798.93 1238.88,-789.49\"/>\n<polygon fill=\"black\" stroke=\"black\" points=\"1241.6,-791.7 1245.9,-782.02 1236.5,-786.91 1241.6,-791.7\"/>\n<text text-anchor=\"middle\" x=\"1246.67\" y=\"-803.31\" font-family=\"Times,serif\" font-size=\"14.00\">False</text>\n</g>\n<!-- 2 -->\n<g id=\"node3\" class=\"node\">\n<title>2</title>\n<polygon fill=\"#44a2e6\" stroke=\"black\" points=\"656.5,-663 551.5,-663 551.5,-580 656.5,-580 656.5,-663\"/>\n<text text-anchor=\"middle\" x=\"604\" y=\"-647.8\" font-family=\"Times,serif\" font-size=\"14.00\">Fare &lt;= 28.856</text>\n<text text-anchor=\"middle\" x=\"604\" y=\"-632.8\" font-family=\"Times,serif\" font-size=\"14.00\">gini = 0.1</text>\n<text text-anchor=\"middle\" x=\"604\" y=\"-617.8\" font-family=\"Times,serif\" font-size=\"14.00\">samples = 170</text>\n<text text-anchor=\"middle\" x=\"604\" y=\"-602.8\" font-family=\"Times,serif\" font-size=\"14.00\">value = [9, 161]</text>\n<text text-anchor=\"middle\" x=\"604\" y=\"-587.8\" font-family=\"Times,serif\" font-size=\"14.00\">class = 1</text>\n</g>\n<!-- 1&#45;&gt;2 -->\n<g id=\"edge2\" class=\"edge\">\n<title>1&#45;&gt;2</title>\n<path fill=\"none\" stroke=\"black\" d=\"M944.96,-722.98C871.53,-701.34 743.11,-663.5 666.57,-640.94\"/>\n<polygon fill=\"black\" stroke=\"black\" points=\"667.17,-637.47 656.59,-638 665.19,-644.18 667.17,-637.47\"/>\n</g>\n<!-- 19 -->\n<g id=\"node20\" class=\"node\">\n<title>19</title>\n<polygon fill=\"#ffffff\" stroke=\"black\" points=\"1053.5,-663 948.5,-663 948.5,-580 1053.5,-580 1053.5,-663\"/>\n<text text-anchor=\"middle\" x=\"1001\" y=\"-647.8\" font-family=\"Times,serif\" font-size=\"14.00\">Fare &lt;= 23.35</text>\n<text text-anchor=\"middle\" x=\"1001\" y=\"-632.8\" font-family=\"Times,serif\" font-size=\"14.00\">gini = 0.5</text>\n<text text-anchor=\"middle\" x=\"1001\" y=\"-617.8\" font-family=\"Times,serif\" font-size=\"14.00\">samples = 144</text>\n<text text-anchor=\"middle\" x=\"1001\" y=\"-602.8\" font-family=\"Times,serif\" font-size=\"14.00\">value = [72, 72]</text>\n<text text-anchor=\"middle\" x=\"1001\" y=\"-587.8\" font-family=\"Times,serif\" font-size=\"14.00\">class = 0</text>\n</g>\n<!-- 1&#45;&gt;19 -->\n<g id=\"edge19\" class=\"edge\">\n<title>1&#45;&gt;19</title>\n<path fill=\"none\" stroke=\"black\" d=\"M1001,-698.91C1001,-690.65 1001,-681.86 1001,-673.3\"/>\n<polygon fill=\"black\" stroke=\"black\" points=\"1004.5,-673.02 1001,-663.02 997.5,-673.02 1004.5,-673.02\"/>\n</g>\n<!-- 3 -->\n<g id=\"node4\" class=\"node\">\n<title>3</title>\n<polygon fill=\"#4fa8e8\" stroke=\"black\" points=\"427,-544 329,-544 329,-461 427,-461 427,-544\"/>\n<text text-anchor=\"middle\" x=\"378\" y=\"-528.8\" font-family=\"Times,serif\" font-size=\"14.00\">Age &lt;= 37.0</text>\n<text text-anchor=\"middle\" x=\"378\" y=\"-513.8\" font-family=\"Times,serif\" font-size=\"14.00\">gini = 0.18</text>\n<text text-anchor=\"middle\" x=\"378\" y=\"-498.8\" font-family=\"Times,serif\" font-size=\"14.00\">samples = 70</text>\n<text text-anchor=\"middle\" x=\"378\" y=\"-483.8\" font-family=\"Times,serif\" font-size=\"14.00\">value = [7, 63]</text>\n<text text-anchor=\"middle\" x=\"378\" y=\"-468.8\" font-family=\"Times,serif\" font-size=\"14.00\">class = 1</text>\n</g>\n<!-- 2&#45;&gt;3 -->\n<g id=\"edge3\" class=\"edge\">\n<title>2&#45;&gt;3</title>\n<path fill=\"none\" stroke=\"black\" d=\"M551.3,-593.22C516.94,-575.43 472.05,-552.19 436.57,-533.82\"/>\n<polygon fill=\"black\" stroke=\"black\" points=\"437.79,-530.51 427.3,-529.02 434.57,-536.73 437.79,-530.51\"/>\n</g>\n<!-- 14 -->\n<g id=\"node15\" class=\"node\">\n<title>14</title>\n<polygon fill=\"#3d9fe6\" stroke=\"black\" points=\"653,-544 555,-544 555,-461 653,-461 653,-544\"/>\n<text text-anchor=\"middle\" x=\"604\" y=\"-528.8\" font-family=\"Times,serif\" font-size=\"14.00\">Family &lt;= 2.5</text>\n<text text-anchor=\"middle\" x=\"604\" y=\"-513.8\" font-family=\"Times,serif\" font-size=\"14.00\">gini = 0.039</text>\n<text text-anchor=\"middle\" x=\"604\" y=\"-498.8\" font-family=\"Times,serif\" font-size=\"14.00\">samples = 100</text>\n<text text-anchor=\"middle\" x=\"604\" y=\"-483.8\" font-family=\"Times,serif\" font-size=\"14.00\">value = [2, 98]</text>\n<text text-anchor=\"middle\" x=\"604\" y=\"-468.8\" font-family=\"Times,serif\" font-size=\"14.00\">class = 1</text>\n</g>\n<!-- 2&#45;&gt;14 -->\n<g id=\"edge14\" class=\"edge\">\n<title>2&#45;&gt;14</title>\n<path fill=\"none\" stroke=\"black\" d=\"M604,-579.91C604,-571.65 604,-562.86 604,-554.3\"/>\n<polygon fill=\"black\" stroke=\"black\" points=\"607.5,-554.02 604,-544.02 600.5,-554.02 607.5,-554.02\"/>\n</g>\n<!-- 4 -->\n<g id=\"node5\" class=\"node\">\n<title>4</title>\n<polygon fill=\"#46a3e7\" stroke=\"black\" points=\"270,-425 172,-425 172,-342 270,-342 270,-425\"/>\n<text text-anchor=\"middle\" x=\"221\" y=\"-409.8\" font-family=\"Times,serif\" font-size=\"14.00\">Age &lt;= 27.5</text>\n<text text-anchor=\"middle\" x=\"221\" y=\"-394.8\" font-family=\"Times,serif\" font-size=\"14.00\">gini = 0.113</text>\n<text text-anchor=\"middle\" x=\"221\" y=\"-379.8\" font-family=\"Times,serif\" font-size=\"14.00\">samples = 50</text>\n<text text-anchor=\"middle\" x=\"221\" y=\"-364.8\" font-family=\"Times,serif\" font-size=\"14.00\">value = [3, 47]</text>\n<text text-anchor=\"middle\" x=\"221\" y=\"-349.8\" font-family=\"Times,serif\" font-size=\"14.00\">class = 1</text>\n</g>\n<!-- 3&#45;&gt;4 -->\n<g id=\"edge4\" class=\"edge\">\n<title>3&#45;&gt;4</title>\n<path fill=\"none\" stroke=\"black\" d=\"M328.75,-464.8C312.68,-452.82 294.7,-439.42 278.09,-427.05\"/>\n<polygon fill=\"black\" stroke=\"black\" points=\"280.18,-424.24 270.07,-421.07 276,-429.85 280.18,-424.24\"/>\n</g>\n<!-- 9 -->\n<g id=\"node10\" class=\"node\">\n<title>9</title>\n<polygon fill=\"#6ab6ec\" stroke=\"black\" points=\"427,-425 329,-425 329,-342 427,-342 427,-425\"/>\n<text text-anchor=\"middle\" x=\"378\" y=\"-409.8\" font-family=\"Times,serif\" font-size=\"14.00\">Fare &lt;= 13.25</text>\n<text text-anchor=\"middle\" x=\"378\" y=\"-394.8\" font-family=\"Times,serif\" font-size=\"14.00\">gini = 0.32</text>\n<text text-anchor=\"middle\" x=\"378\" y=\"-379.8\" font-family=\"Times,serif\" font-size=\"14.00\">samples = 20</text>\n<text text-anchor=\"middle\" x=\"378\" y=\"-364.8\" font-family=\"Times,serif\" font-size=\"14.00\">value = [4, 16]</text>\n<text text-anchor=\"middle\" x=\"378\" y=\"-349.8\" font-family=\"Times,serif\" font-size=\"14.00\">class = 1</text>\n</g>\n<!-- 3&#45;&gt;9 -->\n<g id=\"edge9\" class=\"edge\">\n<title>3&#45;&gt;9</title>\n<path fill=\"none\" stroke=\"black\" d=\"M378,-460.91C378,-452.65 378,-443.86 378,-435.3\"/>\n<polygon fill=\"black\" stroke=\"black\" points=\"381.5,-435.02 378,-425.02 374.5,-435.02 381.5,-435.02\"/>\n</g>\n<!-- 5 -->\n<g id=\"node6\" class=\"node\">\n<title>5</title>\n<polygon fill=\"#53aae8\" stroke=\"black\" points=\"154,-306 56,-306 56,-223 154,-223 154,-306\"/>\n<text text-anchor=\"middle\" x=\"105\" y=\"-290.8\" font-family=\"Times,serif\" font-size=\"14.00\">Age &lt;= 23.5</text>\n<text text-anchor=\"middle\" x=\"105\" y=\"-275.8\" font-family=\"Times,serif\" font-size=\"14.00\">gini = 0.204</text>\n<text text-anchor=\"middle\" x=\"105\" y=\"-260.8\" font-family=\"Times,serif\" font-size=\"14.00\">samples = 26</text>\n<text text-anchor=\"middle\" x=\"105\" y=\"-245.8\" font-family=\"Times,serif\" font-size=\"14.00\">value = [3, 23]</text>\n<text text-anchor=\"middle\" x=\"105\" y=\"-230.8\" font-family=\"Times,serif\" font-size=\"14.00\">class = 1</text>\n</g>\n<!-- 4&#45;&gt;5 -->\n<g id=\"edge5\" class=\"edge\">\n<title>4&#45;&gt;5</title>\n<path fill=\"none\" stroke=\"black\" d=\"M180.75,-341.91C171.58,-332.65 161.74,-322.73 152.3,-313.21\"/>\n<polygon fill=\"black\" stroke=\"black\" points=\"154.7,-310.66 145.17,-306.02 149.73,-315.59 154.7,-310.66\"/>\n</g>\n<!-- 8 -->\n<g id=\"node9\" class=\"node\">\n<title>8</title>\n<polygon fill=\"#399de5\" stroke=\"black\" points=\"270,-298.5 172,-298.5 172,-230.5 270,-230.5 270,-298.5\"/>\n<text text-anchor=\"middle\" x=\"221\" y=\"-283.3\" font-family=\"Times,serif\" font-size=\"14.00\">gini = 0.0</text>\n<text text-anchor=\"middle\" x=\"221\" y=\"-268.3\" font-family=\"Times,serif\" font-size=\"14.00\">samples = 24</text>\n<text text-anchor=\"middle\" x=\"221\" y=\"-253.3\" font-family=\"Times,serif\" font-size=\"14.00\">value = [0, 24]</text>\n<text text-anchor=\"middle\" x=\"221\" y=\"-238.3\" font-family=\"Times,serif\" font-size=\"14.00\">class = 1</text>\n</g>\n<!-- 4&#45;&gt;8 -->\n<g id=\"edge8\" class=\"edge\">\n<title>4&#45;&gt;8</title>\n<path fill=\"none\" stroke=\"black\" d=\"M221,-341.91C221,-331.2 221,-319.62 221,-308.78\"/>\n<polygon fill=\"black\" stroke=\"black\" points=\"224.5,-308.67 221,-298.67 217.5,-308.67 224.5,-308.67\"/>\n</g>\n<!-- 6 -->\n<g id=\"node7\" class=\"node\">\n<title>6</title>\n<polygon fill=\"#399de5\" stroke=\"black\" points=\"98,-179.5 0,-179.5 0,-111.5 98,-111.5 98,-179.5\"/>\n<text text-anchor=\"middle\" x=\"49\" y=\"-164.3\" font-family=\"Times,serif\" font-size=\"14.00\">gini = 0.0</text>\n<text text-anchor=\"middle\" x=\"49\" y=\"-149.3\" font-family=\"Times,serif\" font-size=\"14.00\">samples = 15</text>\n<text text-anchor=\"middle\" x=\"49\" y=\"-134.3\" font-family=\"Times,serif\" font-size=\"14.00\">value = [0, 15]</text>\n<text text-anchor=\"middle\" x=\"49\" y=\"-119.3\" font-family=\"Times,serif\" font-size=\"14.00\">class = 1</text>\n</g>\n<!-- 5&#45;&gt;6 -->\n<g id=\"edge6\" class=\"edge\">\n<title>5&#45;&gt;6</title>\n<path fill=\"none\" stroke=\"black\" d=\"M85.57,-222.91C80.29,-211.87 74.56,-199.9 69.23,-188.77\"/>\n<polygon fill=\"black\" stroke=\"black\" points=\"72.35,-187.18 64.87,-179.67 66.04,-190.2 72.35,-187.18\"/>\n</g>\n<!-- 7 -->\n<g id=\"node8\" class=\"node\">\n<title>7</title>\n<polygon fill=\"#83c2ef\" stroke=\"black\" points=\"208,-179.5 116,-179.5 116,-111.5 208,-111.5 208,-179.5\"/>\n<text text-anchor=\"middle\" x=\"162\" y=\"-164.3\" font-family=\"Times,serif\" font-size=\"14.00\">gini = 0.397</text>\n<text text-anchor=\"middle\" x=\"162\" y=\"-149.3\" font-family=\"Times,serif\" font-size=\"14.00\">samples = 11</text>\n<text text-anchor=\"middle\" x=\"162\" y=\"-134.3\" font-family=\"Times,serif\" font-size=\"14.00\">value = [3, 8]</text>\n<text text-anchor=\"middle\" x=\"162\" y=\"-119.3\" font-family=\"Times,serif\" font-size=\"14.00\">class = 1</text>\n</g>\n<!-- 5&#45;&gt;7 -->\n<g id=\"edge7\" class=\"edge\">\n<title>5&#45;&gt;7</title>\n<path fill=\"none\" stroke=\"black\" d=\"M124.78,-222.91C130.15,-211.87 135.99,-199.9 141.41,-188.77\"/>\n<polygon fill=\"black\" stroke=\"black\" points=\"144.61,-190.19 145.84,-179.67 138.32,-187.12 144.61,-190.19\"/>\n</g>\n<!-- 10 -->\n<g id=\"node11\" class=\"node\">\n<title>10</title>\n<polygon fill=\"#9ccef2\" stroke=\"black\" points=\"380,-298.5 288,-298.5 288,-230.5 380,-230.5 380,-298.5\"/>\n<text text-anchor=\"middle\" x=\"334\" y=\"-283.3\" font-family=\"Times,serif\" font-size=\"14.00\">gini = 0.444</text>\n<text text-anchor=\"middle\" x=\"334\" y=\"-268.3\" font-family=\"Times,serif\" font-size=\"14.00\">samples = 6</text>\n<text text-anchor=\"middle\" x=\"334\" y=\"-253.3\" font-family=\"Times,serif\" font-size=\"14.00\">value = [2, 4]</text>\n<text text-anchor=\"middle\" x=\"334\" y=\"-238.3\" font-family=\"Times,serif\" font-size=\"14.00\">class = 1</text>\n</g>\n<!-- 9&#45;&gt;10 -->\n<g id=\"edge10\" class=\"edge\">\n<title>9&#45;&gt;10</title>\n<path fill=\"none\" stroke=\"black\" d=\"M362.73,-341.91C358.63,-330.98 354.17,-319.14 350.02,-308.11\"/>\n<polygon fill=\"black\" stroke=\"black\" points=\"353.27,-306.79 346.47,-298.67 346.72,-309.26 353.27,-306.79\"/>\n</g>\n<!-- 11 -->\n<g id=\"node12\" class=\"node\">\n<title>11</title>\n<polygon fill=\"#5aade9\" stroke=\"black\" points=\"500,-306 398,-306 398,-223 500,-223 500,-306\"/>\n<text text-anchor=\"middle\" x=\"449\" y=\"-290.8\" font-family=\"Times,serif\" font-size=\"14.00\">Fare &lt;= 25.965</text>\n<text text-anchor=\"middle\" x=\"449\" y=\"-275.8\" font-family=\"Times,serif\" font-size=\"14.00\">gini = 0.245</text>\n<text text-anchor=\"middle\" x=\"449\" y=\"-260.8\" font-family=\"Times,serif\" font-size=\"14.00\">samples = 14</text>\n<text text-anchor=\"middle\" x=\"449\" y=\"-245.8\" font-family=\"Times,serif\" font-size=\"14.00\">value = [2, 12]</text>\n<text text-anchor=\"middle\" x=\"449\" y=\"-230.8\" font-family=\"Times,serif\" font-size=\"14.00\">class = 1</text>\n</g>\n<!-- 9&#45;&gt;11 -->\n<g id=\"edge11\" class=\"edge\">\n<title>9&#45;&gt;11</title>\n<path fill=\"none\" stroke=\"black\" d=\"M402.63,-341.91C407.97,-333.1 413.68,-323.7 419.2,-314.61\"/>\n<polygon fill=\"black\" stroke=\"black\" points=\"422.21,-316.39 424.41,-306.02 416.23,-312.75 422.21,-316.39\"/>\n</g>\n<!-- 12 -->\n<g id=\"node13\" class=\"node\">\n<title>12</title>\n<polygon fill=\"#399de5\" stroke=\"black\" points=\"439,-179.5 347,-179.5 347,-111.5 439,-111.5 439,-179.5\"/>\n<text text-anchor=\"middle\" x=\"393\" y=\"-164.3\" font-family=\"Times,serif\" font-size=\"14.00\">gini = 0.0</text>\n<text text-anchor=\"middle\" x=\"393\" y=\"-149.3\" font-family=\"Times,serif\" font-size=\"14.00\">samples = 7</text>\n<text text-anchor=\"middle\" x=\"393\" y=\"-134.3\" font-family=\"Times,serif\" font-size=\"14.00\">value = [0, 7]</text>\n<text text-anchor=\"middle\" x=\"393\" y=\"-119.3\" font-family=\"Times,serif\" font-size=\"14.00\">class = 1</text>\n</g>\n<!-- 11&#45;&gt;12 -->\n<g id=\"edge12\" class=\"edge\">\n<title>11&#45;&gt;12</title>\n<path fill=\"none\" stroke=\"black\" d=\"M429.57,-222.91C424.29,-211.87 418.56,-199.9 413.23,-188.77\"/>\n<polygon fill=\"black\" stroke=\"black\" points=\"416.35,-187.18 408.87,-179.67 410.04,-190.2 416.35,-187.18\"/>\n</g>\n<!-- 13 -->\n<g id=\"node14\" class=\"node\">\n<title>13</title>\n<polygon fill=\"#88c4ef\" stroke=\"black\" points=\"549,-179.5 457,-179.5 457,-111.5 549,-111.5 549,-179.5\"/>\n<text text-anchor=\"middle\" x=\"503\" y=\"-164.3\" font-family=\"Times,serif\" font-size=\"14.00\">gini = 0.408</text>\n<text text-anchor=\"middle\" x=\"503\" y=\"-149.3\" font-family=\"Times,serif\" font-size=\"14.00\">samples = 7</text>\n<text text-anchor=\"middle\" x=\"503\" y=\"-134.3\" font-family=\"Times,serif\" font-size=\"14.00\">value = [2, 5]</text>\n<text text-anchor=\"middle\" x=\"503\" y=\"-119.3\" font-family=\"Times,serif\" font-size=\"14.00\">class = 1</text>\n</g>\n<!-- 11&#45;&gt;13 -->\n<g id=\"edge13\" class=\"edge\">\n<title>11&#45;&gt;13</title>\n<path fill=\"none\" stroke=\"black\" d=\"M467.74,-222.91C472.83,-211.87 478.35,-199.9 483.49,-188.77\"/>\n<polygon fill=\"black\" stroke=\"black\" points=\"486.68,-190.21 487.69,-179.67 480.32,-187.28 486.68,-190.21\"/>\n</g>\n<!-- 15 -->\n<g id=\"node16\" class=\"node\">\n<title>15</title>\n<polygon fill=\"#399de5\" stroke=\"black\" points=\"592,-417.5 494,-417.5 494,-349.5 592,-349.5 592,-417.5\"/>\n<text text-anchor=\"middle\" x=\"543\" y=\"-402.3\" font-family=\"Times,serif\" font-size=\"14.00\">gini = 0.0</text>\n<text text-anchor=\"middle\" x=\"543\" y=\"-387.3\" font-family=\"Times,serif\" font-size=\"14.00\">samples = 87</text>\n<text text-anchor=\"middle\" x=\"543\" y=\"-372.3\" font-family=\"Times,serif\" font-size=\"14.00\">value = [0, 87]</text>\n<text text-anchor=\"middle\" x=\"543\" y=\"-357.3\" font-family=\"Times,serif\" font-size=\"14.00\">class = 1</text>\n</g>\n<!-- 14&#45;&gt;15 -->\n<g id=\"edge15\" class=\"edge\">\n<title>14&#45;&gt;15</title>\n<path fill=\"none\" stroke=\"black\" d=\"M582.84,-460.91C577.08,-449.87 570.84,-437.9 565.04,-426.77\"/>\n<polygon fill=\"black\" stroke=\"black\" points=\"568.02,-424.92 560.29,-417.67 561.81,-428.15 568.02,-424.92\"/>\n</g>\n<!-- 16 -->\n<g id=\"node17\" class=\"node\">\n<title>16</title>\n<polygon fill=\"#5dafea\" stroke=\"black\" points=\"719.5,-425 610.5,-425 610.5,-342 719.5,-342 719.5,-425\"/>\n<text text-anchor=\"middle\" x=\"665\" y=\"-409.8\" font-family=\"Times,serif\" font-size=\"14.00\">Fare &lt;= 135.775</text>\n<text text-anchor=\"middle\" x=\"665\" y=\"-394.8\" font-family=\"Times,serif\" font-size=\"14.00\">gini = 0.26</text>\n<text text-anchor=\"middle\" x=\"665\" y=\"-379.8\" font-family=\"Times,serif\" font-size=\"14.00\">samples = 13</text>\n<text text-anchor=\"middle\" x=\"665\" y=\"-364.8\" font-family=\"Times,serif\" font-size=\"14.00\">value = [2, 11]</text>\n<text text-anchor=\"middle\" x=\"665\" y=\"-349.8\" font-family=\"Times,serif\" font-size=\"14.00\">class = 1</text>\n</g>\n<!-- 14&#45;&gt;16 -->\n<g id=\"edge16\" class=\"edge\">\n<title>14&#45;&gt;16</title>\n<path fill=\"none\" stroke=\"black\" d=\"M625.16,-460.91C629.71,-452.2 634.55,-442.9 639.25,-433.89\"/>\n<polygon fill=\"black\" stroke=\"black\" points=\"642.35,-435.51 643.87,-425.02 636.15,-432.27 642.35,-435.51\"/>\n</g>\n<!-- 17 -->\n<g id=\"node18\" class=\"node\">\n<title>17</title>\n<polygon fill=\"#399de5\" stroke=\"black\" points=\"610,-298.5 518,-298.5 518,-230.5 610,-230.5 610,-298.5\"/>\n<text text-anchor=\"middle\" x=\"564\" y=\"-283.3\" font-family=\"Times,serif\" font-size=\"14.00\">gini = 0.0</text>\n<text text-anchor=\"middle\" x=\"564\" y=\"-268.3\" font-family=\"Times,serif\" font-size=\"14.00\">samples = 7</text>\n<text text-anchor=\"middle\" x=\"564\" y=\"-253.3\" font-family=\"Times,serif\" font-size=\"14.00\">value = [0, 7]</text>\n<text text-anchor=\"middle\" x=\"564\" y=\"-238.3\" font-family=\"Times,serif\" font-size=\"14.00\">class = 1</text>\n</g>\n<!-- 16&#45;&gt;17 -->\n<g id=\"edge17\" class=\"edge\">\n<title>16&#45;&gt;17</title>\n<path fill=\"none\" stroke=\"black\" d=\"M629.96,-341.91C620.05,-330.43 609.27,-317.94 599.34,-306.44\"/>\n<polygon fill=\"black\" stroke=\"black\" points=\"601.82,-303.95 592.63,-298.67 596.52,-308.52 601.82,-303.95\"/>\n</g>\n<!-- 18 -->\n<g id=\"node19\" class=\"node\">\n<title>18</title>\n<polygon fill=\"#9ccef2\" stroke=\"black\" points=\"720,-298.5 628,-298.5 628,-230.5 720,-230.5 720,-298.5\"/>\n<text text-anchor=\"middle\" x=\"674\" y=\"-283.3\" font-family=\"Times,serif\" font-size=\"14.00\">gini = 0.444</text>\n<text text-anchor=\"middle\" x=\"674\" y=\"-268.3\" font-family=\"Times,serif\" font-size=\"14.00\">samples = 6</text>\n<text text-anchor=\"middle\" x=\"674\" y=\"-253.3\" font-family=\"Times,serif\" font-size=\"14.00\">value = [2, 4]</text>\n<text text-anchor=\"middle\" x=\"674\" y=\"-238.3\" font-family=\"Times,serif\" font-size=\"14.00\">class = 1</text>\n</g>\n<!-- 16&#45;&gt;18 -->\n<g id=\"edge18\" class=\"edge\">\n<title>16&#45;&gt;18</title>\n<path fill=\"none\" stroke=\"black\" d=\"M668.12,-341.91C668.95,-331.2 669.84,-319.62 670.67,-308.78\"/>\n<polygon fill=\"black\" stroke=\"black\" points=\"674.17,-308.91 671.45,-298.67 667.19,-308.37 674.17,-308.91\"/>\n</g>\n<!-- 20 -->\n<g id=\"node21\" class=\"node\">\n<title>20</title>\n<polygon fill=\"#c3e1f7\" stroke=\"black\" points=\"992.5,-544 887.5,-544 887.5,-461 992.5,-461 992.5,-544\"/>\n<text text-anchor=\"middle\" x=\"940\" y=\"-528.8\" font-family=\"Times,serif\" font-size=\"14.00\">Age &lt;= 36.5</text>\n<text text-anchor=\"middle\" x=\"940\" y=\"-513.8\" font-family=\"Times,serif\" font-size=\"14.00\">gini = 0.484</text>\n<text text-anchor=\"middle\" x=\"940\" y=\"-498.8\" font-family=\"Times,serif\" font-size=\"14.00\">samples = 117</text>\n<text text-anchor=\"middle\" x=\"940\" y=\"-483.8\" font-family=\"Times,serif\" font-size=\"14.00\">value = [48, 69]</text>\n<text text-anchor=\"middle\" x=\"940\" y=\"-468.8\" font-family=\"Times,serif\" font-size=\"14.00\">class = 1</text>\n</g>\n<!-- 19&#45;&gt;20 -->\n<g id=\"edge20\" class=\"edge\">\n<title>19&#45;&gt;20</title>\n<path fill=\"none\" stroke=\"black\" d=\"M979.84,-579.91C975.29,-571.2 970.45,-561.9 965.75,-552.89\"/>\n<polygon fill=\"black\" stroke=\"black\" points=\"968.85,-551.27 961.13,-544.02 962.65,-554.51 968.85,-551.27\"/>\n</g>\n<!-- 35 -->\n<g id=\"node36\" class=\"node\">\n<title>35</title>\n<polygon fill=\"#e89152\" stroke=\"black\" points=\"1113,-544 1011,-544 1011,-461 1113,-461 1113,-544\"/>\n<text text-anchor=\"middle\" x=\"1062\" y=\"-528.8\" font-family=\"Times,serif\" font-size=\"14.00\">Fare &lt;= 32.881</text>\n<text text-anchor=\"middle\" x=\"1062\" y=\"-513.8\" font-family=\"Times,serif\" font-size=\"14.00\">gini = 0.198</text>\n<text text-anchor=\"middle\" x=\"1062\" y=\"-498.8\" font-family=\"Times,serif\" font-size=\"14.00\">samples = 27</text>\n<text text-anchor=\"middle\" x=\"1062\" y=\"-483.8\" font-family=\"Times,serif\" font-size=\"14.00\">value = [24, 3]</text>\n<text text-anchor=\"middle\" x=\"1062\" y=\"-468.8\" font-family=\"Times,serif\" font-size=\"14.00\">class = 0</text>\n</g>\n<!-- 19&#45;&gt;35 -->\n<g id=\"edge35\" class=\"edge\">\n<title>19&#45;&gt;35</title>\n<path fill=\"none\" stroke=\"black\" d=\"M1022.16,-579.91C1026.71,-571.2 1031.55,-561.9 1036.25,-552.89\"/>\n<polygon fill=\"black\" stroke=\"black\" points=\"1039.35,-554.51 1040.87,-544.02 1033.15,-551.27 1039.35,-554.51\"/>\n</g>\n<!-- 21 -->\n<g id=\"node22\" class=\"node\">\n<title>21</title>\n<polygon fill=\"#b3daf5\" stroke=\"black\" points=\"879,-425 751,-425 751,-342 879,-342 879,-425\"/>\n<text text-anchor=\"middle\" x=\"815\" y=\"-409.8\" font-family=\"Times,serif\" font-size=\"14.00\">Embarked_S &lt;= 0.5</text>\n<text text-anchor=\"middle\" x=\"815\" y=\"-394.8\" font-family=\"Times,serif\" font-size=\"14.00\">gini = 0.472</text>\n<text text-anchor=\"middle\" x=\"815\" y=\"-379.8\" font-family=\"Times,serif\" font-size=\"14.00\">samples = 110</text>\n<text text-anchor=\"middle\" x=\"815\" y=\"-364.8\" font-family=\"Times,serif\" font-size=\"14.00\">value = [42, 68]</text>\n<text text-anchor=\"middle\" x=\"815\" y=\"-349.8\" font-family=\"Times,serif\" font-size=\"14.00\">class = 1</text>\n</g>\n<!-- 20&#45;&gt;21 -->\n<g id=\"edge21\" class=\"edge\">\n<title>20&#45;&gt;21</title>\n<path fill=\"none\" stroke=\"black\" d=\"M896.63,-460.91C886.65,-451.56 875.94,-441.54 865.67,-431.93\"/>\n<polygon fill=\"black\" stroke=\"black\" points=\"867.98,-429.3 858.29,-425.02 863.2,-434.41 867.98,-429.3\"/>\n</g>\n<!-- 34 -->\n<g id=\"node35\" class=\"node\">\n<title>34</title>\n<polygon fill=\"#e9965a\" stroke=\"black\" points=\"989,-417.5 897,-417.5 897,-349.5 989,-349.5 989,-417.5\"/>\n<text text-anchor=\"middle\" x=\"943\" y=\"-402.3\" font-family=\"Times,serif\" font-size=\"14.00\">gini = 0.245</text>\n<text text-anchor=\"middle\" x=\"943\" y=\"-387.3\" font-family=\"Times,serif\" font-size=\"14.00\">samples = 7</text>\n<text text-anchor=\"middle\" x=\"943\" y=\"-372.3\" font-family=\"Times,serif\" font-size=\"14.00\">value = [6, 1]</text>\n<text text-anchor=\"middle\" x=\"943\" y=\"-357.3\" font-family=\"Times,serif\" font-size=\"14.00\">class = 0</text>\n</g>\n<!-- 20&#45;&gt;34 -->\n<g id=\"edge34\" class=\"edge\">\n<title>20&#45;&gt;34</title>\n<path fill=\"none\" stroke=\"black\" d=\"M941.04,-460.91C941.32,-450.2 941.61,-438.62 941.89,-427.78\"/>\n<polygon fill=\"black\" stroke=\"black\" points=\"945.39,-427.75 942.15,-417.67 938.39,-427.57 945.39,-427.75\"/>\n</g>\n<!-- 22 -->\n<g id=\"node23\" class=\"node\">\n<title>22</title>\n<polygon fill=\"#87c4ef\" stroke=\"black\" points=\"843.5,-306 738.5,-306 738.5,-223 843.5,-223 843.5,-306\"/>\n<text text-anchor=\"middle\" x=\"791\" y=\"-290.8\" font-family=\"Times,serif\" font-size=\"14.00\">Fare &lt;= 15.621</text>\n<text text-anchor=\"middle\" x=\"791\" y=\"-275.8\" font-family=\"Times,serif\" font-size=\"14.00\">gini = 0.406</text>\n<text text-anchor=\"middle\" x=\"791\" y=\"-260.8\" font-family=\"Times,serif\" font-size=\"14.00\">samples = 53</text>\n<text text-anchor=\"middle\" x=\"791\" y=\"-245.8\" font-family=\"Times,serif\" font-size=\"14.00\">value = [15, 38]</text>\n<text text-anchor=\"middle\" x=\"791\" y=\"-230.8\" font-family=\"Times,serif\" font-size=\"14.00\">class = 1</text>\n</g>\n<!-- 21&#45;&gt;22 -->\n<g id=\"edge22\" class=\"edge\">\n<title>21&#45;&gt;22</title>\n<path fill=\"none\" stroke=\"black\" d=\"M806.67,-341.91C804.96,-333.56 803.14,-324.67 801.36,-316.02\"/>\n<polygon fill=\"black\" stroke=\"black\" points=\"804.75,-315.11 799.31,-306.02 797.89,-316.52 804.75,-315.11\"/>\n</g>\n<!-- 27 -->\n<g id=\"node28\" class=\"node\">\n<title>27</title>\n<polygon fill=\"#ebf5fc\" stroke=\"black\" points=\"966.5,-306 861.5,-306 861.5,-223 966.5,-223 966.5,-306\"/>\n<text text-anchor=\"middle\" x=\"914\" y=\"-290.8\" font-family=\"Times,serif\" font-size=\"14.00\">Fare &lt;= 10.825</text>\n<text text-anchor=\"middle\" x=\"914\" y=\"-275.8\" font-family=\"Times,serif\" font-size=\"14.00\">gini = 0.499</text>\n<text text-anchor=\"middle\" x=\"914\" y=\"-260.8\" font-family=\"Times,serif\" font-size=\"14.00\">samples = 57</text>\n<text text-anchor=\"middle\" x=\"914\" y=\"-245.8\" font-family=\"Times,serif\" font-size=\"14.00\">value = [27, 30]</text>\n<text text-anchor=\"middle\" x=\"914\" y=\"-230.8\" font-family=\"Times,serif\" font-size=\"14.00\">class = 1</text>\n</g>\n<!-- 21&#45;&gt;27 -->\n<g id=\"edge27\" class=\"edge\">\n<title>21&#45;&gt;27</title>\n<path fill=\"none\" stroke=\"black\" d=\"M849.35,-341.91C857.03,-332.83 865.24,-323.12 873.16,-313.77\"/>\n<polygon fill=\"black\" stroke=\"black\" points=\"875.93,-315.92 879.71,-306.02 870.58,-311.39 875.93,-315.92\"/>\n</g>\n<!-- 23 -->\n<g id=\"node24\" class=\"node\">\n<title>23</title>\n<polygon fill=\"#9ccef2\" stroke=\"black\" points=\"726.5,-187 621.5,-187 621.5,-104 726.5,-104 726.5,-187\"/>\n<text text-anchor=\"middle\" x=\"674\" y=\"-171.8\" font-family=\"Times,serif\" font-size=\"14.00\">Fare &lt;= 13.935</text>\n<text text-anchor=\"middle\" x=\"674\" y=\"-156.8\" font-family=\"Times,serif\" font-size=\"14.00\">gini = 0.444</text>\n<text text-anchor=\"middle\" x=\"674\" y=\"-141.8\" font-family=\"Times,serif\" font-size=\"14.00\">samples = 45</text>\n<text text-anchor=\"middle\" x=\"674\" y=\"-126.8\" font-family=\"Times,serif\" font-size=\"14.00\">value = [15, 30]</text>\n<text text-anchor=\"middle\" x=\"674\" y=\"-111.8\" font-family=\"Times,serif\" font-size=\"14.00\">class = 1</text>\n</g>\n<!-- 22&#45;&gt;23 -->\n<g id=\"edge23\" class=\"edge\">\n<title>22&#45;&gt;23</title>\n<path fill=\"none\" stroke=\"black\" d=\"M750.41,-222.91C741.15,-213.65 731.23,-203.73 721.71,-194.21\"/>\n<polygon fill=\"black\" stroke=\"black\" points=\"724.07,-191.62 714.52,-187.02 719.12,-196.57 724.07,-191.62\"/>\n</g>\n<!-- 26 -->\n<g id=\"node27\" class=\"node\">\n<title>26</title>\n<polygon fill=\"#399de5\" stroke=\"black\" points=\"837,-179.5 745,-179.5 745,-111.5 837,-111.5 837,-179.5\"/>\n<text text-anchor=\"middle\" x=\"791\" y=\"-164.3\" font-family=\"Times,serif\" font-size=\"14.00\">gini = 0.0</text>\n<text text-anchor=\"middle\" x=\"791\" y=\"-149.3\" font-family=\"Times,serif\" font-size=\"14.00\">samples = 8</text>\n<text text-anchor=\"middle\" x=\"791\" y=\"-134.3\" font-family=\"Times,serif\" font-size=\"14.00\">value = [0, 8]</text>\n<text text-anchor=\"middle\" x=\"791\" y=\"-119.3\" font-family=\"Times,serif\" font-size=\"14.00\">class = 1</text>\n</g>\n<!-- 22&#45;&gt;26 -->\n<g id=\"edge26\" class=\"edge\">\n<title>22&#45;&gt;26</title>\n<path fill=\"none\" stroke=\"black\" d=\"M791,-222.91C791,-212.2 791,-200.62 791,-189.78\"/>\n<polygon fill=\"black\" stroke=\"black\" points=\"794.5,-189.67 791,-179.67 787.5,-189.67 794.5,-189.67\"/>\n</g>\n<!-- 24 -->\n<g id=\"node25\" class=\"node\">\n<title>24</title>\n<polygon fill=\"#70b8ec\" stroke=\"black\" points=\"616,-68 518,-68 518,0 616,0 616,-68\"/>\n<text text-anchor=\"middle\" x=\"567\" y=\"-52.8\" font-family=\"Times,serif\" font-size=\"14.00\">gini = 0.342</text>\n<text text-anchor=\"middle\" x=\"567\" y=\"-37.8\" font-family=\"Times,serif\" font-size=\"14.00\">samples = 32</text>\n<text text-anchor=\"middle\" x=\"567\" y=\"-22.8\" font-family=\"Times,serif\" font-size=\"14.00\">value = [7, 25]</text>\n<text text-anchor=\"middle\" x=\"567\" y=\"-7.8\" font-family=\"Times,serif\" font-size=\"14.00\">class = 1</text>\n</g>\n<!-- 23&#45;&gt;24 -->\n<g id=\"edge24\" class=\"edge\">\n<title>23&#45;&gt;24</title>\n<path fill=\"none\" stroke=\"black\" d=\"M634.16,-103.73C625.16,-94.51 615.6,-84.74 606.61,-75.53\"/>\n<polygon fill=\"black\" stroke=\"black\" points=\"609.03,-73.01 599.54,-68.3 604.03,-77.9 609.03,-73.01\"/>\n</g>\n<!-- 25 -->\n<g id=\"node26\" class=\"node\">\n<title>25</title>\n<polygon fill=\"#f5d0b5\" stroke=\"black\" points=\"726,-68 634,-68 634,0 726,0 726,-68\"/>\n<text text-anchor=\"middle\" x=\"680\" y=\"-52.8\" font-family=\"Times,serif\" font-size=\"14.00\">gini = 0.473</text>\n<text text-anchor=\"middle\" x=\"680\" y=\"-37.8\" font-family=\"Times,serif\" font-size=\"14.00\">samples = 13</text>\n<text text-anchor=\"middle\" x=\"680\" y=\"-22.8\" font-family=\"Times,serif\" font-size=\"14.00\">value = [8, 5]</text>\n<text text-anchor=\"middle\" x=\"680\" y=\"-7.8\" font-family=\"Times,serif\" font-size=\"14.00\">class = 0</text>\n</g>\n<!-- 23&#45;&gt;25 -->\n<g id=\"edge25\" class=\"edge\">\n<title>23&#45;&gt;25</title>\n<path fill=\"none\" stroke=\"black\" d=\"M676.23,-103.73C676.68,-95.52 677.16,-86.86 677.61,-78.56\"/>\n<polygon fill=\"black\" stroke=\"black\" points=\"681.12,-78.48 678.18,-68.3 674.13,-78.09 681.12,-78.48\"/>\n</g>\n<!-- 28 -->\n<g id=\"node29\" class=\"node\">\n<title>28</title>\n<polygon fill=\"#f8decb\" stroke=\"black\" points=\"960.5,-187 855.5,-187 855.5,-104 960.5,-104 960.5,-187\"/>\n<text text-anchor=\"middle\" x=\"908\" y=\"-171.8\" font-family=\"Times,serif\" font-size=\"14.00\">Fare &lt;= 7.763</text>\n<text text-anchor=\"middle\" x=\"908\" y=\"-156.8\" font-family=\"Times,serif\" font-size=\"14.00\">gini = 0.489</text>\n<text text-anchor=\"middle\" x=\"908\" y=\"-141.8\" font-family=\"Times,serif\" font-size=\"14.00\">samples = 33</text>\n<text text-anchor=\"middle\" x=\"908\" y=\"-126.8\" font-family=\"Times,serif\" font-size=\"14.00\">value = [19, 14]</text>\n<text text-anchor=\"middle\" x=\"908\" y=\"-111.8\" font-family=\"Times,serif\" font-size=\"14.00\">class = 0</text>\n</g>\n<!-- 27&#45;&gt;28 -->\n<g id=\"edge28\" class=\"edge\">\n<title>27&#45;&gt;28</title>\n<path fill=\"none\" stroke=\"black\" d=\"M911.92,-222.91C911.49,-214.56 911.03,-205.67 910.59,-197.02\"/>\n<polygon fill=\"black\" stroke=\"black\" points=\"914.09,-196.83 910.08,-187.02 907.09,-197.19 914.09,-196.83\"/>\n</g>\n<!-- 31 -->\n<g id=\"node32\" class=\"node\">\n<title>31</title>\n<polygon fill=\"#9ccef2\" stroke=\"black\" points=\"1077,-187 979,-187 979,-104 1077,-104 1077,-187\"/>\n<text text-anchor=\"middle\" x=\"1028\" y=\"-171.8\" font-family=\"Times,serif\" font-size=\"14.00\">Fare &lt;= 17.6</text>\n<text text-anchor=\"middle\" x=\"1028\" y=\"-156.8\" font-family=\"Times,serif\" font-size=\"14.00\">gini = 0.444</text>\n<text text-anchor=\"middle\" x=\"1028\" y=\"-141.8\" font-family=\"Times,serif\" font-size=\"14.00\">samples = 24</text>\n<text text-anchor=\"middle\" x=\"1028\" y=\"-126.8\" font-family=\"Times,serif\" font-size=\"14.00\">value = [8, 16]</text>\n<text text-anchor=\"middle\" x=\"1028\" y=\"-111.8\" font-family=\"Times,serif\" font-size=\"14.00\">class = 1</text>\n</g>\n<!-- 27&#45;&gt;31 -->\n<g id=\"edge31\" class=\"edge\">\n<title>27&#45;&gt;31</title>\n<path fill=\"none\" stroke=\"black\" d=\"M953.55,-222.91C962.57,-213.65 972.24,-203.73 981.51,-194.21\"/>\n<polygon fill=\"black\" stroke=\"black\" points=\"984.05,-196.63 988.52,-187.02 979.03,-191.74 984.05,-196.63\"/>\n</g>\n<!-- 29 -->\n<g id=\"node30\" class=\"node\">\n<title>29</title>\n<polygon fill=\"#61b1ea\" stroke=\"black\" points=\"841,-68 749,-68 749,0 841,0 841,-68\"/>\n<text text-anchor=\"middle\" x=\"795\" y=\"-52.8\" font-family=\"Times,serif\" font-size=\"14.00\">gini = 0.278</text>\n<text text-anchor=\"middle\" x=\"795\" y=\"-37.8\" font-family=\"Times,serif\" font-size=\"14.00\">samples = 6</text>\n<text text-anchor=\"middle\" x=\"795\" y=\"-22.8\" font-family=\"Times,serif\" font-size=\"14.00\">value = [1, 5]</text>\n<text text-anchor=\"middle\" x=\"795\" y=\"-7.8\" font-family=\"Times,serif\" font-size=\"14.00\">class = 1</text>\n</g>\n<!-- 28&#45;&gt;29 -->\n<g id=\"edge29\" class=\"edge\">\n<title>28&#45;&gt;29</title>\n<path fill=\"none\" stroke=\"black\" d=\"M865.92,-103.73C856.32,-94.42 846.13,-84.54 836.55,-75.26\"/>\n<polygon fill=\"black\" stroke=\"black\" points=\"838.98,-72.75 829.36,-68.3 834.11,-77.77 838.98,-72.75\"/>\n</g>\n<!-- 30 -->\n<g id=\"node31\" class=\"node\">\n<title>30</title>\n<polygon fill=\"#f2c09c\" stroke=\"black\" points=\"957,-68 859,-68 859,0 957,0 957,-68\"/>\n<text text-anchor=\"middle\" x=\"908\" y=\"-52.8\" font-family=\"Times,serif\" font-size=\"14.00\">gini = 0.444</text>\n<text text-anchor=\"middle\" x=\"908\" y=\"-37.8\" font-family=\"Times,serif\" font-size=\"14.00\">samples = 27</text>\n<text text-anchor=\"middle\" x=\"908\" y=\"-22.8\" font-family=\"Times,serif\" font-size=\"14.00\">value = [18, 9]</text>\n<text text-anchor=\"middle\" x=\"908\" y=\"-7.8\" font-family=\"Times,serif\" font-size=\"14.00\">class = 0</text>\n</g>\n<!-- 28&#45;&gt;30 -->\n<g id=\"edge30\" class=\"edge\">\n<title>28&#45;&gt;30</title>\n<path fill=\"none\" stroke=\"black\" d=\"M908,-103.73C908,-95.52 908,-86.86 908,-78.56\"/>\n<polygon fill=\"black\" stroke=\"black\" points=\"911.5,-78.3 908,-68.3 904.5,-78.3 911.5,-78.3\"/>\n</g>\n<!-- 32 -->\n<g id=\"node33\" class=\"node\">\n<title>32</title>\n<polygon fill=\"#57ace9\" stroke=\"black\" points=\"1073,-68 975,-68 975,0 1073,0 1073,-68\"/>\n<text text-anchor=\"middle\" x=\"1024\" y=\"-52.8\" font-family=\"Times,serif\" font-size=\"14.00\">gini = 0.231</text>\n<text text-anchor=\"middle\" x=\"1024\" y=\"-37.8\" font-family=\"Times,serif\" font-size=\"14.00\">samples = 15</text>\n<text text-anchor=\"middle\" x=\"1024\" y=\"-22.8\" font-family=\"Times,serif\" font-size=\"14.00\">value = [2, 13]</text>\n<text text-anchor=\"middle\" x=\"1024\" y=\"-7.8\" font-family=\"Times,serif\" font-size=\"14.00\">class = 1</text>\n</g>\n<!-- 31&#45;&gt;32 -->\n<g id=\"edge32\" class=\"edge\">\n<title>31&#45;&gt;32</title>\n<path fill=\"none\" stroke=\"black\" d=\"M1026.51,-103.73C1026.21,-95.52 1025.89,-86.86 1025.59,-78.56\"/>\n<polygon fill=\"black\" stroke=\"black\" points=\"1029.08,-78.17 1025.22,-68.3 1022.08,-78.42 1029.08,-78.17\"/>\n</g>\n<!-- 33 -->\n<g id=\"node34\" class=\"node\">\n<title>33</title>\n<polygon fill=\"#f2c09c\" stroke=\"black\" points=\"1183,-68 1091,-68 1091,0 1183,0 1183,-68\"/>\n<text text-anchor=\"middle\" x=\"1137\" y=\"-52.8\" font-family=\"Times,serif\" font-size=\"14.00\">gini = 0.444</text>\n<text text-anchor=\"middle\" x=\"1137\" y=\"-37.8\" font-family=\"Times,serif\" font-size=\"14.00\">samples = 9</text>\n<text text-anchor=\"middle\" x=\"1137\" y=\"-22.8\" font-family=\"Times,serif\" font-size=\"14.00\">value = [6, 3]</text>\n<text text-anchor=\"middle\" x=\"1137\" y=\"-7.8\" font-family=\"Times,serif\" font-size=\"14.00\">class = 0</text>\n</g>\n<!-- 31&#45;&gt;33 -->\n<g id=\"edge33\" class=\"edge\">\n<title>31&#45;&gt;33</title>\n<path fill=\"none\" stroke=\"black\" d=\"M1068.59,-103.73C1077.76,-94.51 1087.49,-84.74 1096.65,-75.53\"/>\n<polygon fill=\"black\" stroke=\"black\" points=\"1099.28,-77.86 1103.85,-68.3 1094.32,-72.92 1099.28,-77.86\"/>\n</g>\n<!-- 36 -->\n<g id=\"node37\" class=\"node\">\n<title>36</title>\n<polygon fill=\"#ea9a61\" stroke=\"black\" points=\"1109,-425 1011,-425 1011,-342 1109,-342 1109,-425\"/>\n<text text-anchor=\"middle\" x=\"1060\" y=\"-409.8\" font-family=\"Times,serif\" font-size=\"14.00\">Family &lt;= 5.5</text>\n<text text-anchor=\"middle\" x=\"1060\" y=\"-394.8\" font-family=\"Times,serif\" font-size=\"14.00\">gini = 0.278</text>\n<text text-anchor=\"middle\" x=\"1060\" y=\"-379.8\" font-family=\"Times,serif\" font-size=\"14.00\">samples = 18</text>\n<text text-anchor=\"middle\" x=\"1060\" y=\"-364.8\" font-family=\"Times,serif\" font-size=\"14.00\">value = [15, 3]</text>\n<text text-anchor=\"middle\" x=\"1060\" y=\"-349.8\" font-family=\"Times,serif\" font-size=\"14.00\">class = 0</text>\n</g>\n<!-- 35&#45;&gt;36 -->\n<g id=\"edge36\" class=\"edge\">\n<title>35&#45;&gt;36</title>\n<path fill=\"none\" stroke=\"black\" d=\"M1061.31,-460.91C1061.16,-452.56 1061.01,-443.67 1060.86,-435.02\"/>\n<polygon fill=\"black\" stroke=\"black\" points=\"1064.36,-434.96 1060.69,-425.02 1057.36,-435.08 1064.36,-434.96\"/>\n</g>\n<!-- 39 -->\n<g id=\"node40\" class=\"node\">\n<title>39</title>\n<polygon fill=\"#e58139\" stroke=\"black\" points=\"1219,-417.5 1127,-417.5 1127,-349.5 1219,-349.5 1219,-417.5\"/>\n<text text-anchor=\"middle\" x=\"1173\" y=\"-402.3\" font-family=\"Times,serif\" font-size=\"14.00\">gini = 0.0</text>\n<text text-anchor=\"middle\" x=\"1173\" y=\"-387.3\" font-family=\"Times,serif\" font-size=\"14.00\">samples = 9</text>\n<text text-anchor=\"middle\" x=\"1173\" y=\"-372.3\" font-family=\"Times,serif\" font-size=\"14.00\">value = [9, 0]</text>\n<text text-anchor=\"middle\" x=\"1173\" y=\"-357.3\" font-family=\"Times,serif\" font-size=\"14.00\">class = 0</text>\n</g>\n<!-- 35&#45;&gt;39 -->\n<g id=\"edge39\" class=\"edge\">\n<title>35&#45;&gt;39</title>\n<path fill=\"none\" stroke=\"black\" d=\"M1100.51,-460.91C1111.5,-449.32 1123.48,-436.7 1134.47,-425.11\"/>\n<polygon fill=\"black\" stroke=\"black\" points=\"1137.19,-427.33 1141.53,-417.67 1132.11,-422.51 1137.19,-427.33\"/>\n</g>\n<!-- 37 -->\n<g id=\"node38\" class=\"node\">\n<title>37</title>\n<polygon fill=\"#e88e4d\" stroke=\"black\" points=\"1098,-298.5 1000,-298.5 1000,-230.5 1098,-230.5 1098,-298.5\"/>\n<text text-anchor=\"middle\" x=\"1049\" y=\"-283.3\" font-family=\"Times,serif\" font-size=\"14.00\">gini = 0.165</text>\n<text text-anchor=\"middle\" x=\"1049\" y=\"-268.3\" font-family=\"Times,serif\" font-size=\"14.00\">samples = 11</text>\n<text text-anchor=\"middle\" x=\"1049\" y=\"-253.3\" font-family=\"Times,serif\" font-size=\"14.00\">value = [10, 1]</text>\n<text text-anchor=\"middle\" x=\"1049\" y=\"-238.3\" font-family=\"Times,serif\" font-size=\"14.00\">class = 0</text>\n</g>\n<!-- 36&#45;&gt;37 -->\n<g id=\"edge37\" class=\"edge\">\n<title>36&#45;&gt;37</title>\n<path fill=\"none\" stroke=\"black\" d=\"M1056.18,-341.91C1055.18,-331.2 1054.09,-319.62 1053.07,-308.78\"/>\n<polygon fill=\"black\" stroke=\"black\" points=\"1056.54,-308.3 1052.12,-298.67 1049.57,-308.95 1056.54,-308.3\"/>\n</g>\n<!-- 38 -->\n<g id=\"node39\" class=\"node\">\n<title>38</title>\n<polygon fill=\"#efb388\" stroke=\"black\" points=\"1208,-298.5 1116,-298.5 1116,-230.5 1208,-230.5 1208,-298.5\"/>\n<text text-anchor=\"middle\" x=\"1162\" y=\"-283.3\" font-family=\"Times,serif\" font-size=\"14.00\">gini = 0.408</text>\n<text text-anchor=\"middle\" x=\"1162\" y=\"-268.3\" font-family=\"Times,serif\" font-size=\"14.00\">samples = 7</text>\n<text text-anchor=\"middle\" x=\"1162\" y=\"-253.3\" font-family=\"Times,serif\" font-size=\"14.00\">value = [5, 2]</text>\n<text text-anchor=\"middle\" x=\"1162\" y=\"-238.3\" font-family=\"Times,serif\" font-size=\"14.00\">class = 0</text>\n</g>\n<!-- 36&#45;&gt;38 -->\n<g id=\"edge38\" class=\"edge\">\n<title>36&#45;&gt;38</title>\n<path fill=\"none\" stroke=\"black\" d=\"M1095.39,-341.91C1105.39,-330.43 1116.28,-317.94 1126.31,-306.44\"/>\n<polygon fill=\"black\" stroke=\"black\" points=\"1129.15,-308.5 1133.09,-298.67 1123.88,-303.9 1129.15,-308.5\"/>\n</g>\n<!-- 41 -->\n<g id=\"node42\" class=\"node\">\n<title>41</title>\n<polygon fill=\"#9ccef2\" stroke=\"black\" points=\"1333,-663 1235,-663 1235,-580 1333,-580 1333,-663\"/>\n<text text-anchor=\"middle\" x=\"1284\" y=\"-647.8\" font-family=\"Times,serif\" font-size=\"14.00\">Family &lt;= 3.5</text>\n<text text-anchor=\"middle\" x=\"1284\" y=\"-632.8\" font-family=\"Times,serif\" font-size=\"14.00\">gini = 0.444</text>\n<text text-anchor=\"middle\" x=\"1284\" y=\"-617.8\" font-family=\"Times,serif\" font-size=\"14.00\">samples = 24</text>\n<text text-anchor=\"middle\" x=\"1284\" y=\"-602.8\" font-family=\"Times,serif\" font-size=\"14.00\">value = [8, 16]</text>\n<text text-anchor=\"middle\" x=\"1284\" y=\"-587.8\" font-family=\"Times,serif\" font-size=\"14.00\">class = 1</text>\n</g>\n<!-- 40&#45;&gt;41 -->\n<g id=\"edge41\" class=\"edge\">\n<title>40&#45;&gt;41</title>\n<path fill=\"none\" stroke=\"black\" d=\"M1284,-698.91C1284,-690.65 1284,-681.86 1284,-673.3\"/>\n<polygon fill=\"black\" stroke=\"black\" points=\"1287.5,-673.02 1284,-663.02 1280.5,-673.02 1287.5,-673.02\"/>\n</g>\n<!-- 44 -->\n<g id=\"node45\" class=\"node\">\n<title>44</title>\n<polygon fill=\"#ea9a61\" stroke=\"black\" points=\"1516,-663 1404,-663 1404,-580 1516,-580 1516,-663\"/>\n<text text-anchor=\"middle\" x=\"1460\" y=\"-647.8\" font-family=\"Times,serif\" font-size=\"14.00\">Pclass &lt;= 1.5</text>\n<text text-anchor=\"middle\" x=\"1460\" y=\"-632.8\" font-family=\"Times,serif\" font-size=\"14.00\">gini = 0.28</text>\n<text text-anchor=\"middle\" x=\"1460\" y=\"-617.8\" font-family=\"Times,serif\" font-size=\"14.00\">samples = 553</text>\n<text text-anchor=\"middle\" x=\"1460\" y=\"-602.8\" font-family=\"Times,serif\" font-size=\"14.00\">value = [460, 93]</text>\n<text text-anchor=\"middle\" x=\"1460\" y=\"-587.8\" font-family=\"Times,serif\" font-size=\"14.00\">class = 0</text>\n</g>\n<!-- 40&#45;&gt;44 -->\n<g id=\"edge44\" class=\"edge\">\n<title>40&#45;&gt;44</title>\n<path fill=\"none\" stroke=\"black\" d=\"M1343.59,-699.89C1360.15,-688.88 1378.21,-676.87 1395.06,-665.67\"/>\n<polygon fill=\"black\" stroke=\"black\" points=\"1397.36,-668.35 1403.75,-659.9 1393.48,-662.52 1397.36,-668.35\"/>\n</g>\n<!-- 42 -->\n<g id=\"node43\" class=\"node\">\n<title>42</title>\n<polygon fill=\"#399de5\" stroke=\"black\" points=\"1262,-536.5 1164,-536.5 1164,-468.5 1262,-468.5 1262,-536.5\"/>\n<text text-anchor=\"middle\" x=\"1213\" y=\"-521.3\" font-family=\"Times,serif\" font-size=\"14.00\">gini = 0.0</text>\n<text text-anchor=\"middle\" x=\"1213\" y=\"-506.3\" font-family=\"Times,serif\" font-size=\"14.00\">samples = 15</text>\n<text text-anchor=\"middle\" x=\"1213\" y=\"-491.3\" font-family=\"Times,serif\" font-size=\"14.00\">value = [0, 15]</text>\n<text text-anchor=\"middle\" x=\"1213\" y=\"-476.3\" font-family=\"Times,serif\" font-size=\"14.00\">class = 1</text>\n</g>\n<!-- 41&#45;&gt;42 -->\n<g id=\"edge42\" class=\"edge\">\n<title>41&#45;&gt;42</title>\n<path fill=\"none\" stroke=\"black\" d=\"M1259.37,-579.91C1252.6,-568.76 1245.26,-556.66 1238.45,-545.44\"/>\n<polygon fill=\"black\" stroke=\"black\" points=\"1241.31,-543.4 1233.13,-536.67 1235.32,-547.03 1241.31,-543.4\"/>\n</g>\n<!-- 43 -->\n<g id=\"node44\" class=\"node\">\n<title>43</title>\n<polygon fill=\"#e89152\" stroke=\"black\" points=\"1372,-536.5 1280,-536.5 1280,-468.5 1372,-468.5 1372,-536.5\"/>\n<text text-anchor=\"middle\" x=\"1326\" y=\"-521.3\" font-family=\"Times,serif\" font-size=\"14.00\">gini = 0.198</text>\n<text text-anchor=\"middle\" x=\"1326\" y=\"-506.3\" font-family=\"Times,serif\" font-size=\"14.00\">samples = 9</text>\n<text text-anchor=\"middle\" x=\"1326\" y=\"-491.3\" font-family=\"Times,serif\" font-size=\"14.00\">value = [8, 1]</text>\n<text text-anchor=\"middle\" x=\"1326\" y=\"-476.3\" font-family=\"Times,serif\" font-size=\"14.00\">class = 0</text>\n</g>\n<!-- 41&#45;&gt;43 -->\n<g id=\"edge43\" class=\"edge\">\n<title>41&#45;&gt;43</title>\n<path fill=\"none\" stroke=\"black\" d=\"M1298.57,-579.91C1302.49,-568.98 1306.75,-557.14 1310.71,-546.11\"/>\n<polygon fill=\"black\" stroke=\"black\" points=\"1314.01,-547.26 1314.09,-536.67 1307.42,-544.9 1314.01,-547.26\"/>\n</g>\n<!-- 45 -->\n<g id=\"node46\" class=\"node\">\n<title>45</title>\n<polygon fill=\"#f4c7a8\" stroke=\"black\" points=\"1512.5,-544 1407.5,-544 1407.5,-461 1512.5,-461 1512.5,-544\"/>\n<text text-anchor=\"middle\" x=\"1460\" y=\"-528.8\" font-family=\"Times,serif\" font-size=\"14.00\">Fare &lt;= 26.144</text>\n<text text-anchor=\"middle\" x=\"1460\" y=\"-513.8\" font-family=\"Times,serif\" font-size=\"14.00\">gini = 0.46</text>\n<text text-anchor=\"middle\" x=\"1460\" y=\"-498.8\" font-family=\"Times,serif\" font-size=\"14.00\">samples = 120</text>\n<text text-anchor=\"middle\" x=\"1460\" y=\"-483.8\" font-family=\"Times,serif\" font-size=\"14.00\">value = [77, 43]</text>\n<text text-anchor=\"middle\" x=\"1460\" y=\"-468.8\" font-family=\"Times,serif\" font-size=\"14.00\">class = 0</text>\n</g>\n<!-- 44&#45;&gt;45 -->\n<g id=\"edge45\" class=\"edge\">\n<title>44&#45;&gt;45</title>\n<path fill=\"none\" stroke=\"black\" d=\"M1460,-579.91C1460,-571.65 1460,-562.86 1460,-554.3\"/>\n<polygon fill=\"black\" stroke=\"black\" points=\"1463.5,-554.02 1460,-544.02 1456.5,-554.02 1463.5,-554.02\"/>\n</g>\n<!-- 60 -->\n<g id=\"node61\" class=\"node\">\n<title>60</title>\n<polygon fill=\"#e89153\" stroke=\"black\" points=\"2063,-544 1951,-544 1951,-461 2063,-461 2063,-544\"/>\n<text text-anchor=\"middle\" x=\"2007\" y=\"-528.8\" font-family=\"Times,serif\" font-size=\"14.00\">Fare &lt;= 51.698</text>\n<text text-anchor=\"middle\" x=\"2007\" y=\"-513.8\" font-family=\"Times,serif\" font-size=\"14.00\">gini = 0.204</text>\n<text text-anchor=\"middle\" x=\"2007\" y=\"-498.8\" font-family=\"Times,serif\" font-size=\"14.00\">samples = 433</text>\n<text text-anchor=\"middle\" x=\"2007\" y=\"-483.8\" font-family=\"Times,serif\" font-size=\"14.00\">value = [383, 50]</text>\n<text text-anchor=\"middle\" x=\"2007\" y=\"-468.8\" font-family=\"Times,serif\" font-size=\"14.00\">class = 0</text>\n</g>\n<!-- 44&#45;&gt;60 -->\n<g id=\"edge60\" class=\"edge\">\n<title>44&#45;&gt;60</title>\n<path fill=\"none\" stroke=\"black\" d=\"M1516.22,-608.47C1618.01,-586.7 1832.31,-540.87 1940.91,-517.64\"/>\n<polygon fill=\"black\" stroke=\"black\" points=\"1941.72,-521.04 1950.77,-515.53 1940.25,-514.2 1941.72,-521.04\"/>\n</g>\n<!-- 46 -->\n<g id=\"node47\" class=\"node\">\n<title>46</title>\n<polygon fill=\"#e58139\" stroke=\"black\" points=\"1453,-417.5 1355,-417.5 1355,-349.5 1453,-349.5 1453,-417.5\"/>\n<text text-anchor=\"middle\" x=\"1404\" y=\"-402.3\" font-family=\"Times,serif\" font-size=\"14.00\">gini = 0.0</text>\n<text text-anchor=\"middle\" x=\"1404\" y=\"-387.3\" font-family=\"Times,serif\" font-size=\"14.00\">samples = 10</text>\n<text text-anchor=\"middle\" x=\"1404\" y=\"-372.3\" font-family=\"Times,serif\" font-size=\"14.00\">value = [10, 0]</text>\n<text text-anchor=\"middle\" x=\"1404\" y=\"-357.3\" font-family=\"Times,serif\" font-size=\"14.00\">class = 0</text>\n</g>\n<!-- 45&#45;&gt;46 -->\n<g id=\"edge46\" class=\"edge\">\n<title>45&#45;&gt;46</title>\n<path fill=\"none\" stroke=\"black\" d=\"M1440.57,-460.91C1435.29,-449.87 1429.56,-437.9 1424.23,-426.77\"/>\n<polygon fill=\"black\" stroke=\"black\" points=\"1427.35,-425.18 1419.87,-417.67 1421.04,-428.2 1427.35,-425.18\"/>\n</g>\n<!-- 47 -->\n<g id=\"node48\" class=\"node\">\n<title>47</title>\n<polygon fill=\"#f6d2b8\" stroke=\"black\" points=\"1576.5,-425 1471.5,-425 1471.5,-342 1576.5,-342 1576.5,-425\"/>\n<text text-anchor=\"middle\" x=\"1524\" y=\"-409.8\" font-family=\"Times,serif\" font-size=\"14.00\">Age &lt;= 53.0</text>\n<text text-anchor=\"middle\" x=\"1524\" y=\"-394.8\" font-family=\"Times,serif\" font-size=\"14.00\">gini = 0.476</text>\n<text text-anchor=\"middle\" x=\"1524\" y=\"-379.8\" font-family=\"Times,serif\" font-size=\"14.00\">samples = 110</text>\n<text text-anchor=\"middle\" x=\"1524\" y=\"-364.8\" font-family=\"Times,serif\" font-size=\"14.00\">value = [67, 43]</text>\n<text text-anchor=\"middle\" x=\"1524\" y=\"-349.8\" font-family=\"Times,serif\" font-size=\"14.00\">class = 0</text>\n</g>\n<!-- 45&#45;&gt;47 -->\n<g id=\"edge47\" class=\"edge\">\n<title>45&#45;&gt;47</title>\n<path fill=\"none\" stroke=\"black\" d=\"M1482.2,-460.91C1486.97,-452.2 1492.06,-442.9 1496.98,-433.89\"/>\n<polygon fill=\"black\" stroke=\"black\" points=\"1500.11,-435.47 1501.83,-425.02 1493.97,-432.11 1500.11,-435.47\"/>\n</g>\n<!-- 48 -->\n<g id=\"node49\" class=\"node\">\n<title>48</title>\n<polygon fill=\"#fae8db\" stroke=\"black\" points=\"1518.5,-306 1413.5,-306 1413.5,-223 1518.5,-223 1518.5,-306\"/>\n<text text-anchor=\"middle\" x=\"1466\" y=\"-290.8\" font-family=\"Times,serif\" font-size=\"14.00\">Fare &lt;= 27.135</text>\n<text text-anchor=\"middle\" x=\"1466\" y=\"-275.8\" font-family=\"Times,serif\" font-size=\"14.00\">gini = 0.495</text>\n<text text-anchor=\"middle\" x=\"1466\" y=\"-260.8\" font-family=\"Times,serif\" font-size=\"14.00\">samples = 89</text>\n<text text-anchor=\"middle\" x=\"1466\" y=\"-245.8\" font-family=\"Times,serif\" font-size=\"14.00\">value = [49, 40]</text>\n<text text-anchor=\"middle\" x=\"1466\" y=\"-230.8\" font-family=\"Times,serif\" font-size=\"14.00\">class = 0</text>\n</g>\n<!-- 47&#45;&gt;48 -->\n<g id=\"edge48\" class=\"edge\">\n<title>47&#45;&gt;48</title>\n<path fill=\"none\" stroke=\"black\" d=\"M1503.88,-341.91C1499.6,-333.29 1495.04,-324.09 1490.63,-315.17\"/>\n<polygon fill=\"black\" stroke=\"black\" points=\"1493.66,-313.43 1486.09,-306.02 1487.39,-316.53 1493.66,-313.43\"/>\n</g>\n<!-- 55 -->\n<g id=\"node56\" class=\"node\">\n<title>55</title>\n<polygon fill=\"#e9965a\" stroke=\"black\" points=\"1635,-306 1537,-306 1537,-223 1635,-223 1635,-306\"/>\n<text text-anchor=\"middle\" x=\"1586\" y=\"-290.8\" font-family=\"Times,serif\" font-size=\"14.00\">Fare &lt;= 29.85</text>\n<text text-anchor=\"middle\" x=\"1586\" y=\"-275.8\" font-family=\"Times,serif\" font-size=\"14.00\">gini = 0.245</text>\n<text text-anchor=\"middle\" x=\"1586\" y=\"-260.8\" font-family=\"Times,serif\" font-size=\"14.00\">samples = 21</text>\n<text text-anchor=\"middle\" x=\"1586\" y=\"-245.8\" font-family=\"Times,serif\" font-size=\"14.00\">value = [18, 3]</text>\n<text text-anchor=\"middle\" x=\"1586\" y=\"-230.8\" font-family=\"Times,serif\" font-size=\"14.00\">class = 0</text>\n</g>\n<!-- 47&#45;&gt;55 -->\n<g id=\"edge55\" class=\"edge\">\n<title>47&#45;&gt;55</title>\n<path fill=\"none\" stroke=\"black\" d=\"M1545.51,-341.91C1550.13,-333.2 1555.05,-323.9 1559.83,-314.89\"/>\n<polygon fill=\"black\" stroke=\"black\" points=\"1562.94,-316.5 1564.53,-306.02 1556.75,-313.22 1562.94,-316.5\"/>\n</g>\n<!-- 49 -->\n<g id=\"node50\" class=\"node\">\n<title>49</title>\n<polygon fill=\"#5dafea\" stroke=\"black\" points=\"1396,-187 1298,-187 1298,-104 1396,-104 1396,-187\"/>\n<text text-anchor=\"middle\" x=\"1347\" y=\"-171.8\" font-family=\"Times,serif\" font-size=\"14.00\">Age &lt;= 35.5</text>\n<text text-anchor=\"middle\" x=\"1347\" y=\"-156.8\" font-family=\"Times,serif\" font-size=\"14.00\">gini = 0.26</text>\n<text text-anchor=\"middle\" x=\"1347\" y=\"-141.8\" font-family=\"Times,serif\" font-size=\"14.00\">samples = 13</text>\n<text text-anchor=\"middle\" x=\"1347\" y=\"-126.8\" font-family=\"Times,serif\" font-size=\"14.00\">value = [2, 11]</text>\n<text text-anchor=\"middle\" x=\"1347\" y=\"-111.8\" font-family=\"Times,serif\" font-size=\"14.00\">class = 1</text>\n</g>\n<!-- 48&#45;&gt;49 -->\n<g id=\"edge49\" class=\"edge\">\n<title>48&#45;&gt;49</title>\n<path fill=\"none\" stroke=\"black\" d=\"M1424.71,-222.91C1415.3,-213.65 1405.21,-203.73 1395.52,-194.21\"/>\n<polygon fill=\"black\" stroke=\"black\" points=\"1397.8,-191.54 1388.21,-187.02 1392.89,-196.53 1397.8,-191.54\"/>\n</g>\n<!-- 52 -->\n<g id=\"node53\" class=\"node\">\n<title>52</title>\n<polygon fill=\"#f5cfb3\" stroke=\"black\" points=\"1519.5,-187 1414.5,-187 1414.5,-104 1519.5,-104 1519.5,-187\"/>\n<text text-anchor=\"middle\" x=\"1467\" y=\"-171.8\" font-family=\"Times,serif\" font-size=\"14.00\">Age &lt;= 27.5</text>\n<text text-anchor=\"middle\" x=\"1467\" y=\"-156.8\" font-family=\"Times,serif\" font-size=\"14.00\">gini = 0.472</text>\n<text text-anchor=\"middle\" x=\"1467\" y=\"-141.8\" font-family=\"Times,serif\" font-size=\"14.00\">samples = 76</text>\n<text text-anchor=\"middle\" x=\"1467\" y=\"-126.8\" font-family=\"Times,serif\" font-size=\"14.00\">value = [47, 29]</text>\n<text text-anchor=\"middle\" x=\"1467\" y=\"-111.8\" font-family=\"Times,serif\" font-size=\"14.00\">class = 0</text>\n</g>\n<!-- 48&#45;&gt;52 -->\n<g id=\"edge52\" class=\"edge\">\n<title>48&#45;&gt;52</title>\n<path fill=\"none\" stroke=\"black\" d=\"M1466.35,-222.91C1466.42,-214.65 1466.49,-205.86 1466.57,-197.3\"/>\n<polygon fill=\"black\" stroke=\"black\" points=\"1470.07,-197.05 1466.65,-187.02 1463.07,-196.99 1470.07,-197.05\"/>\n</g>\n<!-- 50 -->\n<g id=\"node51\" class=\"node\">\n<title>50</title>\n<polygon fill=\"#61b1ea\" stroke=\"black\" points=\"1293,-68 1201,-68 1201,0 1293,0 1293,-68\"/>\n<text text-anchor=\"middle\" x=\"1247\" y=\"-52.8\" font-family=\"Times,serif\" font-size=\"14.00\">gini = 0.278</text>\n<text text-anchor=\"middle\" x=\"1247\" y=\"-37.8\" font-family=\"Times,serif\" font-size=\"14.00\">samples = 6</text>\n<text text-anchor=\"middle\" x=\"1247\" y=\"-22.8\" font-family=\"Times,serif\" font-size=\"14.00\">value = [1, 5]</text>\n<text text-anchor=\"middle\" x=\"1247\" y=\"-7.8\" font-family=\"Times,serif\" font-size=\"14.00\">class = 1</text>\n</g>\n<!-- 49&#45;&gt;50 -->\n<g id=\"edge50\" class=\"edge\">\n<title>49&#45;&gt;50</title>\n<path fill=\"none\" stroke=\"black\" d=\"M1309.76,-103.73C1301.43,-94.61 1292.6,-84.93 1284.27,-75.81\"/>\n<polygon fill=\"black\" stroke=\"black\" points=\"1286.74,-73.32 1277.41,-68.3 1281.57,-78.04 1286.74,-73.32\"/>\n</g>\n<!-- 51 -->\n<g id=\"node52\" class=\"node\">\n<title>51</title>\n<polygon fill=\"#5aade9\" stroke=\"black\" points=\"1403,-68 1311,-68 1311,0 1403,0 1403,-68\"/>\n<text text-anchor=\"middle\" x=\"1357\" y=\"-52.8\" font-family=\"Times,serif\" font-size=\"14.00\">gini = 0.245</text>\n<text text-anchor=\"middle\" x=\"1357\" y=\"-37.8\" font-family=\"Times,serif\" font-size=\"14.00\">samples = 7</text>\n<text text-anchor=\"middle\" x=\"1357\" y=\"-22.8\" font-family=\"Times,serif\" font-size=\"14.00\">value = [1, 6]</text>\n<text text-anchor=\"middle\" x=\"1357\" y=\"-7.8\" font-family=\"Times,serif\" font-size=\"14.00\">class = 1</text>\n</g>\n<!-- 49&#45;&gt;51 -->\n<g id=\"edge51\" class=\"edge\">\n<title>49&#45;&gt;51</title>\n<path fill=\"none\" stroke=\"black\" d=\"M1350.72,-103.73C1351.48,-95.43 1352.28,-86.67 1353.05,-78.28\"/>\n<polygon fill=\"black\" stroke=\"black\" points=\"1356.53,-78.58 1353.96,-68.3 1349.56,-77.94 1356.53,-78.58\"/>\n</g>\n<!-- 53 -->\n<g id=\"node54\" class=\"node\">\n<title>53</title>\n<polygon fill=\"#e9f4fc\" stroke=\"black\" points=\"1513,-68 1421,-68 1421,0 1513,0 1513,-68\"/>\n<text text-anchor=\"middle\" x=\"1467\" y=\"-52.8\" font-family=\"Times,serif\" font-size=\"14.00\">gini = 0.498</text>\n<text text-anchor=\"middle\" x=\"1467\" y=\"-37.8\" font-family=\"Times,serif\" font-size=\"14.00\">samples = 17</text>\n<text text-anchor=\"middle\" x=\"1467\" y=\"-22.8\" font-family=\"Times,serif\" font-size=\"14.00\">value = [8, 9]</text>\n<text text-anchor=\"middle\" x=\"1467\" y=\"-7.8\" font-family=\"Times,serif\" font-size=\"14.00\">class = 1</text>\n</g>\n<!-- 52&#45;&gt;53 -->\n<g id=\"edge53\" class=\"edge\">\n<title>52&#45;&gt;53</title>\n<path fill=\"none\" stroke=\"black\" d=\"M1467,-103.73C1467,-95.52 1467,-86.86 1467,-78.56\"/>\n<polygon fill=\"black\" stroke=\"black\" points=\"1470.5,-78.3 1467,-68.3 1463.5,-78.3 1470.5,-78.3\"/>\n</g>\n<!-- 54 -->\n<g id=\"node55\" class=\"node\">\n<title>54</title>\n<polygon fill=\"#f2c29f\" stroke=\"black\" points=\"1636.5,-68 1531.5,-68 1531.5,0 1636.5,0 1636.5,-68\"/>\n<text text-anchor=\"middle\" x=\"1584\" y=\"-52.8\" font-family=\"Times,serif\" font-size=\"14.00\">gini = 0.448</text>\n<text text-anchor=\"middle\" x=\"1584\" y=\"-37.8\" font-family=\"Times,serif\" font-size=\"14.00\">samples = 59</text>\n<text text-anchor=\"middle\" x=\"1584\" y=\"-22.8\" font-family=\"Times,serif\" font-size=\"14.00\">value = [39, 20]</text>\n<text text-anchor=\"middle\" x=\"1584\" y=\"-7.8\" font-family=\"Times,serif\" font-size=\"14.00\">class = 0</text>\n</g>\n<!-- 52&#45;&gt;54 -->\n<g id=\"edge54\" class=\"edge\">\n<title>52&#45;&gt;54</title>\n<path fill=\"none\" stroke=\"black\" d=\"M1510.57,-103.73C1520.51,-94.42 1531.06,-84.54 1540.98,-75.26\"/>\n<polygon fill=\"black\" stroke=\"black\" points=\"1543.51,-77.69 1548.42,-68.3 1538.73,-72.58 1543.51,-77.69\"/>\n</g>\n<!-- 56 -->\n<g id=\"node57\" class=\"node\">\n<title>56</title>\n<polygon fill=\"#e58139\" stroke=\"black\" points=\"1630,-179.5 1538,-179.5 1538,-111.5 1630,-111.5 1630,-179.5\"/>\n<text text-anchor=\"middle\" x=\"1584\" y=\"-164.3\" font-family=\"Times,serif\" font-size=\"14.00\">gini = 0.0</text>\n<text text-anchor=\"middle\" x=\"1584\" y=\"-149.3\" font-family=\"Times,serif\" font-size=\"14.00\">samples = 6</text>\n<text text-anchor=\"middle\" x=\"1584\" y=\"-134.3\" font-family=\"Times,serif\" font-size=\"14.00\">value = [6, 0]</text>\n<text text-anchor=\"middle\" x=\"1584\" y=\"-119.3\" font-family=\"Times,serif\" font-size=\"14.00\">class = 0</text>\n</g>\n<!-- 55&#45;&gt;56 -->\n<g id=\"edge56\" class=\"edge\">\n<title>55&#45;&gt;56</title>\n<path fill=\"none\" stroke=\"black\" d=\"M1585.31,-222.91C1585.12,-212.2 1584.93,-200.62 1584.74,-189.78\"/>\n<polygon fill=\"black\" stroke=\"black\" points=\"1588.24,-189.61 1584.57,-179.67 1581.24,-189.73 1588.24,-189.61\"/>\n</g>\n<!-- 57 -->\n<g id=\"node58\" class=\"node\">\n<title>57</title>\n<polygon fill=\"#eca06a\" stroke=\"black\" points=\"1776,-187 1648,-187 1648,-104 1776,-104 1776,-187\"/>\n<text text-anchor=\"middle\" x=\"1712\" y=\"-171.8\" font-family=\"Times,serif\" font-size=\"14.00\">Embarked_S &lt;= 0.5</text>\n<text text-anchor=\"middle\" x=\"1712\" y=\"-156.8\" font-family=\"Times,serif\" font-size=\"14.00\">gini = 0.32</text>\n<text text-anchor=\"middle\" x=\"1712\" y=\"-141.8\" font-family=\"Times,serif\" font-size=\"14.00\">samples = 15</text>\n<text text-anchor=\"middle\" x=\"1712\" y=\"-126.8\" font-family=\"Times,serif\" font-size=\"14.00\">value = [12, 3]</text>\n<text text-anchor=\"middle\" x=\"1712\" y=\"-111.8\" font-family=\"Times,serif\" font-size=\"14.00\">class = 0</text>\n</g>\n<!-- 55&#45;&gt;57 -->\n<g id=\"edge57\" class=\"edge\">\n<title>55&#45;&gt;57</title>\n<path fill=\"none\" stroke=\"black\" d=\"M1629.72,-222.91C1639.78,-213.56 1650.57,-203.54 1660.92,-193.93\"/>\n<polygon fill=\"black\" stroke=\"black\" points=\"1663.42,-196.39 1668.36,-187.02 1658.65,-191.26 1663.42,-196.39\"/>\n</g>\n<!-- 58 -->\n<g id=\"node59\" class=\"node\">\n<title>58</title>\n<polygon fill=\"#efb388\" stroke=\"black\" points=\"1752,-68 1660,-68 1660,0 1752,0 1752,-68\"/>\n<text text-anchor=\"middle\" x=\"1706\" y=\"-52.8\" font-family=\"Times,serif\" font-size=\"14.00\">gini = 0.408</text>\n<text text-anchor=\"middle\" x=\"1706\" y=\"-37.8\" font-family=\"Times,serif\" font-size=\"14.00\">samples = 7</text>\n<text text-anchor=\"middle\" x=\"1706\" y=\"-22.8\" font-family=\"Times,serif\" font-size=\"14.00\">value = [5, 2]</text>\n<text text-anchor=\"middle\" x=\"1706\" y=\"-7.8\" font-family=\"Times,serif\" font-size=\"14.00\">class = 0</text>\n</g>\n<!-- 57&#45;&gt;58 -->\n<g id=\"edge58\" class=\"edge\">\n<title>57&#45;&gt;58</title>\n<path fill=\"none\" stroke=\"black\" d=\"M1709.77,-103.73C1709.32,-95.52 1708.84,-86.86 1708.39,-78.56\"/>\n<polygon fill=\"black\" stroke=\"black\" points=\"1711.87,-78.09 1707.82,-68.3 1704.88,-78.48 1711.87,-78.09\"/>\n</g>\n<!-- 59 -->\n<g id=\"node60\" class=\"node\">\n<title>59</title>\n<polygon fill=\"#e99355\" stroke=\"black\" points=\"1862,-68 1770,-68 1770,0 1862,0 1862,-68\"/>\n<text text-anchor=\"middle\" x=\"1816\" y=\"-52.8\" font-family=\"Times,serif\" font-size=\"14.00\">gini = 0.219</text>\n<text text-anchor=\"middle\" x=\"1816\" y=\"-37.8\" font-family=\"Times,serif\" font-size=\"14.00\">samples = 8</text>\n<text text-anchor=\"middle\" x=\"1816\" y=\"-22.8\" font-family=\"Times,serif\" font-size=\"14.00\">value = [7, 1]</text>\n<text text-anchor=\"middle\" x=\"1816\" y=\"-7.8\" font-family=\"Times,serif\" font-size=\"14.00\">class = 0</text>\n</g>\n<!-- 57&#45;&gt;59 -->\n<g id=\"edge59\" class=\"edge\">\n<title>57&#45;&gt;59</title>\n<path fill=\"none\" stroke=\"black\" d=\"M1750.73,-103.73C1759.39,-94.61 1768.58,-84.93 1777.24,-75.81\"/>\n<polygon fill=\"black\" stroke=\"black\" points=\"1780.02,-77.96 1784.37,-68.3 1774.95,-73.14 1780.02,-77.96\"/>\n</g>\n<!-- 61 -->\n<g id=\"node62\" class=\"node\">\n<title>61</title>\n<polygon fill=\"#e89051\" stroke=\"black\" points=\"2063,-425 1951,-425 1951,-342 2063,-342 2063,-425\"/>\n<text text-anchor=\"middle\" x=\"2007\" y=\"-409.8\" font-family=\"Times,serif\" font-size=\"14.00\">Age &lt;= 13.0</text>\n<text text-anchor=\"middle\" x=\"2007\" y=\"-394.8\" font-family=\"Times,serif\" font-size=\"14.00\">gini = 0.193</text>\n<text text-anchor=\"middle\" x=\"2007\" y=\"-379.8\" font-family=\"Times,serif\" font-size=\"14.00\">samples = 417</text>\n<text text-anchor=\"middle\" x=\"2007\" y=\"-364.8\" font-family=\"Times,serif\" font-size=\"14.00\">value = [372, 45]</text>\n<text text-anchor=\"middle\" x=\"2007\" y=\"-349.8\" font-family=\"Times,serif\" font-size=\"14.00\">class = 0</text>\n</g>\n<!-- 60&#45;&gt;61 -->\n<g id=\"edge61\" class=\"edge\">\n<title>60&#45;&gt;61</title>\n<path fill=\"none\" stroke=\"black\" d=\"M2007,-460.91C2007,-452.65 2007,-443.86 2007,-435.3\"/>\n<polygon fill=\"black\" stroke=\"black\" points=\"2010.5,-435.02 2007,-425.02 2003.5,-435.02 2010.5,-435.02\"/>\n</g>\n<!-- 72 -->\n<g id=\"node73\" class=\"node\">\n<title>72</title>\n<polygon fill=\"#f1ba93\" stroke=\"black\" points=\"2241,-425 2139,-425 2139,-342 2241,-342 2241,-425\"/>\n<text text-anchor=\"middle\" x=\"2190\" y=\"-409.8\" font-family=\"Times,serif\" font-size=\"14.00\">Fare &lt;= 63.023</text>\n<text text-anchor=\"middle\" x=\"2190\" y=\"-394.8\" font-family=\"Times,serif\" font-size=\"14.00\">gini = 0.43</text>\n<text text-anchor=\"middle\" x=\"2190\" y=\"-379.8\" font-family=\"Times,serif\" font-size=\"14.00\">samples = 16</text>\n<text text-anchor=\"middle\" x=\"2190\" y=\"-364.8\" font-family=\"Times,serif\" font-size=\"14.00\">value = [11, 5]</text>\n<text text-anchor=\"middle\" x=\"2190\" y=\"-349.8\" font-family=\"Times,serif\" font-size=\"14.00\">class = 0</text>\n</g>\n<!-- 60&#45;&gt;72 -->\n<g id=\"edge72\" class=\"edge\">\n<title>60&#45;&gt;72</title>\n<path fill=\"none\" stroke=\"black\" d=\"M2063.4,-465.44C2084.54,-451.93 2108.62,-436.53 2130.07,-422.82\"/>\n<polygon fill=\"black\" stroke=\"black\" points=\"2132.22,-425.59 2138.76,-417.26 2128.45,-419.69 2132.22,-425.59\"/>\n</g>\n<!-- 62 -->\n<g id=\"node63\" class=\"node\">\n<title>62</title>\n<polygon fill=\"#f2c09c\" stroke=\"black\" points=\"1996,-306 1904,-306 1904,-223 1996,-223 1996,-306\"/>\n<text text-anchor=\"middle\" x=\"1950\" y=\"-290.8\" font-family=\"Times,serif\" font-size=\"14.00\">SibSp &lt;= 3.5</text>\n<text text-anchor=\"middle\" x=\"1950\" y=\"-275.8\" font-family=\"Times,serif\" font-size=\"14.00\">gini = 0.444</text>\n<text text-anchor=\"middle\" x=\"1950\" y=\"-260.8\" font-family=\"Times,serif\" font-size=\"14.00\">samples = 12</text>\n<text text-anchor=\"middle\" x=\"1950\" y=\"-245.8\" font-family=\"Times,serif\" font-size=\"14.00\">value = [8, 4]</text>\n<text text-anchor=\"middle\" x=\"1950\" y=\"-230.8\" font-family=\"Times,serif\" font-size=\"14.00\">class = 0</text>\n</g>\n<!-- 61&#45;&gt;62 -->\n<g id=\"edge62\" class=\"edge\">\n<title>61&#45;&gt;62</title>\n<path fill=\"none\" stroke=\"black\" d=\"M1987.22,-341.91C1983.02,-333.29 1978.54,-324.09 1974.2,-315.17\"/>\n<polygon fill=\"black\" stroke=\"black\" points=\"1977.27,-313.48 1969.74,-306.02 1970.97,-316.54 1977.27,-313.48\"/>\n</g>\n<!-- 65 -->\n<g id=\"node66\" class=\"node\">\n<title>65</title>\n<polygon fill=\"#e88f4f\" stroke=\"black\" points=\"2126,-306 2014,-306 2014,-223 2126,-223 2126,-306\"/>\n<text text-anchor=\"middle\" x=\"2070\" y=\"-290.8\" font-family=\"Times,serif\" font-size=\"14.00\">Age &lt;= 32.25</text>\n<text text-anchor=\"middle\" x=\"2070\" y=\"-275.8\" font-family=\"Times,serif\" font-size=\"14.00\">gini = 0.182</text>\n<text text-anchor=\"middle\" x=\"2070\" y=\"-260.8\" font-family=\"Times,serif\" font-size=\"14.00\">samples = 405</text>\n<text text-anchor=\"middle\" x=\"2070\" y=\"-245.8\" font-family=\"Times,serif\" font-size=\"14.00\">value = [364, 41]</text>\n<text text-anchor=\"middle\" x=\"2070\" y=\"-230.8\" font-family=\"Times,serif\" font-size=\"14.00\">class = 0</text>\n</g>\n<!-- 61&#45;&gt;65 -->\n<g id=\"edge65\" class=\"edge\">\n<title>61&#45;&gt;65</title>\n<path fill=\"none\" stroke=\"black\" d=\"M2028.86,-341.91C2033.55,-333.2 2038.56,-323.9 2043.4,-314.89\"/>\n<polygon fill=\"black\" stroke=\"black\" points=\"2046.52,-316.48 2048.18,-306.02 2040.36,-313.17 2046.52,-316.48\"/>\n</g>\n<!-- 63 -->\n<g id=\"node64\" class=\"node\">\n<title>63</title>\n<polygon fill=\"#9ccef2\" stroke=\"black\" points=\"1886,-179.5 1794,-179.5 1794,-111.5 1886,-111.5 1886,-179.5\"/>\n<text text-anchor=\"middle\" x=\"1840\" y=\"-164.3\" font-family=\"Times,serif\" font-size=\"14.00\">gini = 0.444</text>\n<text text-anchor=\"middle\" x=\"1840\" y=\"-149.3\" font-family=\"Times,serif\" font-size=\"14.00\">samples = 6</text>\n<text text-anchor=\"middle\" x=\"1840\" y=\"-134.3\" font-family=\"Times,serif\" font-size=\"14.00\">value = [2, 4]</text>\n<text text-anchor=\"middle\" x=\"1840\" y=\"-119.3\" font-family=\"Times,serif\" font-size=\"14.00\">class = 1</text>\n</g>\n<!-- 62&#45;&gt;63 -->\n<g id=\"edge63\" class=\"edge\">\n<title>62&#45;&gt;63</title>\n<path fill=\"none\" stroke=\"black\" d=\"M1911.84,-222.91C1900.94,-211.32 1889.07,-198.7 1878.18,-187.11\"/>\n<polygon fill=\"black\" stroke=\"black\" points=\"1880.58,-184.56 1871.18,-179.67 1875.48,-189.35 1880.58,-184.56\"/>\n</g>\n<!-- 64 -->\n<g id=\"node65\" class=\"node\">\n<title>64</title>\n<polygon fill=\"#e58139\" stroke=\"black\" points=\"1996,-179.5 1904,-179.5 1904,-111.5 1996,-111.5 1996,-179.5\"/>\n<text text-anchor=\"middle\" x=\"1950\" y=\"-164.3\" font-family=\"Times,serif\" font-size=\"14.00\">gini = 0.0</text>\n<text text-anchor=\"middle\" x=\"1950\" y=\"-149.3\" font-family=\"Times,serif\" font-size=\"14.00\">samples = 6</text>\n<text text-anchor=\"middle\" x=\"1950\" y=\"-134.3\" font-family=\"Times,serif\" font-size=\"14.00\">value = [6, 0]</text>\n<text text-anchor=\"middle\" x=\"1950\" y=\"-119.3\" font-family=\"Times,serif\" font-size=\"14.00\">class = 0</text>\n</g>\n<!-- 62&#45;&gt;64 -->\n<g id=\"edge64\" class=\"edge\">\n<title>62&#45;&gt;64</title>\n<path fill=\"none\" stroke=\"black\" d=\"M1950,-222.91C1950,-212.2 1950,-200.62 1950,-189.78\"/>\n<polygon fill=\"black\" stroke=\"black\" points=\"1953.5,-189.67 1950,-179.67 1946.5,-189.67 1953.5,-189.67\"/>\n</g>\n<!-- 66 -->\n<g id=\"node67\" class=\"node\">\n<title>66</title>\n<polygon fill=\"#e89253\" stroke=\"black\" points=\"2126,-187 2014,-187 2014,-104 2126,-104 2126,-187\"/>\n<text text-anchor=\"middle\" x=\"2070\" y=\"-171.8\" font-family=\"Times,serif\" font-size=\"14.00\">Age &lt;= 30.75</text>\n<text text-anchor=\"middle\" x=\"2070\" y=\"-156.8\" font-family=\"Times,serif\" font-size=\"14.00\">gini = 0.206</text>\n<text text-anchor=\"middle\" x=\"2070\" y=\"-141.8\" font-family=\"Times,serif\" font-size=\"14.00\">samples = 300</text>\n<text text-anchor=\"middle\" x=\"2070\" y=\"-126.8\" font-family=\"Times,serif\" font-size=\"14.00\">value = [265, 35]</text>\n<text text-anchor=\"middle\" x=\"2070\" y=\"-111.8\" font-family=\"Times,serif\" font-size=\"14.00\">class = 0</text>\n</g>\n<!-- 65&#45;&gt;66 -->\n<g id=\"edge66\" class=\"edge\">\n<title>65&#45;&gt;66</title>\n<path fill=\"none\" stroke=\"black\" d=\"M2070,-222.91C2070,-214.65 2070,-205.86 2070,-197.3\"/>\n<polygon fill=\"black\" stroke=\"black\" points=\"2073.5,-197.02 2070,-187.02 2066.5,-197.02 2073.5,-197.02\"/>\n</g>\n<!-- 69 -->\n<g id=\"node70\" class=\"node\">\n<title>69</title>\n<polygon fill=\"#e78945\" stroke=\"black\" points=\"2242,-187 2144,-187 2144,-104 2242,-104 2242,-187\"/>\n<text text-anchor=\"middle\" x=\"2193\" y=\"-171.8\" font-family=\"Times,serif\" font-size=\"14.00\">Fare &lt;= 7.91</text>\n<text text-anchor=\"middle\" x=\"2193\" y=\"-156.8\" font-family=\"Times,serif\" font-size=\"14.00\">gini = 0.108</text>\n<text text-anchor=\"middle\" x=\"2193\" y=\"-141.8\" font-family=\"Times,serif\" font-size=\"14.00\">samples = 105</text>\n<text text-anchor=\"middle\" x=\"2193\" y=\"-126.8\" font-family=\"Times,serif\" font-size=\"14.00\">value = [99, 6]</text>\n<text text-anchor=\"middle\" x=\"2193\" y=\"-111.8\" font-family=\"Times,serif\" font-size=\"14.00\">class = 0</text>\n</g>\n<!-- 65&#45;&gt;69 -->\n<g id=\"edge69\" class=\"edge\">\n<title>65&#45;&gt;69</title>\n<path fill=\"none\" stroke=\"black\" d=\"M2112.67,-222.91C2122.5,-213.56 2133.04,-203.54 2143.14,-193.93\"/>\n<polygon fill=\"black\" stroke=\"black\" points=\"2145.57,-196.45 2150.4,-187.02 2140.74,-191.38 2145.57,-196.45\"/>\n</g>\n<!-- 67 -->\n<g id=\"node68\" class=\"node\">\n<title>67</title>\n<polygon fill=\"#e88f50\" stroke=\"black\" points=\"2005,-68 1893,-68 1893,0 2005,0 2005,-68\"/>\n<text text-anchor=\"middle\" x=\"1949\" y=\"-52.8\" font-family=\"Times,serif\" font-size=\"14.00\">gini = 0.185</text>\n<text text-anchor=\"middle\" x=\"1949\" y=\"-37.8\" font-family=\"Times,serif\" font-size=\"14.00\">samples = 282</text>\n<text text-anchor=\"middle\" x=\"1949\" y=\"-22.8\" font-family=\"Times,serif\" font-size=\"14.00\">value = [253, 29]</text>\n<text text-anchor=\"middle\" x=\"1949\" y=\"-7.8\" font-family=\"Times,serif\" font-size=\"14.00\">class = 0</text>\n</g>\n<!-- 66&#45;&gt;67 -->\n<g id=\"edge67\" class=\"edge\">\n<title>66&#45;&gt;67</title>\n<path fill=\"none\" stroke=\"black\" d=\"M2024.94,-103.73C2014.66,-94.42 2003.75,-84.54 1993.49,-75.26\"/>\n<polygon fill=\"black\" stroke=\"black\" points=\"1995.56,-72.41 1985.8,-68.3 1990.86,-77.6 1995.56,-72.41\"/>\n</g>\n<!-- 68 -->\n<g id=\"node69\" class=\"node\">\n<title>68</title>\n<polygon fill=\"#f2c09c\" stroke=\"black\" points=\"2121,-68 2023,-68 2023,0 2121,0 2121,-68\"/>\n<text text-anchor=\"middle\" x=\"2072\" y=\"-52.8\" font-family=\"Times,serif\" font-size=\"14.00\">gini = 0.444</text>\n<text text-anchor=\"middle\" x=\"2072\" y=\"-37.8\" font-family=\"Times,serif\" font-size=\"14.00\">samples = 18</text>\n<text text-anchor=\"middle\" x=\"2072\" y=\"-22.8\" font-family=\"Times,serif\" font-size=\"14.00\">value = [12, 6]</text>\n<text text-anchor=\"middle\" x=\"2072\" y=\"-7.8\" font-family=\"Times,serif\" font-size=\"14.00\">class = 0</text>\n</g>\n<!-- 66&#45;&gt;68 -->\n<g id=\"edge68\" class=\"edge\">\n<title>66&#45;&gt;68</title>\n<path fill=\"none\" stroke=\"black\" d=\"M2070.74,-103.73C2070.89,-95.52 2071.05,-86.86 2071.2,-78.56\"/>\n<polygon fill=\"black\" stroke=\"black\" points=\"2074.71,-78.36 2071.39,-68.3 2067.71,-78.23 2074.71,-78.36\"/>\n</g>\n<!-- 70 -->\n<g id=\"node71\" class=\"node\">\n<title>70</title>\n<polygon fill=\"#e58139\" stroke=\"black\" points=\"2240,-68 2142,-68 2142,0 2240,0 2240,-68\"/>\n<text text-anchor=\"middle\" x=\"2191\" y=\"-52.8\" font-family=\"Times,serif\" font-size=\"14.00\">gini = 0.0</text>\n<text text-anchor=\"middle\" x=\"2191\" y=\"-37.8\" font-family=\"Times,serif\" font-size=\"14.00\">samples = 32</text>\n<text text-anchor=\"middle\" x=\"2191\" y=\"-22.8\" font-family=\"Times,serif\" font-size=\"14.00\">value = [32, 0]</text>\n<text text-anchor=\"middle\" x=\"2191\" y=\"-7.8\" font-family=\"Times,serif\" font-size=\"14.00\">class = 0</text>\n</g>\n<!-- 69&#45;&gt;70 -->\n<g id=\"edge70\" class=\"edge\">\n<title>69&#45;&gt;70</title>\n<path fill=\"none\" stroke=\"black\" d=\"M2192.26,-103.73C2192.11,-95.52 2191.95,-86.86 2191.8,-78.56\"/>\n<polygon fill=\"black\" stroke=\"black\" points=\"2195.29,-78.23 2191.61,-68.3 2188.29,-78.36 2195.29,-78.23\"/>\n</g>\n<!-- 71 -->\n<g id=\"node72\" class=\"node\">\n<title>71</title>\n<polygon fill=\"#e78c4b\" stroke=\"black\" points=\"2356,-68 2258,-68 2258,0 2356,0 2356,-68\"/>\n<text text-anchor=\"middle\" x=\"2307\" y=\"-52.8\" font-family=\"Times,serif\" font-size=\"14.00\">gini = 0.151</text>\n<text text-anchor=\"middle\" x=\"2307\" y=\"-37.8\" font-family=\"Times,serif\" font-size=\"14.00\">samples = 73</text>\n<text text-anchor=\"middle\" x=\"2307\" y=\"-22.8\" font-family=\"Times,serif\" font-size=\"14.00\">value = [67, 6]</text>\n<text text-anchor=\"middle\" x=\"2307\" y=\"-7.8\" font-family=\"Times,serif\" font-size=\"14.00\">class = 0</text>\n</g>\n<!-- 69&#45;&gt;71 -->\n<g id=\"edge71\" class=\"edge\">\n<title>69&#45;&gt;71</title>\n<path fill=\"none\" stroke=\"black\" d=\"M2235.45,-103.73C2245.13,-94.42 2255.42,-84.54 2265.08,-75.26\"/>\n<polygon fill=\"black\" stroke=\"black\" points=\"2267.54,-77.75 2272.33,-68.3 2262.7,-72.7 2267.54,-77.75\"/>\n</g>\n<!-- 73 -->\n<g id=\"node74\" class=\"node\">\n<title>73</title>\n<polygon fill=\"#88c4ef\" stroke=\"black\" points=\"2236,-298.5 2144,-298.5 2144,-230.5 2236,-230.5 2236,-298.5\"/>\n<text text-anchor=\"middle\" x=\"2190\" y=\"-283.3\" font-family=\"Times,serif\" font-size=\"14.00\">gini = 0.408</text>\n<text text-anchor=\"middle\" x=\"2190\" y=\"-268.3\" font-family=\"Times,serif\" font-size=\"14.00\">samples = 7</text>\n<text text-anchor=\"middle\" x=\"2190\" y=\"-253.3\" font-family=\"Times,serif\" font-size=\"14.00\">value = [2, 5]</text>\n<text text-anchor=\"middle\" x=\"2190\" y=\"-238.3\" font-family=\"Times,serif\" font-size=\"14.00\">class = 1</text>\n</g>\n<!-- 72&#45;&gt;73 -->\n<g id=\"edge73\" class=\"edge\">\n<title>72&#45;&gt;73</title>\n<path fill=\"none\" stroke=\"black\" d=\"M2190,-341.91C2190,-331.2 2190,-319.62 2190,-308.78\"/>\n<polygon fill=\"black\" stroke=\"black\" points=\"2193.5,-308.67 2190,-298.67 2186.5,-308.67 2193.5,-308.67\"/>\n</g>\n<!-- 74 -->\n<g id=\"node75\" class=\"node\">\n<title>74</title>\n<polygon fill=\"#e58139\" stroke=\"black\" points=\"2346,-298.5 2254,-298.5 2254,-230.5 2346,-230.5 2346,-298.5\"/>\n<text text-anchor=\"middle\" x=\"2300\" y=\"-283.3\" font-family=\"Times,serif\" font-size=\"14.00\">gini = 0.0</text>\n<text text-anchor=\"middle\" x=\"2300\" y=\"-268.3\" font-family=\"Times,serif\" font-size=\"14.00\">samples = 9</text>\n<text text-anchor=\"middle\" x=\"2300\" y=\"-253.3\" font-family=\"Times,serif\" font-size=\"14.00\">value = [9, 0]</text>\n<text text-anchor=\"middle\" x=\"2300\" y=\"-238.3\" font-family=\"Times,serif\" font-size=\"14.00\">class = 0</text>\n</g>\n<!-- 72&#45;&gt;74 -->\n<g id=\"edge74\" class=\"edge\">\n<title>72&#45;&gt;74</title>\n<path fill=\"none\" stroke=\"black\" d=\"M2228.16,-341.91C2239.06,-330.32 2250.93,-317.7 2261.82,-306.11\"/>\n<polygon fill=\"black\" stroke=\"black\" points=\"2264.52,-308.35 2268.82,-298.67 2259.42,-303.56 2264.52,-308.35\"/>\n</g>\n</g>\n</svg>\n",
      "text/plain": [
       "<graphviz.sources.Source at 0x7fedfef2d430>"
      ]
     },
     "execution_count": 29,
     "metadata": {},
     "output_type": "execute_result"
    }
   ],
   "source": [
    "dot_graph = visualize_tree(best_model, X_train_encoded, \"searched_tree.dot\")\n",
    "\n",
    "graphviz.Source(dot_graph)"
   ]
  },
  {
   "cell_type": "code",
   "execution_count": 39,
   "metadata": {},
   "outputs": [
    {
     "data": {
      "text/html": [
       "<div>\n",
       "<style scoped>\n",
       "    .dataframe tbody tr th:only-of-type {\n",
       "        vertical-align: middle;\n",
       "    }\n",
       "\n",
       "    .dataframe tbody tr th {\n",
       "        vertical-align: top;\n",
       "    }\n",
       "\n",
       "    .dataframe thead th {\n",
       "        text-align: right;\n",
       "    }\n",
       "</style>\n",
       "<table border=\"1\" class=\"dataframe\">\n",
       "  <thead>\n",
       "    <tr style=\"text-align: right;\">\n",
       "      <th></th>\n",
       "      <th>PassengerId</th>\n",
       "      <th>Survived</th>\n",
       "    </tr>\n",
       "  </thead>\n",
       "  <tbody>\n",
       "    <tr>\n",
       "      <th>0</th>\n",
       "      <td>892</td>\n",
       "      <td>0</td>\n",
       "    </tr>\n",
       "    <tr>\n",
       "      <th>1</th>\n",
       "      <td>893</td>\n",
       "      <td>0</td>\n",
       "    </tr>\n",
       "    <tr>\n",
       "      <th>2</th>\n",
       "      <td>894</td>\n",
       "      <td>0</td>\n",
       "    </tr>\n",
       "    <tr>\n",
       "      <th>3</th>\n",
       "      <td>895</td>\n",
       "      <td>0</td>\n",
       "    </tr>\n",
       "    <tr>\n",
       "      <th>4</th>\n",
       "      <td>896</td>\n",
       "      <td>1</td>\n",
       "    </tr>\n",
       "    <tr>\n",
       "      <th>...</th>\n",
       "      <td>...</td>\n",
       "      <td>...</td>\n",
       "    </tr>\n",
       "    <tr>\n",
       "      <th>413</th>\n",
       "      <td>1305</td>\n",
       "      <td>0</td>\n",
       "    </tr>\n",
       "    <tr>\n",
       "      <th>414</th>\n",
       "      <td>1306</td>\n",
       "      <td>1</td>\n",
       "    </tr>\n",
       "    <tr>\n",
       "      <th>415</th>\n",
       "      <td>1307</td>\n",
       "      <td>0</td>\n",
       "    </tr>\n",
       "    <tr>\n",
       "      <th>416</th>\n",
       "      <td>1308</td>\n",
       "      <td>0</td>\n",
       "    </tr>\n",
       "    <tr>\n",
       "      <th>417</th>\n",
       "      <td>1309</td>\n",
       "      <td>0</td>\n",
       "    </tr>\n",
       "  </tbody>\n",
       "</table>\n",
       "<p>418 rows × 2 columns</p>\n",
       "</div>"
      ],
      "text/plain": [
       "     PassengerId  Survived\n",
       "0            892         0\n",
       "1            893         0\n",
       "2            894         0\n",
       "3            895         0\n",
       "4            896         1\n",
       "..           ...       ...\n",
       "413         1305         0\n",
       "414         1306         1\n",
       "415         1307         0\n",
       "416         1308         0\n",
       "417         1309         0\n",
       "\n",
       "[418 rows x 2 columns]"
      ]
     },
     "execution_count": 39,
     "metadata": {},
     "output_type": "execute_result"
    }
   ],
   "source": [
    "grid_pred_dt = best_model.predict(X_test_encoded)\n",
    "make_prediction_file(grid_pred_dt, X_test_encoded, 'titanic_dt_gridcv.csv')"
   ]
  },
  {
   "cell_type": "markdown",
   "metadata": {},
   "source": [
    "## Random Forest"
   ]
  },
  {
   "cell_type": "code",
   "execution_count": 31,
   "metadata": {},
   "outputs": [],
   "source": [
    "from sklearn.ensemble import RandomForestClassifier"
   ]
  },
  {
   "cell_type": "code",
   "execution_count": 33,
   "metadata": {},
   "outputs": [],
   "source": [
    "clf_rf = RandomForestClassifier()\n",
    "gridSearchCv_clf_rf = GridSearchCV(clf_rf, param_grid={'n_estimators' : [2, 5, 10, 20], 'max_depth' : [3, 5, 7, 9]}, cv=5)"
   ]
  },
  {
   "cell_type": "code",
   "execution_count": 35,
   "metadata": {},
   "outputs": [
    {
     "data": {
      "text/plain": [
       "{'max_depth': 7, 'n_estimators': 10}"
      ]
     },
     "execution_count": 35,
     "metadata": {},
     "output_type": "execute_result"
    }
   ],
   "source": [
    "gridSearchCv_clf_rf.fit(X_train_encoded, y_train)\n",
    "gridSearchCv_clf_rf.best_params_"
   ]
  },
  {
   "cell_type": "code",
   "execution_count": 47,
   "metadata": {},
   "outputs": [
    {
     "data": {
      "text/plain": [
       "array([0.12625491, 0.14113151, 0.01665598, 0.01983758, 0.17771373,\n",
       "       0.07845769, 0.41065414, 0.00866355, 0.02063091])"
      ]
     },
     "execution_count": 47,
     "metadata": {},
     "output_type": "execute_result"
    }
   ],
   "source": [
    "best_clf_rf = gridSearchCv_clf_rf.best_estimator_\n",
    "best_clf_rf.predict(X_test_encoded)\n",
    "best_clf_rf.feature_importances_"
   ]
  },
  {
   "cell_type": "code",
   "execution_count": 48,
   "metadata": {},
   "outputs": [
    {
     "data": {
      "text/html": [
       "<div>\n",
       "<style scoped>\n",
       "    .dataframe tbody tr th:only-of-type {\n",
       "        vertical-align: middle;\n",
       "    }\n",
       "\n",
       "    .dataframe tbody tr th {\n",
       "        vertical-align: top;\n",
       "    }\n",
       "\n",
       "    .dataframe thead th {\n",
       "        text-align: right;\n",
       "    }\n",
       "</style>\n",
       "<table border=\"1\" class=\"dataframe\">\n",
       "  <thead>\n",
       "    <tr style=\"text-align: right;\">\n",
       "      <th></th>\n",
       "      <th>PassengerId</th>\n",
       "      <th>Survived</th>\n",
       "    </tr>\n",
       "  </thead>\n",
       "  <tbody>\n",
       "    <tr>\n",
       "      <th>0</th>\n",
       "      <td>892</td>\n",
       "      <td>0</td>\n",
       "    </tr>\n",
       "    <tr>\n",
       "      <th>1</th>\n",
       "      <td>893</td>\n",
       "      <td>0</td>\n",
       "    </tr>\n",
       "    <tr>\n",
       "      <th>2</th>\n",
       "      <td>894</td>\n",
       "      <td>0</td>\n",
       "    </tr>\n",
       "    <tr>\n",
       "      <th>3</th>\n",
       "      <td>895</td>\n",
       "      <td>0</td>\n",
       "    </tr>\n",
       "    <tr>\n",
       "      <th>4</th>\n",
       "      <td>896</td>\n",
       "      <td>1</td>\n",
       "    </tr>\n",
       "    <tr>\n",
       "      <th>...</th>\n",
       "      <td>...</td>\n",
       "      <td>...</td>\n",
       "    </tr>\n",
       "    <tr>\n",
       "      <th>413</th>\n",
       "      <td>1305</td>\n",
       "      <td>0</td>\n",
       "    </tr>\n",
       "    <tr>\n",
       "      <th>414</th>\n",
       "      <td>1306</td>\n",
       "      <td>1</td>\n",
       "    </tr>\n",
       "    <tr>\n",
       "      <th>415</th>\n",
       "      <td>1307</td>\n",
       "      <td>0</td>\n",
       "    </tr>\n",
       "    <tr>\n",
       "      <th>416</th>\n",
       "      <td>1308</td>\n",
       "      <td>0</td>\n",
       "    </tr>\n",
       "    <tr>\n",
       "      <th>417</th>\n",
       "      <td>1309</td>\n",
       "      <td>0</td>\n",
       "    </tr>\n",
       "  </tbody>\n",
       "</table>\n",
       "<p>418 rows × 2 columns</p>\n",
       "</div>"
      ],
      "text/plain": [
       "     PassengerId  Survived\n",
       "0            892         0\n",
       "1            893         0\n",
       "2            894         0\n",
       "3            895         0\n",
       "4            896         1\n",
       "..           ...       ...\n",
       "413         1305         0\n",
       "414         1306         1\n",
       "415         1307         0\n",
       "416         1308         0\n",
       "417         1309         0\n",
       "\n",
       "[418 rows x 2 columns]"
      ]
     },
     "execution_count": 48,
     "metadata": {},
     "output_type": "execute_result"
    }
   ],
   "source": [
    "grid_pred_rf = best_model.predict(X_test_encoded)\n",
    "make_prediction_file(grid_pred_rf, X_test_encoded, 'titanic_rf_gridcv.csv')"
   ]
  }
 ],
 "metadata": {
  "interpreter": {
   "hash": "aee8b7b246df8f9039afb4144a1f6fd8d2ca17a180786b69acc140d282b71a49"
  },
  "kernelspec": {
   "display_name": "Python 3.8.5 64-bit",
   "language": "python",
   "name": "python3"
  },
  "language_info": {
   "codemirror_mode": {
    "name": "ipython",
    "version": 3
   },
   "file_extension": ".py",
   "mimetype": "text/x-python",
   "name": "python",
   "nbconvert_exporter": "python",
   "pygments_lexer": "ipython3",
   "version": "3.8.5"
  },
  "orig_nbformat": 4
 },
 "nbformat": 4,
 "nbformat_minor": 2
}
