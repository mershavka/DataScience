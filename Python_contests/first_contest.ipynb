{
 "cells": [
  {
   "cell_type": "markdown",
   "metadata": {},
   "source": [
    "Напишите программу, которая выводит nn первых элементов последовательности 1 \\, 2 \\,2 \\,3 \\,3 \\,3 \\,4 \\,4 \\,4\\, 4\\, 5\\, 5\\, 5\\, 5\\, 5 … (число повторяется столько раз, чему оно равно).\n",
    "\n",
    "Формат входных данных\n",
    "На вход программе подается положительное целое число n \\, len(n≤200000).\n",
    "\n",
    "Формат выходных данных\n",
    "Программа должна вывести указанную последовательность чисел, разделённых пробелом"
   ]
  },
  {
   "cell_type": "code",
   "execution_count": 28,
   "metadata": {},
   "outputs": [],
   "source": [
    "testcode = '''\n",
    "def func():\n",
    "    result = []\n",
    "    n = 100\n",
    "    for v in range(1,200001):\n",
    "        result += [v]*v\n",
    "        if int(len(result)) >= n:\n",
    "            result = result[:n:]\n",
    "            break\n",
    "    print(*result)'''"
   ]
  },
  {
   "cell_type": "code",
   "execution_count": 32,
   "metadata": {},
   "outputs": [
    {
     "name": "stdout",
     "output_type": "stream",
     "text": [
      "5.789000169897918e-06\n"
     ]
    }
   ],
   "source": [
    "import timeit\n",
    "print(timeit.timeit(stmt=testcode, number=100))"
   ]
  },
  {
   "cell_type": "code",
   "execution_count": 21,
   "metadata": {},
   "outputs": [
    {
     "name": "stdout",
     "output_type": "stream",
     "text": [
      "1 2 2 3 3 3 4 4 4 4 5 5 5 5 5 6 6 6 6 6 6 7 7 7 7 7 7 7 8 8 8 8 8 8 8 8 9 9 9 9 9 9 9 9 9 10 10 10 10 10 10 10 10 10 10 11 11 11 11 11 11 11 11 11 11 11 12 12 12 12 12 12 12 12 12 12 12 12 13 13 13 13 13 13 13 13 13 13 13 13 13 14 14 14 14 14 14 14 14 14\n"
     ]
    }
   ],
   "source": [
    "n = 100\n",
    "a = []\n",
    "i = 0\n",
    "while len(a) < n:\n",
    "    a += [i] * i\n",
    "    i += 1\n",
    "res = a[:n]\n",
    "print(*res)"
   ]
  },
  {
   "cell_type": "markdown",
   "metadata": {},
   "source": [
    "Реализуйте функцию beegeek(), которая принимает два целочисленных аргумента a и b, где a≤b, и возвращает строку, составленную из чисел от a до b включительно или слов Bee, Geek и BeeGeek по следующему правилу:\n",
    "\n",
    "- если число делится без остатка на 3, то вместо него в строку добавляется слово Bee;\n",
    "- если число делится без остатка на 7, то вместо него в строку добавляется слово Geek;\n",
    "- если число делится без остатка и на 3, и на 7, то вместо него в строку добавляется слово BeeGeek;\n",
    "- в остальных случаях в строку добавляется само число."
   ]
  },
  {
   "cell_type": "code",
   "execution_count": 12,
   "metadata": {},
   "outputs": [],
   "source": [
    "def beegeek(a: int, b:int):\n",
    "    result = []\n",
    "    for i in range(a, b+1):\n",
    "        if i % 3 == 0 or i % 7 == 0:\n",
    "            mid=\"\"\n",
    "            if i % 3 == 0:\n",
    "                mid+=(\"Bee\")\n",
    "            if i % 7 == 0:\n",
    "                mid+=(\"Geek\")\n",
    "            result.append(mid)\n",
    "        else:\n",
    "            result.append(str(i))\n",
    "    return \" \".join(result)"
   ]
  },
  {
   "cell_type": "markdown",
   "metadata": {},
   "source": [
    "## Формат входных данных\n",
    "На вход программе подаются две строки – исходная и измененная, в которой добавлен один лишний символ. Длины строк не превышают 45000 символов.\n",
    "\n",
    "## Формат выходных данных\n",
    "Программа должна найти лишний символ во второй строке и вывести его."
   ]
  },
  {
   "cell_type": "code",
   "execution_count": 61,
   "metadata": {},
   "outputs": [],
   "source": [
    "fs = \"09,^カ😈ー😎\"\n",
    "ss = \"09,😈^カー😎😈\""
   ]
  },
  {
   "cell_type": "code",
   "execution_count": 55,
   "metadata": {},
   "outputs": [
    {
     "name": "stdout",
     "output_type": "stream",
     "text": [
      "😈\n"
     ]
    }
   ],
   "source": [
    "fs, ss = input(), input()\n",
    "for i in ss:\n",
    "    if fs.count(i) != ss.count(i):\n",
    "        print(i)\n",
    "        break"
   ]
  },
  {
   "cell_type": "code",
   "execution_count": 62,
   "metadata": {},
   "outputs": [
    {
     "name": "stdout",
     "output_type": "stream",
     "text": [
      "😈\n"
     ]
    }
   ],
   "source": [
    "from collections import Counter\n",
    "a, b = Counter(input()), Counter(input())\n",
    "print(*list(b - a))"
   ]
  },
  {
   "cell_type": "markdown",
   "metadata": {},
   "source": [
    "NRZI код (Non Return to Zero Invertive) — один из способов линейного кодирования. Суть этого кодирования в том, что имея некоторое устройство, имеющее всего два состояния, мы строим диаграмму его состояний на каждом такте, и если состояние изменилось, то это расценивается как двоичная единица, если же состояние осталось неизменным, то записывается двоичный ноль.\n",
    "\n",
    "Формат входных данных\n",
    "На вход программе подается строка, содержащая NRZI код, составленный из символов _, ‾ и |. Длина строки не превышает 8500085000 символов.\n",
    "\n",
    "Формат выходных данных\n",
    "Программа должна преобразовать введенный NRZI код в двоичный код и вывести полученный результат.\n",
    "\n",
    "Примечание 1. Обозначения:\n",
    "\n",
    "_ – первое состояние устройства;\n",
    "‾ – второе состояние устройства;\n",
    "| – переключение устройства в другое состояние."
   ]
  },
  {
   "cell_type": "code",
   "execution_count": 98,
   "metadata": {},
   "outputs": [],
   "source": [
    "signal=\"_|¯|____|¯|__|¯¯¯_|¯|____|¯|__|¯¯¯_|¯|____|¯|__|¯¯¯_|¯|____|¯|__|¯¯¯_|¯|____|¯|__|¯¯¯_|¯|____|¯|__|¯¯¯\""
   ]
  },
  {
   "cell_type": "code",
   "execution_count": 93,
   "metadata": {},
   "outputs": [
    {
     "name": "stdout",
     "output_type": "stream",
     "text": [
      "11001\n"
     ]
    }
   ],
   "source": [
    "switch = False\n",
    "result=\"\"\n",
    "for s in signal:\n",
    "    if s == \"|\":\n",
    "        switch = True\n",
    "    else:\n",
    "        result+=str(int(switch))\n",
    "        switch = False\n",
    "    \n",
    "print(result)\n"
   ]
  },
  {
   "cell_type": "code",
   "execution_count": 96,
   "metadata": {},
   "outputs": [
    {
     "data": {
      "text/plain": [
       "'11001'"
      ]
     },
     "execution_count": 96,
     "metadata": {},
     "output_type": "execute_result"
    }
   ],
   "source": [
    "signal.replace(\"¯\", \"_\").replace(\"|_\", \"1\").replace(\"_\", \"0\")"
   ]
  },
  {
   "cell_type": "code",
   "execution_count": 110,
   "metadata": {},
   "outputs": [],
   "source": [
    "testcode = '''\n",
    "def func():\n",
    "    signal=\"_|¯|____|¯|__|¯¯¯_|¯|____|¯|__|¯¯¯_|¯|____|¯|__|¯¯¯_|¯|____|¯|__|¯¯¯_|¯|____|¯|__|¯¯¯_|¯|____|¯|__|¯¯¯\"\n",
    "    return signal.replace(\"¯\", \"_\").replace(\"|_\", \"1\").replace(\"_\", \"0\")\n",
    "'''"
   ]
  },
  {
   "cell_type": "code",
   "execution_count": 108,
   "metadata": {},
   "outputs": [],
   "source": [
    "testcode = '''\n",
    "def func():\n",
    "    signal=\"_|¯|____|¯|__|¯¯¯_|¯|____|¯|__|¯¯¯_|¯|____|¯|__|¯¯¯_|¯|____|¯|__|¯¯¯_|¯|____|¯|__|¯¯¯_|¯|____|¯|__|¯¯¯\"\n",
    "    switch = False\n",
    "    result=\"\"\n",
    "    for s in signal:\n",
    "        if s == \"|\":\n",
    "            switch = True\n",
    "        else:\n",
    "            result+=str(int(switch))\n",
    "            switch = False\n",
    "    return result\n",
    "'''"
   ]
  },
  {
   "cell_type": "code",
   "execution_count": 111,
   "metadata": {},
   "outputs": [
    {
     "name": "stdout",
     "output_type": "stream",
     "text": [
      "0.0013173000006645452\n"
     ]
    }
   ],
   "source": [
    "import timeit\n",
    "print(timeit.timeit(stmt=testcode, number=10000))"
   ]
  },
  {
   "cell_type": "code",
   "execution_count": 242,
   "metadata": {},
   "outputs": [
    {
     "name": "stdout",
     "output_type": "stream",
     "text": [
      "akju fguy\n"
     ]
    },
    {
     "ename": "TypeError",
     "evalue": "len() takes exactly one argument (3 given)",
     "output_type": "error",
     "traceback": [
      "\u001b[0;31m---------------------------------------------------------------------------\u001b[0m",
      "\u001b[0;31mTypeError\u001b[0m                                 Traceback (most recent call last)",
      "\u001b[0;32m<ipython-input-242-b029bd2a21d1>\u001b[0m in \u001b[0;36m<module>\u001b[0;34m\u001b[0m\n\u001b[1;32m      8\u001b[0m \u001b[0;32mif\u001b[0m \u001b[0mleft_half\u001b[0m \u001b[0;34m==\u001b[0m \u001b[0mright_half_reversed\u001b[0m\u001b[0;34m:\u001b[0m\u001b[0;34m\u001b[0m\u001b[0;34m\u001b[0m\u001b[0m\n\u001b[1;32m      9\u001b[0m     \u001b[0mprint\u001b[0m\u001b[0;34m(\u001b[0m\u001b[0;32mTrue\u001b[0m\u001b[0;34m)\u001b[0m\u001b[0;34m\u001b[0m\u001b[0;34m\u001b[0m\u001b[0m\n\u001b[0;32m---> 10\u001b[0;31m \u001b[0;32melif\u001b[0m \u001b[0mlen\u001b[0m\u001b[0;34m(\u001b[0m\u001b[0;34m*\u001b[0m\u001b[0mlist\u001b[0m\u001b[0;34m(\u001b[0m\u001b[0;34m(\u001b[0m\u001b[0ma\u001b[0m\u001b[0;34m-\u001b[0m\u001b[0mb\u001b[0m\u001b[0;34m)\u001b[0m\u001b[0;34m)\u001b[0m\u001b[0;34m)\u001b[0m \u001b[0;34m==\u001b[0m \u001b[0;36m1\u001b[0m\u001b[0;34m:\u001b[0m\u001b[0;34m\u001b[0m\u001b[0;34m\u001b[0m\u001b[0m\n\u001b[0m\u001b[1;32m     11\u001b[0m     \u001b[0mnew_str\u001b[0m \u001b[0;34m=\u001b[0m \u001b[0mleft_half\u001b[0m\u001b[0;34m.\u001b[0m\u001b[0mreplace\u001b[0m\u001b[0;34m(\u001b[0m\u001b[0;34m*\u001b[0m\u001b[0mlist\u001b[0m\u001b[0;34m(\u001b[0m\u001b[0ma\u001b[0m\u001b[0;34m-\u001b[0m\u001b[0mb\u001b[0m\u001b[0;34m)\u001b[0m\u001b[0;34m,\u001b[0m\u001b[0;34m\"\"\u001b[0m\u001b[0;34m)\u001b[0m\u001b[0;34m+\u001b[0m\u001b[0mright_half_reversed\u001b[0m\u001b[0;34m.\u001b[0m\u001b[0mreplace\u001b[0m\u001b[0;34m(\u001b[0m\u001b[0;34m*\u001b[0m\u001b[0mlist\u001b[0m\u001b[0;34m(\u001b[0m\u001b[0ma\u001b[0m\u001b[0;34m-\u001b[0m\u001b[0mb\u001b[0m\u001b[0;34m)\u001b[0m\u001b[0;34m,\u001b[0m\u001b[0;34m\"\"\u001b[0m\u001b[0;34m)\u001b[0m\u001b[0;34m[\u001b[0m\u001b[0;34m:\u001b[0m\u001b[0;34m:\u001b[0m\u001b[0;34m-\u001b[0m\u001b[0;36m1\u001b[0m\u001b[0;34m]\u001b[0m\u001b[0;34m\u001b[0m\u001b[0;34m\u001b[0m\u001b[0m\n\u001b[1;32m     12\u001b[0m     \u001b[0;32mif\u001b[0m \u001b[0mnew_str\u001b[0m\u001b[0;34m[\u001b[0m\u001b[0;34m:\u001b[0m\u001b[0mint\u001b[0m\u001b[0;34m(\u001b[0m\u001b[0mlen\u001b[0m\u001b[0;34m(\u001b[0m\u001b[0mnew_str\u001b[0m\u001b[0;34m)\u001b[0m\u001b[0;34m/\u001b[0m\u001b[0;36m2\u001b[0m\u001b[0;34m)\u001b[0m\u001b[0;34m]\u001b[0m \u001b[0;34m==\u001b[0m \u001b[0mnew_str\u001b[0m\u001b[0;34m[\u001b[0m\u001b[0;34m:\u001b[0m\u001b[0;34m-\u001b[0m\u001b[0mint\u001b[0m\u001b[0;34m(\u001b[0m\u001b[0mlen\u001b[0m\u001b[0;34m(\u001b[0m\u001b[0mnew_str\u001b[0m\u001b[0;34m)\u001b[0m\u001b[0;34m/\u001b[0m\u001b[0;36m2\u001b[0m\u001b[0;34m)\u001b[0m\u001b[0;34m-\u001b[0m\u001b[0;36m1\u001b[0m\u001b[0;34m:\u001b[0m \u001b[0;34m-\u001b[0m\u001b[0;36m1\u001b[0m\u001b[0;34m]\u001b[0m\u001b[0;34m:\u001b[0m\u001b[0;34m\u001b[0m\u001b[0;34m\u001b[0m\u001b[0m\n",
      "\u001b[0;31mTypeError\u001b[0m: len() takes exactly one argument (3 given)"
     ]
    }
   ],
   "source": [
    "import re\n",
    "example = \"akjuyugf\"\n",
    "cleaned_string = re.sub(\"[^A-Z,a-z]\", \"\", example)\n",
    "left_half = cleaned_string[:int(len(cleaned_string)/2)]\n",
    "right_half_reversed = cleaned_string[:-int(len(cleaned_string)/2)-1: -1]\n",
    "print(left_half, right_half_reversed)\n",
    "a, b = Counter(left_half), Counter(right_half_reversed)\n",
    "if left_half == right_half_reversed:\n",
    "    print(True)\n",
    "elif len(*list((a-b))) == 1:\n",
    "    new_str = left_half.replace(*list(a-b),\"\")+right_half_reversed.replace(*list(a-b),\"\")[::-1]\n",
    "    if new_str[:int(len(new_str)/2)] == new_str[:-int(len(new_str)/2)-1: -1]:\n",
    "        print(True)\n",
    "else:\n",
    "    print(False)"
   ]
  },
  {
   "cell_type": "code",
   "execution_count": 265,
   "metadata": {},
   "outputs": [
    {
     "name": "stdout",
     "output_type": "stream",
     "text": [
      "ilgrlik\n",
      "klgrlik\n",
      "kigrlik\n",
      "kilrlik\n",
      "True\n"
     ]
    }
   ],
   "source": [
    "example = \"1kilg%rli8k\"\n",
    "cleaned_string = re.sub(r\"[\\W_^\\d]\", '', example) \n",
    "result = False\n",
    "left_half = cleaned_string[:int(len(cleaned_string)/2)]\n",
    "right_half_reversed = cleaned_string[:-int(len(cleaned_string)/2)-1: -1]\n",
    "if left_half == right_half_reversed:\n",
    "    result = True\n",
    "else:\n",
    "    for i in range(len(example)):\n",
    "        reduced_str = cleaned_string[:i] + cleaned_string[(i+1):]\n",
    "        print(reduced_str)\n",
    "        left_half = reduced_str[:int(len(reduced_str)/2)]\n",
    "        right_half_reversed = reduced_str[:-int(len(reduced_str)/2)-1: -1]\n",
    "        if left_half == right_half_reversed:\n",
    "            result = True\n",
    "            break\n",
    "\n",
    "print(result)\n",
    "    "
   ]
  },
  {
   "cell_type": "code",
   "execution_count": 25,
   "metadata": {},
   "outputs": [],
   "source": [
    "def benchmark(func):\n",
    "    import time\n",
    "\n",
    "    def wrapper():\n",
    "        start = time.time()\n",
    "        func()\n",
    "        end = time.time()\n",
    "        print('[*] Время выполнения: {} секунд.'.format(end-start))\n",
    "    return wrapper"
   ]
  }
 ],
 "metadata": {
  "kernelspec": {
   "display_name": "Python 3.8.5 64-bit",
   "language": "python",
   "name": "python3"
  },
  "language_info": {
   "codemirror_mode": {
    "name": "ipython",
    "version": 3
   },
   "file_extension": ".py",
   "mimetype": "text/x-python",
   "name": "python",
   "nbconvert_exporter": "python",
   "pygments_lexer": "ipython3",
   "version": "3.8.5 (v3.8.5:580fbb018f, Jul 20 2020, 12:11:27) \n[Clang 6.0 (clang-600.0.57)]"
  },
  "orig_nbformat": 4,
  "vscode": {
   "interpreter": {
    "hash": "aee8b7b246df8f9039afb4144a1f6fd8d2ca17a180786b69acc140d282b71a49"
   }
  }
 },
 "nbformat": 4,
 "nbformat_minor": 2
}
