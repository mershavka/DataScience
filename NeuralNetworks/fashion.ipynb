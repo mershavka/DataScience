{
 "cells": [
  {
   "cell_type": "code",
   "execution_count": 45,
   "metadata": {},
   "outputs": [],
   "source": [
    "def load_mnist(path, kind='train'):\n",
    "    import os\n",
    "    import gzip\n",
    "    import numpy as np\n",
    "\n",
    "    \"\"\"Load MNIST data from `path`\"\"\"\n",
    "    labels_path = os.path.join(path,\n",
    "                               '%s-labels-idx1-ubyte.gz'\n",
    "                               % kind)\n",
    "    images_path = os.path.join(path,\n",
    "                               '%s-images-idx3-ubyte.gz'\n",
    "                               % kind)\n",
    "\n",
    "    with gzip.open(labels_path, 'rb') as lbpath:\n",
    "        labels = np.frombuffer(lbpath.read(), dtype=np.uint8,\n",
    "                               offset=8)\n",
    "\n",
    "    with gzip.open(images_path, 'rb') as imgpath:\n",
    "        images = np.frombuffer(imgpath.read(), dtype=np.uint8,\n",
    "                               offset=16).reshape(len(labels), 784)\n",
    "\n",
    "    return images, labels"
   ]
  },
  {
   "cell_type": "code",
   "execution_count": 46,
   "metadata": {},
   "outputs": [],
   "source": [
    "import numpy as np"
   ]
  },
  {
   "cell_type": "code",
   "execution_count": 47,
   "metadata": {},
   "outputs": [],
   "source": [
    "import tensorflow as tf\n",
    "from tensorflow.keras.models import Sequential\n",
    "from tensorflow.keras.layers import Dense\n",
    "from tensorflow.keras import utils"
   ]
  },
  {
   "cell_type": "markdown",
   "metadata": {},
   "source": [
    "Подготовка данных"
   ]
  },
  {
   "cell_type": "code",
   "execution_count": 48,
   "metadata": {},
   "outputs": [],
   "source": [
    "X_train, y_train = load_mnist('data', kind='train')\n",
    "X_test, y_test = load_mnist('data', kind='t10k')"
   ]
  },
  {
   "cell_type": "code",
   "execution_count": null,
   "metadata": {},
   "outputs": [],
   "source": [
    "import matplotlib.pyplot as plt\n",
    "plt.imshow(X_train[0])"
   ]
  },
  {
   "cell_type": "code",
   "execution_count": 49,
   "metadata": {},
   "outputs": [],
   "source": [
    "X_train = X_train / 255\n",
    "X_test = X_test / 255\n",
    "y_train = utils.to_categorical(y_train, 10)\n",
    "y_test = utils.to_categorical(y_test, 10)\n",
    "classes = ['T-shirt/top','Trouser','Pullover','Dress','Coat','Sandal','Shirt','Sneaker','Bag','Ankle boot']"
   ]
  },
  {
   "cell_type": "markdown",
   "metadata": {},
   "source": [
    "Описание нейросетки"
   ]
  },
  {
   "cell_type": "code",
   "execution_count": 57,
   "metadata": {},
   "outputs": [],
   "source": [
    "fashion_model = Sequential()\n",
    "fashion_model.add(Dense(800, input_dim = 784, activation='relu'))\n",
    "fashion_model.add(Dense(10, activation='softmax'))"
   ]
  },
  {
   "cell_type": "code",
   "execution_count": 58,
   "metadata": {},
   "outputs": [
    {
     "name": "stdout",
     "output_type": "stream",
     "text": [
      "Model: \"sequential_4\"\n",
      "_________________________________________________________________\n",
      " Layer (type)                Output Shape              Param #   \n",
      "=================================================================\n",
      " dense_6 (Dense)             (None, 800)               628000    \n",
      "                                                                 \n",
      " dense_7 (Dense)             (None, 10)                8010      \n",
      "                                                                 \n",
      "=================================================================\n",
      "Total params: 636,010\n",
      "Trainable params: 636,010\n",
      "Non-trainable params: 0\n",
      "_________________________________________________________________\n"
     ]
    }
   ],
   "source": [
    "fashion_model.compile(loss='categorical_crossentropy', optimizer=\"SGD\", metrics=['accuracy'])\n",
    "fashion_model.summary()"
   ]
  },
  {
   "cell_type": "code",
   "execution_count": 59,
   "metadata": {},
   "outputs": [
    {
     "name": "stdout",
     "output_type": "stream",
     "text": [
      "Epoch 1/125\n",
      "300/300 [==============================] - 3s 7ms/step - loss: 1.1344 - accuracy: 0.6722\n",
      "Epoch 2/125\n",
      "300/300 [==============================] - 2s 6ms/step - loss: 0.7167 - accuracy: 0.7764\n",
      "Epoch 3/125\n",
      "300/300 [==============================] - 2s 6ms/step - loss: 0.6276 - accuracy: 0.8010\n",
      "Epoch 4/125\n",
      "300/300 [==============================] - 2s 6ms/step - loss: 0.5799 - accuracy: 0.8135\n",
      "Epoch 5/125\n",
      "300/300 [==============================] - 2s 6ms/step - loss: 0.5494 - accuracy: 0.8217\n",
      "Epoch 6/125\n",
      "300/300 [==============================] - 2s 6ms/step - loss: 0.5274 - accuracy: 0.8267\n",
      "Epoch 7/125\n",
      "300/300 [==============================] - 2s 7ms/step - loss: 0.5107 - accuracy: 0.8311\n",
      "Epoch 8/125\n",
      "300/300 [==============================] - 3s 9ms/step - loss: 0.4969 - accuracy: 0.8354\n",
      "Epoch 9/125\n",
      "300/300 [==============================] - 3s 9ms/step - loss: 0.4858 - accuracy: 0.8382\n",
      "Epoch 10/125\n",
      "300/300 [==============================] - 2s 7ms/step - loss: 0.4763 - accuracy: 0.8407\n",
      "Epoch 11/125\n",
      "300/300 [==============================] - 3s 9ms/step - loss: 0.4685 - accuracy: 0.8423\n",
      "Epoch 12/125\n",
      "300/300 [==============================] - 2s 8ms/step - loss: 0.4610 - accuracy: 0.8445\n",
      "Epoch 13/125\n",
      "300/300 [==============================] - 3s 9ms/step - loss: 0.4541 - accuracy: 0.8471\n",
      "Epoch 14/125\n",
      "300/300 [==============================] - 2s 8ms/step - loss: 0.4483 - accuracy: 0.8483\n",
      "Epoch 15/125\n",
      "300/300 [==============================] - 3s 10ms/step - loss: 0.4430 - accuracy: 0.8503\n",
      "Epoch 16/125\n",
      "300/300 [==============================] - 3s 10ms/step - loss: 0.4381 - accuracy: 0.8507\n",
      "Epoch 17/125\n",
      "300/300 [==============================] - 3s 9ms/step - loss: 0.4338 - accuracy: 0.8521\n",
      "Epoch 18/125\n",
      "300/300 [==============================] - 3s 10ms/step - loss: 0.4295 - accuracy: 0.8536\n",
      "Epoch 19/125\n",
      "300/300 [==============================] - 3s 11ms/step - loss: 0.4255 - accuracy: 0.8551\n",
      "Epoch 20/125\n",
      "300/300 [==============================] - 3s 9ms/step - loss: 0.4216 - accuracy: 0.8566\n",
      "Epoch 21/125\n",
      "300/300 [==============================] - 3s 11ms/step - loss: 0.4185 - accuracy: 0.8575\n",
      "Epoch 22/125\n",
      "300/300 [==============================] - 3s 11ms/step - loss: 0.4150 - accuracy: 0.8588\n",
      "Epoch 23/125\n",
      "300/300 [==============================] - 4s 12ms/step - loss: 0.4119 - accuracy: 0.8593\n",
      "Epoch 24/125\n",
      "300/300 [==============================] - 3s 9ms/step - loss: 0.4088 - accuracy: 0.8605\n",
      "Epoch 25/125\n",
      "300/300 [==============================] - 3s 10ms/step - loss: 0.4061 - accuracy: 0.8608\n",
      "Epoch 26/125\n",
      "300/300 [==============================] - 3s 10ms/step - loss: 0.4035 - accuracy: 0.8619\n",
      "Epoch 27/125\n",
      "300/300 [==============================] - 4s 12ms/step - loss: 0.4007 - accuracy: 0.8629\n",
      "Epoch 28/125\n",
      "300/300 [==============================] - 3s 12ms/step - loss: 0.3980 - accuracy: 0.8637\n",
      "Epoch 29/125\n",
      "300/300 [==============================] - 4s 12ms/step - loss: 0.3956 - accuracy: 0.8644\n",
      "Epoch 30/125\n",
      "300/300 [==============================] - 4s 12ms/step - loss: 0.3936 - accuracy: 0.8648\n",
      "Epoch 31/125\n",
      "300/300 [==============================] - 4s 13ms/step - loss: 0.3907 - accuracy: 0.8667\n",
      "Epoch 32/125\n",
      "300/300 [==============================] - 4s 13ms/step - loss: 0.3888 - accuracy: 0.8671\n",
      "Epoch 33/125\n",
      "300/300 [==============================] - 3s 10ms/step - loss: 0.3866 - accuracy: 0.8676\n",
      "Epoch 34/125\n",
      "300/300 [==============================] - 3s 10ms/step - loss: 0.3848 - accuracy: 0.8681\n",
      "Epoch 35/125\n",
      "300/300 [==============================] - 3s 12ms/step - loss: 0.3826 - accuracy: 0.8688\n",
      "Epoch 36/125\n",
      "300/300 [==============================] - 4s 12ms/step - loss: 0.3809 - accuracy: 0.8692\n",
      "Epoch 37/125\n",
      "300/300 [==============================] - 3s 11ms/step - loss: 0.3787 - accuracy: 0.8712\n",
      "Epoch 38/125\n",
      "300/300 [==============================] - 4s 12ms/step - loss: 0.3768 - accuracy: 0.8709\n",
      "Epoch 39/125\n",
      "300/300 [==============================] - 4s 13ms/step - loss: 0.3748 - accuracy: 0.8717\n",
      "Epoch 40/125\n",
      "300/300 [==============================] - 4s 13ms/step - loss: 0.3734 - accuracy: 0.8718\n",
      "Epoch 41/125\n",
      "300/300 [==============================] - 4s 12ms/step - loss: 0.3717 - accuracy: 0.8731\n",
      "Epoch 42/125\n",
      "300/300 [==============================] - 5s 15ms/step - loss: 0.3701 - accuracy: 0.8729\n",
      "Epoch 43/125\n",
      "300/300 [==============================] - 4s 14ms/step - loss: 0.3684 - accuracy: 0.8734\n",
      "Epoch 44/125\n",
      "300/300 [==============================] - 3s 10ms/step - loss: 0.3667 - accuracy: 0.8746\n",
      "Epoch 45/125\n",
      "300/300 [==============================] - 3s 10ms/step - loss: 0.3651 - accuracy: 0.8742\n",
      "Epoch 46/125\n",
      "300/300 [==============================] - 3s 12ms/step - loss: 0.3634 - accuracy: 0.8746\n",
      "Epoch 47/125\n",
      "300/300 [==============================] - 3s 11ms/step - loss: 0.3619 - accuracy: 0.8756\n",
      "Epoch 48/125\n",
      "300/300 [==============================] - 3s 9ms/step - loss: 0.3607 - accuracy: 0.8752\n",
      "Epoch 49/125\n",
      "300/300 [==============================] - 3s 9ms/step - loss: 0.3591 - accuracy: 0.8766\n",
      "Epoch 50/125\n",
      "300/300 [==============================] - 3s 10ms/step - loss: 0.3573 - accuracy: 0.8774\n",
      "Epoch 51/125\n",
      "300/300 [==============================] - 3s 9ms/step - loss: 0.3562 - accuracy: 0.8773\n",
      "Epoch 52/125\n",
      "300/300 [==============================] - 3s 9ms/step - loss: 0.3550 - accuracy: 0.8772\n",
      "Epoch 53/125\n",
      "300/300 [==============================] - 3s 9ms/step - loss: 0.3535 - accuracy: 0.8781\n",
      "Epoch 54/125\n",
      "300/300 [==============================] - 3s 9ms/step - loss: 0.3521 - accuracy: 0.8778\n",
      "Epoch 55/125\n",
      "300/300 [==============================] - 3s 11ms/step - loss: 0.3510 - accuracy: 0.8785\n",
      "Epoch 56/125\n",
      "300/300 [==============================] - 4s 13ms/step - loss: 0.3497 - accuracy: 0.8793\n",
      "Epoch 57/125\n",
      "300/300 [==============================] - 3s 10ms/step - loss: 0.3482 - accuracy: 0.8791\n",
      "Epoch 58/125\n",
      "300/300 [==============================] - 3s 10ms/step - loss: 0.3471 - accuracy: 0.8797\n",
      "Epoch 59/125\n",
      "300/300 [==============================] - 4s 13ms/step - loss: 0.3456 - accuracy: 0.8805\n",
      "Epoch 60/125\n",
      "300/300 [==============================] - 4s 12ms/step - loss: 0.3447 - accuracy: 0.8806\n",
      "Epoch 61/125\n",
      "300/300 [==============================] - 3s 9ms/step - loss: 0.3433 - accuracy: 0.8813\n",
      "Epoch 62/125\n",
      "300/300 [==============================] - 3s 10ms/step - loss: 0.3424 - accuracy: 0.8816\n",
      "Epoch 63/125\n",
      "300/300 [==============================] - 3s 9ms/step - loss: 0.3408 - accuracy: 0.8821\n",
      "Epoch 64/125\n",
      "300/300 [==============================] - 3s 10ms/step - loss: 0.3399 - accuracy: 0.8825\n",
      "Epoch 65/125\n",
      "300/300 [==============================] - 3s 9ms/step - loss: 0.3386 - accuracy: 0.8831\n",
      "Epoch 66/125\n",
      "300/300 [==============================] - 3s 9ms/step - loss: 0.3375 - accuracy: 0.8824\n",
      "Epoch 67/125\n",
      "300/300 [==============================] - 3s 9ms/step - loss: 0.3363 - accuracy: 0.8838\n",
      "Epoch 68/125\n",
      "300/300 [==============================] - 4s 12ms/step - loss: 0.3353 - accuracy: 0.8838\n",
      "Epoch 69/125\n",
      "300/300 [==============================] - 3s 12ms/step - loss: 0.3340 - accuracy: 0.8842\n",
      "Epoch 70/125\n",
      "300/300 [==============================] - 4s 12ms/step - loss: 0.3327 - accuracy: 0.8841\n",
      "Epoch 71/125\n",
      "300/300 [==============================] - 3s 11ms/step - loss: 0.3320 - accuracy: 0.8843\n",
      "Epoch 72/125\n",
      "300/300 [==============================] - 3s 12ms/step - loss: 0.3310 - accuracy: 0.8858\n",
      "Epoch 73/125\n",
      "300/300 [==============================] - 4s 13ms/step - loss: 0.3301 - accuracy: 0.8846\n",
      "Epoch 74/125\n",
      "300/300 [==============================] - 4s 14ms/step - loss: 0.3288 - accuracy: 0.8865\n",
      "Epoch 75/125\n",
      "300/300 [==============================] - 4s 12ms/step - loss: 0.3281 - accuracy: 0.8857\n",
      "Epoch 76/125\n",
      "300/300 [==============================] - 3s 10ms/step - loss: 0.3268 - accuracy: 0.8862\n",
      "Epoch 77/125\n",
      "300/300 [==============================] - 3s 11ms/step - loss: 0.3258 - accuracy: 0.8867\n",
      "Epoch 78/125\n",
      "300/300 [==============================] - 3s 11ms/step - loss: 0.3249 - accuracy: 0.8867\n",
      "Epoch 79/125\n",
      "300/300 [==============================] - 5s 15ms/step - loss: 0.3236 - accuracy: 0.8874\n",
      "Epoch 80/125\n",
      "300/300 [==============================] - 3s 11ms/step - loss: 0.3229 - accuracy: 0.8873\n",
      "Epoch 81/125\n",
      "300/300 [==============================] - 3s 10ms/step - loss: 0.3220 - accuracy: 0.8883\n",
      "Epoch 82/125\n",
      "300/300 [==============================] - 3s 9ms/step - loss: 0.3211 - accuracy: 0.8879\n",
      "Epoch 83/125\n",
      "300/300 [==============================] - 3s 10ms/step - loss: 0.3196 - accuracy: 0.8889\n",
      "Epoch 84/125\n",
      "300/300 [==============================] - 3s 8ms/step - loss: 0.3191 - accuracy: 0.8891\n",
      "Epoch 85/125\n",
      "300/300 [==============================] - 3s 8ms/step - loss: 0.3179 - accuracy: 0.8884\n",
      "Epoch 86/125\n",
      "300/300 [==============================] - 3s 11ms/step - loss: 0.3168 - accuracy: 0.8898\n",
      "Epoch 87/125\n",
      "300/300 [==============================] - 3s 10ms/step - loss: 0.3162 - accuracy: 0.8903\n",
      "Epoch 88/125\n",
      "300/300 [==============================] - 3s 9ms/step - loss: 0.3157 - accuracy: 0.8900\n",
      "Epoch 89/125\n",
      "300/300 [==============================] - 3s 9ms/step - loss: 0.3148 - accuracy: 0.8907\n",
      "Epoch 90/125\n",
      "300/300 [==============================] - 3s 9ms/step - loss: 0.3137 - accuracy: 0.8914\n",
      "Epoch 91/125\n",
      "300/300 [==============================] - 3s 9ms/step - loss: 0.3127 - accuracy: 0.8915\n",
      "Epoch 92/125\n",
      "300/300 [==============================] - 2s 8ms/step - loss: 0.3120 - accuracy: 0.8916\n",
      "Epoch 93/125\n",
      "300/300 [==============================] - 3s 9ms/step - loss: 0.3114 - accuracy: 0.8918\n",
      "Epoch 94/125\n",
      "300/300 [==============================] - 2s 8ms/step - loss: 0.3099 - accuracy: 0.8911\n",
      "Epoch 95/125\n",
      "300/300 [==============================] - 3s 9ms/step - loss: 0.3094 - accuracy: 0.8923\n",
      "Epoch 96/125\n",
      "300/300 [==============================] - 3s 10ms/step - loss: 0.3085 - accuracy: 0.8924\n",
      "Epoch 97/125\n",
      "300/300 [==============================] - 3s 12ms/step - loss: 0.3078 - accuracy: 0.8931\n",
      "Epoch 98/125\n",
      "300/300 [==============================] - 3s 9ms/step - loss: 0.3067 - accuracy: 0.8936\n",
      "Epoch 99/125\n",
      "300/300 [==============================] - 3s 9ms/step - loss: 0.3062 - accuracy: 0.8932\n",
      "Epoch 100/125\n",
      "300/300 [==============================] - 3s 10ms/step - loss: 0.3052 - accuracy: 0.8941\n",
      "Epoch 101/125\n",
      "300/300 [==============================] - 3s 9ms/step - loss: 0.3044 - accuracy: 0.8940\n",
      "Epoch 102/125\n",
      "300/300 [==============================] - 3s 9ms/step - loss: 0.3034 - accuracy: 0.8935\n",
      "Epoch 103/125\n",
      "300/300 [==============================] - 3s 9ms/step - loss: 0.3028 - accuracy: 0.8943\n",
      "Epoch 104/125\n",
      "300/300 [==============================] - 3s 9ms/step - loss: 0.3023 - accuracy: 0.8949\n",
      "Epoch 105/125\n",
      "300/300 [==============================] - 3s 9ms/step - loss: 0.3014 - accuracy: 0.8947\n",
      "Epoch 106/125\n",
      "300/300 [==============================] - 3s 10ms/step - loss: 0.3005 - accuracy: 0.8949\n",
      "Epoch 107/125\n",
      "300/300 [==============================] - 3s 9ms/step - loss: 0.2996 - accuracy: 0.8952\n",
      "Epoch 108/125\n",
      "300/300 [==============================] - 3s 9ms/step - loss: 0.2989 - accuracy: 0.8952\n",
      "Epoch 109/125\n",
      "300/300 [==============================] - 3s 10ms/step - loss: 0.2983 - accuracy: 0.8949\n",
      "Epoch 110/125\n",
      "300/300 [==============================] - 3s 9ms/step - loss: 0.2975 - accuracy: 0.8964\n",
      "Epoch 111/125\n",
      "300/300 [==============================] - 2s 8ms/step - loss: 0.2968 - accuracy: 0.8969\n",
      "Epoch 112/125\n",
      "300/300 [==============================] - 3s 8ms/step - loss: 0.2955 - accuracy: 0.8971\n",
      "Epoch 113/125\n",
      "300/300 [==============================] - 3s 9ms/step - loss: 0.2954 - accuracy: 0.8973\n",
      "Epoch 114/125\n",
      "300/300 [==============================] - 3s 9ms/step - loss: 0.2944 - accuracy: 0.8974\n",
      "Epoch 115/125\n",
      "300/300 [==============================] - 3s 10ms/step - loss: 0.2939 - accuracy: 0.8971\n",
      "Epoch 116/125\n",
      "300/300 [==============================] - 2s 8ms/step - loss: 0.2930 - accuracy: 0.8980\n",
      "Epoch 117/125\n",
      "300/300 [==============================] - 3s 10ms/step - loss: 0.2923 - accuracy: 0.8976\n",
      "Epoch 118/125\n",
      "300/300 [==============================] - 3s 9ms/step - loss: 0.2915 - accuracy: 0.8983\n",
      "Epoch 119/125\n",
      "300/300 [==============================] - 3s 10ms/step - loss: 0.2907 - accuracy: 0.8993\n",
      "Epoch 120/125\n",
      "300/300 [==============================] - 3s 11ms/step - loss: 0.2901 - accuracy: 0.8987\n",
      "Epoch 121/125\n",
      "300/300 [==============================] - 3s 10ms/step - loss: 0.2893 - accuracy: 0.8992\n",
      "Epoch 122/125\n",
      "300/300 [==============================] - 3s 11ms/step - loss: 0.2887 - accuracy: 0.8996\n",
      "Epoch 123/125\n",
      "300/300 [==============================] - 3s 10ms/step - loss: 0.2878 - accuracy: 0.8999\n",
      "Epoch 124/125\n",
      "300/300 [==============================] - 3s 10ms/step - loss: 0.2870 - accuracy: 0.8996\n",
      "Epoch 125/125\n",
      "300/300 [==============================] - 3s 9ms/step - loss: 0.2867 - accuracy: 0.8999\n"
     ]
    },
    {
     "data": {
      "text/plain": [
       "<keras.callbacks.History at 0x7fa5e2b46bb0>"
      ]
     },
     "execution_count": 59,
     "metadata": {},
     "output_type": "execute_result"
    }
   ],
   "source": [
    "fashion_model.fit(X_train, y_train, batch_size=200, epochs=125 ,verbose=1)"
   ]
  },
  {
   "cell_type": "code",
   "execution_count": 35,
   "metadata": {},
   "outputs": [
    {
     "name": "stdout",
     "output_type": "stream",
     "text": [
      "1875/1875 [==============================] - 3s 2ms/step\n"
     ]
    }
   ],
   "source": [
    "prediction_train = fashion_model.predict(X_train)"
   ]
  },
  {
   "cell_type": "code",
   "execution_count": 38,
   "metadata": {},
   "outputs": [
    {
     "data": {
      "text/plain": [
       "4"
      ]
     },
     "execution_count": 38,
     "metadata": {},
     "output_type": "execute_result"
    }
   ],
   "source": [
    "np.argmax(prediction_train[779])"
   ]
  },
  {
   "cell_type": "code",
   "execution_count": 39,
   "metadata": {},
   "outputs": [
    {
     "data": {
      "text/plain": [
       "6"
      ]
     },
     "execution_count": 39,
     "metadata": {},
     "output_type": "execute_result"
    }
   ],
   "source": [
    "np.argmax(y_train[779])"
   ]
  },
  {
   "cell_type": "code",
   "execution_count": 43,
   "metadata": {},
   "outputs": [
    {
     "name": "stdout",
     "output_type": "stream",
     "text": [
      "313/313 [==============================] - 1s 2ms/step - loss: 0.4999 - accuracy: 0.8289\n"
     ]
    },
    {
     "data": {
      "text/plain": [
       "[0.4999021887779236, 0.8288999795913696]"
      ]
     },
     "execution_count": 43,
     "metadata": {},
     "output_type": "execute_result"
    }
   ],
   "source": [
    "fashion_model.evaluate(X_test, y_test)"
   ]
  },
  {
   "cell_type": "code",
   "execution_count": 60,
   "metadata": {},
   "outputs": [],
   "source": [
    "fashion_model.save('fashion_model.h5')"
   ]
  },
  {
   "cell_type": "code",
   "execution_count": 61,
   "metadata": {},
   "outputs": [],
   "source": [
    "from tensorflow.keras.models import load_model"
   ]
  },
  {
   "cell_type": "code",
   "execution_count": 62,
   "metadata": {},
   "outputs": [
    {
     "data": {
      "text/plain": [
       "<keras.engine.sequential.Sequential at 0x7fa602d09f70>"
      ]
     },
     "execution_count": 62,
     "metadata": {},
     "output_type": "execute_result"
    }
   ],
   "source": [
    "load_model('fashion_model.h5')"
   ]
  }
 ],
 "metadata": {
  "kernelspec": {
   "display_name": "ds_venv",
   "language": "python",
   "name": "python3"
  },
  "language_info": {
   "codemirror_mode": {
    "name": "ipython",
    "version": 3
   },
   "file_extension": ".py",
   "mimetype": "text/x-python",
   "name": "python",
   "nbconvert_exporter": "python",
   "pygments_lexer": "ipython3",
   "version": "3.10.7 (tags/v3.10.7:6cc6b13, Sep  5 2022, 14:08:36) [MSC v.1933 64 bit (AMD64)]"
  },
  "orig_nbformat": 4,
  "vscode": {
   "interpreter": {
    "hash": "c9dd179f9fe46d9fc94c1d82f61e7c197817dc70878df38f7369b93adcf65c18"
   }
  }
 },
 "nbformat": 4,
 "nbformat_minor": 2
}
